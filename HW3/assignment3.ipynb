{
 "cells": [
  {
   "cell_type": "markdown",
   "metadata": {},
   "source": [
    "# Лабораторная работа 3"
   ]
  },
  {
   "cell_type": "markdown",
   "metadata": {},
   "source": [
    "1) Полносвязная нейронная сеть ( Fully-Connected Neural Network)\n",
    "\n",
    "2) Нормализация по мини-батчам (Batch normalization)\n",
    "\n",
    "3) Dropout\n",
    "\n",
    "4) Сверточные нейронные сети (Convolutional Networks)"
   ]
  },
  {
   "cell_type": "code",
   "execution_count": null,
   "metadata": {},
   "outputs": [],
   "source": []
  },
  {
   "cell_type": "markdown",
   "metadata": {},
   "source": [
    "Лабораторные работы можно выполнять с использованием сервиса Google Colaboratory (https://medium.com/deep-learning-turkey/google-colab-free-gpu-tutorial-e113627b9f5d) или на локальном компьютере. "
   ]
  },
  {
   "cell_type": "markdown",
   "metadata": {},
   "source": [
    "# Полносвязная нейронная сеть"
   ]
  },
  {
   "cell_type": "markdown",
   "metadata": {},
   "source": [
    "В данной лабораторной работе необходимо будет реализовать полносвязную нейронную сеть, используя модульный подход. Для каждого  слоя реализации прямого и обратного проходов алгоритма обратного распространения ошибки будут иметь следующий вид:\n",
    "\n",
    "```python\n",
    "def layer_forward(x, w):\n",
    "  \"\"\" Receive inputs x and weights w \"\"\"\n",
    "  # Do some computations ...\n",
    "  z = # ... some intermediate value\n",
    "  # Do some more computations ...\n",
    "  out = # the output\n",
    "   \n",
    "  cache = (x, w, z, out) # Values we need to compute gradients\n",
    "   \n",
    "  return out, cache\n",
    "```\n",
    "\n",
    "\n",
    "\n",
    "```python\n",
    "def layer_backward(dout, cache):\n",
    "  \"\"\"\n",
    "  Receive dout (derivative of loss with respect to outputs) and cache,\n",
    "  and compute derivative with respect to inputs.\n",
    "  \"\"\"\n",
    "  # Unpack cache values\n",
    "  x, w, z, out = cache\n",
    "  \n",
    "  # Use values in cache to compute derivatives\n",
    "  dx = # Derivative of loss with respect to x\n",
    "  dw = # Derivative of loss with respect to w\n",
    "  \n",
    "  return dx, dw\n",
    "```\n",
    "\n",
    "    "
   ]
  },
  {
   "cell_type": "code",
   "execution_count": 1,
   "metadata": {},
   "outputs": [
    {
     "name": "stdout",
     "output_type": "stream",
     "text": [
      "=========== You can safely ignore the message below if you are NOT working on ConvolutionalNetworks.ipynb ===========\n",
      "\tYou will need to compile a Cython extension for a portion of this assignment.\n",
      "\tThe instructions to do this will be given in a section of the notebook below.\n",
      "\tThere will be an option for Colab users and another for Jupyter (local) users.\n"
     ]
    }
   ],
   "source": [
    "from __future__ import print_function\n",
    "import time\n",
    "import numpy as np\n",
    "import matplotlib.pyplot as plt\n",
    "from scripts_.classifiers.fc_net import *\n",
    "\n",
    "from scripts_.gradient_check import eval_numerical_gradient, eval_numerical_gradient_array\n",
    "from scripts_.solver import Solver\n",
    "from scripts_.classifiers.cnn import *\n",
    "from scripts_.layers import *\n",
    "from scripts_.fast_layers import *\n",
    "\n",
    "\n",
    "%matplotlib inline\n",
    "plt.rcParams['figure.figsize'] = (10.0, 8.0)  \n",
    "plt.rcParams['image.interpolation'] = 'nearest'\n",
    "plt.rcParams['image.cmap'] = 'gray'\n",
    "\n",
    "# for auto-reloading external modules\n",
    "# see http://stackoverflow.com/questions/1907993/autoreload-of-modules-in-ipython\n",
    "%load_ext autoreload\n",
    "%autoreload 2\n",
    "\n",
    "def rel_error(x, y):\n",
    "  \"\"\" returns relative error \"\"\"\n",
    "  return np.max(np.abs(x - y) / (np.maximum(1e-8, np.abs(x) + np.abs(y))))\n",
    "def print_mean_std(x,axis=0):\n",
    "    print('  means: ', x.mean(axis=axis))\n",
    "    print('  stds:  ', x.std(axis=axis))\n",
    "    print() "
   ]
  },
  {
   "cell_type": "markdown",
   "metadata": {},
   "source": [
    "Загрузите данные из предыдущей лабораторной работы. "
   ]
  },
  {
   "cell_type": "code",
   "execution_count": 2,
   "metadata": {},
   "outputs": [],
   "source": [
    "import keras\n",
    "from keras.datasets import mnist\n",
    "# (x_train, y_train), (x_test, y_test) = cifar10.load_data()\n",
    "(x_train, y_train), (x_test, y_test) = mnist.load_data()\n",
    "num_training = 5000\n",
    "train_subsample = list(range(num_training))\n",
    "x_train = x_train[train_subsample]\n",
    "y_train = y_train[train_subsample]\n",
    "\n",
    "num_test = 500\n",
    "test_subsample = list(range(num_test))\n",
    "x_test = x_test[test_subsample]\n",
    "y_test = y_test[test_subsample]\n",
    "\n",
    "# data = {\"X_train\": x_train, \"y_train\": y_train, \"X_test\": x_test, \"y_test\": y_test}\n"
   ]
  },
  {
   "cell_type": "code",
   "execution_count": 3,
   "metadata": {},
   "outputs": [
    {
     "name": "stdout",
     "output_type": "stream",
     "text": [
      "(1500, 28, 28) (1500,) (3500, 28, 28) (3500,) (500, 28, 28) (500,)\n"
     ]
    }
   ],
   "source": [
    "num_training = 5000\n",
    "val_shape = 0.3 *  y_train.shape[0]\n",
    "train_subsample = list(range(num_training))\n",
    "x_train, x_val =  np.array_split(x_train, [int(val_shape)])\n",
    "y_train, y_val = np.array_split(y_train, [int(val_shape)])\n",
    "\n",
    "print(x_train.shape, y_train.shape, x_val.shape, y_val.shape, x_test.shape, y_test.shape)\n",
    "\n",
    "x_train = x_train.reshape(x_train.shape[0], -1)  # Изменение формы на (N, 3072)\n",
    "x_val = x_val.reshape(x_val.shape[0], -1)  \n",
    "\n",
    "data = {\"X_train\": x_train, \"y_train\": y_train, \"X_val\": x_val, \"y_val\": y_val,\"X_test\": x_test, \"y_test\": y_test}\n"
   ]
  },
  {
   "cell_type": "markdown",
   "metadata": {},
   "source": [
    "Для полносвязного слоя реализуйте прямой проход (метод affine_forward в scripts/layers.py). Протестируйте свою реализацию. "
   ]
  },
  {
   "cell_type": "code",
   "execution_count": 4,
   "metadata": {},
   "outputs": [
    {
     "name": "stdout",
     "output_type": "stream",
     "text": [
      "Testing affine_forward function:\n",
      "difference:  9.769849468192957e-10\n"
     ]
    }
   ],
   "source": [
    "num_inputs = 2\n",
    "input_shape = (4, 5, 6)\n",
    "output_dim = 3\n",
    "\n",
    "input_size = num_inputs * np.prod(input_shape)\n",
    "weight_size = output_dim * np.prod(input_shape)\n",
    "\n",
    "x = np.linspace(-0.1, 0.5, num=input_size).reshape(num_inputs, *input_shape)\n",
    "w = np.linspace(-0.2, 0.3, num=weight_size).reshape(np.prod(input_shape), output_dim)\n",
    "b = np.linspace(-0.3, 0.1, num=output_dim)\n",
    "\n",
    "out, _ = affine_forward(x, w, b)\n",
    "correct_out = np.array([[ 1.49834967,  1.70660132,  1.91485297],\n",
    "                        [ 3.25553199,  3.5141327,   3.77273342]])\n",
    "\n",
    "\n",
    "print('Testing affine_forward function:')\n",
    "print('difference: ', rel_error(out, correct_out))"
   ]
  },
  {
   "cell_type": "markdown",
   "metadata": {},
   "source": [
    "Для полносвязного слоя реализуйте обратный проход (метод affine_backward в scripts/layers.py). Протестируйте свою реализацию. "
   ]
  },
  {
   "cell_type": "code",
   "execution_count": 5,
   "metadata": {},
   "outputs": [
    {
     "name": "stdout",
     "output_type": "stream",
     "text": [
      "Testing affine_backward function:\n",
      "dx error:  5.399100368651805e-11\n",
      "dw error:  9.904211865398145e-11\n",
      "db error:  2.4122867568119087e-11\n"
     ]
    }
   ],
   "source": [
    "np.random.seed(231)\n",
    "x = np.random.randn(10, 2, 3)\n",
    "w = np.random.randn(6, 5)\n",
    "b = np.random.randn(5)\n",
    "dout = np.random.randn(10, 5)\n",
    "\n",
    "dx_num = eval_numerical_gradient_array(lambda x: affine_forward(x, w, b)[0], x, dout)\n",
    "dw_num = eval_numerical_gradient_array(lambda w: affine_forward(x, w, b)[0], w, dout)\n",
    "db_num = eval_numerical_gradient_array(lambda b: affine_forward(x, w, b)[0], b, dout)\n",
    "\n",
    "_, cache = affine_forward(x, w, b)\n",
    "dx, dw, db = affine_backward(dout, cache)\n",
    "\n",
    "print('Testing affine_backward function:')\n",
    "print('dx error: ', rel_error(dx_num, dx))\n",
    "print('dw error: ', rel_error(dw_num, dw))\n",
    "print('db error: ', rel_error(db_num, db))"
   ]
  },
  {
   "cell_type": "markdown",
   "metadata": {},
   "source": [
    "Реализуйте прямой проход для слоя активации ReLU (relu_forward) и протестируйте его."
   ]
  },
  {
   "cell_type": "code",
   "execution_count": 6,
   "metadata": {},
   "outputs": [
    {
     "name": "stdout",
     "output_type": "stream",
     "text": [
      "Testing relu_forward function:\n",
      "difference:  4.999999798022158e-08\n"
     ]
    }
   ],
   "source": [
    "x = np.linspace(-0.5, 0.5, num=12).reshape(3, 4)\n",
    "\n",
    "out, _ = relu_forward(x)\n",
    "correct_out = np.array([[ 0.,          0.,          0.,          0.,        ],\n",
    "                        [ 0.,          0.,          0.04545455,  0.13636364,],\n",
    "                        [ 0.22727273,  0.31818182,  0.40909091,  0.5,       ]])\n",
    "\n",
    "# Compare your output with ours. The error should be on the order of e-8\n",
    "print('Testing relu_forward function:')\n",
    "print('difference: ', rel_error(out, correct_out))"
   ]
  },
  {
   "cell_type": "markdown",
   "metadata": {},
   "source": [
    "Реализуйте обратный проход для слоя активации ReLU (relu_backward ) и протестируйте его."
   ]
  },
  {
   "cell_type": "code",
   "execution_count": 7,
   "metadata": {},
   "outputs": [
    {
     "name": "stdout",
     "output_type": "stream",
     "text": [
      "Testing relu_backward function:\n",
      "dx error:  3.2756349136310288e-12\n"
     ]
    }
   ],
   "source": [
    "np.random.seed(231)\n",
    "x = np.random.randn(10, 10)\n",
    "dout = np.random.randn(*x.shape)\n",
    "\n",
    "dx_num = eval_numerical_gradient_array(lambda x: relu_forward(x)[0], x, dout)\n",
    "\n",
    "_, cache = relu_forward(x)\n",
    "dx = relu_backward(dout, cache)\n",
    "\n",
    "# The error should be on the order of e-12\n",
    "print('Testing relu_backward function:')\n",
    "print('dx error: ', rel_error(dx_num, dx))"
   ]
  },
  {
   "cell_type": "markdown",
   "metadata": {},
   "source": [
    "В скрипте /layer_utils.py приведены реализации прямого и обратного проходов для часто используемых комбинаций слоев. Например, за полносвязным слоем часто следует слой активации. Ознакомьтесь с функциями affine_relu_forward и affine_relu_backward, запустите код ниже и убедитесь, что ошибка порядка e-10 или ниже. "
   ]
  },
  {
   "cell_type": "code",
   "execution_count": 8,
   "metadata": {},
   "outputs": [
    {
     "name": "stdout",
     "output_type": "stream",
     "text": [
      "Testing affine_relu_forward and affine_relu_backward:\n",
      "dx error:  2.299579177309368e-11\n",
      "dw error:  8.162011105764925e-11\n",
      "db error:  7.826724021458994e-12\n"
     ]
    }
   ],
   "source": [
    "from scripts_.layer_utils import affine_relu_forward, affine_relu_backward\n",
    "np.random.seed(231)\n",
    "x = np.random.randn(2, 3, 4)\n",
    "w = np.random.randn(12, 10)\n",
    "b = np.random.randn(10)\n",
    "dout = np.random.randn(2, 10)\n",
    "\n",
    "out, cache = affine_relu_forward(x, w, b)\n",
    "dx, dw, db = affine_relu_backward(dout, cache)\n",
    "\n",
    "dx_num = eval_numerical_gradient_array(lambda x: affine_relu_forward(x, w, b)[0], x, dout)\n",
    "dw_num = eval_numerical_gradient_array(lambda w: affine_relu_forward(x, w, b)[0], w, dout)\n",
    "db_num = eval_numerical_gradient_array(lambda b: affine_relu_forward(x, w, b)[0], b, dout)\n",
    "\n",
    "# Relative error should be around e-10 or less\n",
    "print('Testing affine_relu_forward and affine_relu_backward:')\n",
    "print('dx error: ', rel_error(dx_num, dx))\n",
    "print('dw error: ', rel_error(dw_num, dw))\n",
    "print('db error: ', rel_error(db_num, db))"
   ]
  },
  {
   "cell_type": "markdown",
   "metadata": {},
   "source": [
    "Реализуйте двухслойную полносвязную сеть - класс TwoLayerNet в scripts/classifiers/fc_net.py . Проверьте свою реализацию, запустив код ниже. "
   ]
  },
  {
   "cell_type": "code",
   "execution_count": 9,
   "metadata": {},
   "outputs": [
    {
     "name": "stdout",
     "output_type": "stream",
     "text": [
      "Testing initialization ... \n",
      "Testing test-time forward pass ... \n",
      "Testing training loss (no regularization)\n",
      "Running numeric gradient check with reg =  0.0\n",
      "W1 relative error: 1.83e-08\n",
      "W2 relative error: 3.12e-10\n",
      "b1 relative error: 9.83e-09\n",
      "b2 relative error: 4.33e-10\n",
      "Running numeric gradient check with reg =  0.7\n",
      "W1 relative error: 2.53e-07\n",
      "W2 relative error: 2.85e-08\n",
      "b1 relative error: 1.56e-08\n",
      "b2 relative error: 7.76e-10\n"
     ]
    }
   ],
   "source": [
    "from scripts_.classifiers.fc_net import *\n",
    "\n",
    "np.random.seed(231)\n",
    "N, D, H, C = 3, 5, 50, 7\n",
    "X = np.random.randn(N, D)\n",
    "y = np.random.randint(C, size=N)\n",
    "\n",
    "std = 1e-3\n",
    "model = TwoLayerNet(input_dim=D, hidden_dim=H, num_classes=C, weight_scale=std)\n",
    "\n",
    "print('Testing initialization ... ')\n",
    "W1_std = abs(model.params['W1'].std() - std)\n",
    "b1 = model.params['b1']\n",
    "W2_std = abs(model.params['W2'].std() - std)\n",
    "b2 = model.params['b2']\n",
    "assert W1_std < std / 10, 'First layer weights do not seem right'\n",
    "assert np.all(b1 == 0), 'First layer biases do not seem right'\n",
    "assert W2_std < std / 10, 'Second layer weights do not seem right'\n",
    "assert np.all(b2 == 0), 'Second layer biases do not seem right'\n",
    "\n",
    "print('Testing test-time forward pass ... ')\n",
    "model.params['W1'] = np.linspace(-0.7, 0.3, num=D*H).reshape(D, H)\n",
    "model.params['b1'] = np.linspace(-0.1, 0.9, num=H)\n",
    "model.params['W2'] = np.linspace(-0.3, 0.4, num=H*C).reshape(H, C)\n",
    "model.params['b2'] = np.linspace(-0.9, 0.1, num=C)\n",
    "X = np.linspace(-5.5, 4.5, num=N*D).reshape(D, N).T\n",
    "scores = model.loss(X)\n",
    "correct_scores = np.asarray(\n",
    "  [[11.53165108,  12.2917344,   13.05181771,  13.81190102,  14.57198434, 15.33206765,  16.09215096],\n",
    "   [12.05769098,  12.74614105,  13.43459113,  14.1230412,   14.81149128, 15.49994135,  16.18839143],\n",
    "   [12.58373087,  13.20054771,  13.81736455,  14.43418138,  15.05099822, 15.66781506,  16.2846319 ]])\n",
    "scores_diff = np.abs(scores - correct_scores).sum()\n",
    "assert scores_diff < 1e-6, 'Problem with test-time forward pass'\n",
    "\n",
    "print('Testing training loss (no regularization)')\n",
    "y = np.asarray([0, 5, 1])\n",
    "loss, grads = model.loss(X, y)\n",
    "correct_loss = 3.4702243556\n",
    "assert abs(loss - correct_loss) < 1e-10, 'Problem with training-time loss'\n",
    "\n",
    "model.reg = 1.0\n",
    "loss, grads = model.loss(X, y)\n",
    "correct_loss = 26.5948426952\n",
    "assert abs(loss - correct_loss) < 1e-10, 'Problem with regularization loss'\n",
    "# Errors should be around e-7 or less\n",
    "for reg in [0.0, 0.7]:\n",
    "  print('Running numeric gradient check with reg = ', reg)\n",
    "  model.reg = reg\n",
    "  loss, grads = model.loss(X, y)\n",
    "\n",
    "  for name in sorted(grads):\n",
    "    f = lambda _: model.loss(X, y)[0]\n",
    "    grad_num = eval_numerical_gradient(f, model.params[name], verbose=False)\n",
    "    print('%s relative error: %.2e' % (name, rel_error(grad_num, grads[name])))"
   ]
  },
  {
   "cell_type": "markdown",
   "metadata": {},
   "source": [
    "Ознакомьтесь с API для обучения и тестирования моделей в scripts/solver.py . Используйте экземпляр класса Solver для обучения двухслойной полносвязной сети. Необходимо достичь минимум 50% верно классифицированных объектов на валидационном наборе. "
   ]
  },
  {
   "cell_type": "code",
   "execution_count": null,
   "metadata": {},
   "outputs": [
    {
     "ename": "TypeError",
     "evalue": "Solver.__init__() takes 3 positional arguments but 6 were given",
     "output_type": "error",
     "traceback": [
      "\u001b[1;31m---------------------------------------------------------------------------\u001b[0m",
      "\u001b[1;31mTypeError\u001b[0m                                 Traceback (most recent call last)",
      "Cell \u001b[1;32mIn[11], line 14\u001b[0m\n\u001b[0;32m      6\u001b[0m \u001b[38;5;28;01mfrom\u001b[39;00m \u001b[38;5;21;01mscripts_\u001b[39;00m\u001b[38;5;21;01m.\u001b[39;00m\u001b[38;5;21;01msolver\u001b[39;00m \u001b[38;5;28;01mimport\u001b[39;00m \u001b[38;5;241m*\u001b[39m\n\u001b[0;32m      9\u001b[0m model \u001b[38;5;241m=\u001b[39m FullyConnectedNet(\n\u001b[0;32m     10\u001b[0m     [\u001b[38;5;241m100\u001b[39m, \u001b[38;5;241m100\u001b[39m],\n\u001b[0;32m     11\u001b[0m     weight_scale\u001b[38;5;241m=\u001b[39mweight_scale,\n\u001b[0;32m     12\u001b[0m     dtype\u001b[38;5;241m=\u001b[39mnp\u001b[38;5;241m.\u001b[39mfloat64\n\u001b[0;32m     13\u001b[0m )\n\u001b[1;32m---> 14\u001b[0m solver \u001b[38;5;241m=\u001b[39m \u001b[43mSolver\u001b[49m\u001b[43m(\u001b[49m\n\u001b[0;32m     15\u001b[0m \u001b[43m    \u001b[49m\u001b[43mmodel\u001b[49m\u001b[43m,\u001b[49m\n\u001b[0;32m     16\u001b[0m \u001b[43m    \u001b[49m\u001b[43mx_train\u001b[49m\u001b[43m,\u001b[49m\u001b[43m \u001b[49m\u001b[43my_train\u001b[49m\u001b[43m,\u001b[49m\u001b[43m \u001b[49m\u001b[43mx_val\u001b[49m\u001b[43m,\u001b[49m\u001b[43m \u001b[49m\u001b[43my_val\u001b[49m\u001b[43m,\u001b[49m\n\u001b[0;32m     17\u001b[0m \u001b[43m    \u001b[49m\u001b[43mprint_every\u001b[49m\u001b[38;5;241;43m=\u001b[39;49m\u001b[38;5;241;43m10\u001b[39;49m\u001b[43m,\u001b[49m\n\u001b[0;32m     18\u001b[0m \u001b[43m    \u001b[49m\u001b[43mnum_epochs\u001b[49m\u001b[38;5;241;43m=\u001b[39;49m\u001b[38;5;241;43m20\u001b[39;49m\u001b[43m,\u001b[49m\n\u001b[0;32m     19\u001b[0m \u001b[43m    \u001b[49m\u001b[43mbatch_size\u001b[49m\u001b[38;5;241;43m=\u001b[39;49m\u001b[38;5;241;43m25\u001b[39;49m\u001b[43m,\u001b[49m\n\u001b[0;32m     20\u001b[0m \u001b[43m    \u001b[49m\u001b[43mupdate_rule\u001b[49m\u001b[38;5;241;43m=\u001b[39;49m\u001b[38;5;124;43m\"\u001b[39;49m\u001b[38;5;124;43msgd\u001b[39;49m\u001b[38;5;124;43m\"\u001b[39;49m\u001b[43m,\u001b[49m\n\u001b[0;32m     21\u001b[0m \u001b[43m    \u001b[49m\u001b[43moptim_config\u001b[49m\u001b[38;5;241;43m=\u001b[39;49m\u001b[43m{\u001b[49m\u001b[38;5;124;43m\"\u001b[39;49m\u001b[38;5;124;43mlearning_rate\u001b[39;49m\u001b[38;5;124;43m\"\u001b[39;49m\u001b[43m:\u001b[49m\u001b[43m \u001b[49m\u001b[43mlearning_rate\u001b[49m\u001b[43m}\u001b[49m\u001b[43m,\u001b[49m\n\u001b[0;32m     22\u001b[0m \u001b[43m)\u001b[49m\n\u001b[0;32m     23\u001b[0m solver\u001b[38;5;241m.\u001b[39mtrain()\n",
      "\u001b[1;31mTypeError\u001b[0m: Solver.__init__() takes 3 positional arguments but 6 were given"
     ]
    }
   ],
   "source": [
    "# from cs231n.data_utils import get_CIFAR10_data\n",
    "weight_scale = 3e-2   # Experiment with this!\n",
    "learning_rate = 4e-3  # Experiment with this!\n",
    "\n",
    "from scripts_.classifiers.fc_net import FullyConnectedNet\n",
    "from scripts_.solver import *\n",
    "\n",
    "\n",
    "model = FullyConnectedNet(\n",
    "    [100, 100],\n",
    "    weight_scale=weight_scale,\n",
    "    dtype=np.float64\n",
    ")\n",
    "solver = Solver(\n",
    "    model,\n",
    "    x_train, y_train, x_val, y_val,\n",
    "    print_every=10,\n",
    "    num_epochs=20,\n",
    "    batch_size=25,\n",
    "    update_rule=\"sgd\",\n",
    "    optim_config={\"learning_rate\": learning_rate},\n",
    ")\n",
    "solver.train()"
   ]
  },
  {
   "cell_type": "code",
   "execution_count": null,
   "metadata": {},
   "outputs": [
    {
     "data": {
      "text/plain": [
       "3072"
      ]
     },
     "execution_count": 31,
     "metadata": {},
     "output_type": "execute_result"
    }
   ],
   "source": []
  },
  {
   "cell_type": "code",
   "execution_count": 10,
   "metadata": {},
   "outputs": [
    {
     "name": "stdout",
     "output_type": "stream",
     "text": [
      "(Iteration 1 / 210) loss: 2.346484\n",
      "(Epoch 0 / 35) train acc: 0.128000; val_acc: 0.157714\n",
      "(Epoch 1 / 35) train acc: 0.559000; val_acc: 0.536571\n",
      "(Epoch 2 / 35) train acc: 0.579000; val_acc: 0.589714\n",
      "(Epoch 3 / 35) train acc: 0.564000; val_acc: 0.570000\n",
      "(Epoch 4 / 35) train acc: 0.758000; val_acc: 0.711429\n",
      "(Epoch 5 / 35) train acc: 0.777000; val_acc: 0.778571\n",
      "(Epoch 6 / 35) train acc: 0.771000; val_acc: 0.750857\n",
      "(Epoch 7 / 35) train acc: 0.800000; val_acc: 0.788286\n",
      "(Epoch 8 / 35) train acc: 0.847000; val_acc: 0.815714\n",
      "(Epoch 9 / 35) train acc: 0.838000; val_acc: 0.823429\n",
      "(Epoch 10 / 35) train acc: 0.832000; val_acc: 0.835143\n",
      "(Epoch 11 / 35) train acc: 0.853000; val_acc: 0.837714\n",
      "(Epoch 12 / 35) train acc: 0.855000; val_acc: 0.838286\n",
      "(Epoch 13 / 35) train acc: 0.848000; val_acc: 0.843714\n",
      "(Epoch 14 / 35) train acc: 0.880000; val_acc: 0.852857\n",
      "(Epoch 15 / 35) train acc: 0.870000; val_acc: 0.855714\n",
      "(Epoch 16 / 35) train acc: 0.879000; val_acc: 0.857714\n",
      "(Iteration 101 / 210) loss: 0.551085\n",
      "(Epoch 17 / 35) train acc: 0.884000; val_acc: 0.860857\n",
      "(Epoch 18 / 35) train acc: 0.887000; val_acc: 0.862286\n",
      "(Epoch 19 / 35) train acc: 0.914000; val_acc: 0.864286\n",
      "(Epoch 20 / 35) train acc: 0.890000; val_acc: 0.867429\n",
      "(Epoch 21 / 35) train acc: 0.881000; val_acc: 0.863714\n",
      "(Epoch 22 / 35) train acc: 0.912000; val_acc: 0.867714\n",
      "(Epoch 23 / 35) train acc: 0.899000; val_acc: 0.860571\n",
      "(Epoch 24 / 35) train acc: 0.887000; val_acc: 0.866000\n",
      "(Epoch 25 / 35) train acc: 0.886000; val_acc: 0.869714\n",
      "(Epoch 26 / 35) train acc: 0.897000; val_acc: 0.868286\n",
      "(Epoch 27 / 35) train acc: 0.911000; val_acc: 0.869429\n",
      "(Epoch 28 / 35) train acc: 0.892000; val_acc: 0.871714\n",
      "(Epoch 29 / 35) train acc: 0.906000; val_acc: 0.871143\n",
      "(Epoch 30 / 35) train acc: 0.907000; val_acc: 0.873143\n",
      "(Epoch 31 / 35) train acc: 0.907000; val_acc: 0.871143\n",
      "(Epoch 32 / 35) train acc: 0.899000; val_acc: 0.874000\n",
      "(Epoch 33 / 35) train acc: 0.903000; val_acc: 0.871714\n",
      "(Iteration 201 / 210) loss: 0.405184\n",
      "(Epoch 34 / 35) train acc: 0.900000; val_acc: 0.872857\n",
      "(Epoch 35 / 35) train acc: 0.900000; val_acc: 0.876000\n"
     ]
    }
   ],
   "source": [
    "from scripts_.solver import *\n",
    "\n",
    "from scripts_.classifiers import *\n",
    "\n",
    "model = TwoLayerNet(hidden_dim = 200,reg = 0.5)\n",
    "solver = Solver(model, data,\n",
    "                update_rule='sgd',\n",
    "                optim_config={\n",
    "                    'learning_rate': 1e-3,\n",
    "                },\n",
    "                lr_decay=0.95,\n",
    "                num_epochs=35, batch_size=250,\n",
    "                print_every=100)\n",
    "\n",
    "\n",
    "##############################################################################\n",
    "# TODO: Use a Solver instance to train a TwoLayerNet that achieves at least  #\n",
    "# 50% accuracy on the validation set.                                        #\n",
    "##############################################################################\n",
    "# *****START OF YOUR CODE (DO NOT DELETE/MODIFY THIS LINE)*****\n",
    "\n",
    "solver.train()\n",
    "\n",
    "# *****END OF YOUR CODE (DO NOT DELETE/MODIFY THIS LINE)*****\n",
    "##############################################################################\n",
    "#                             END OF YOUR CODE                               #\n",
    "##############################################################################\n",
    "\n"
   ]
  },
  {
   "cell_type": "code",
   "execution_count": 11,
   "metadata": {},
   "outputs": [
    {
     "data": {
      "image/png": "[encoded data removed]",
      "text/plain": [
       "<Figure size 1500x1200 with 2 Axes>"
      ]
     },
     "metadata": {},
     "output_type": "display_data"
    }
   ],
   "source": [
    "plt.subplot(2, 1, 1)\n",
    "plt.title('Training loss')\n",
    "plt.plot(solver.loss_history, 'o')\n",
    "plt.xlabel('Iteration')\n",
    "\n",
    "plt.subplot(2, 1, 2)\n",
    "plt.title('Accuracy')\n",
    "plt.plot(solver.train_acc_history, '-o', label='train')\n",
    "plt.plot(solver.val_acc_history, '-o', label='val')\n",
    "plt.plot([0.5] * len(solver.val_acc_history), 'k--')\n",
    "plt.xlabel('Epoch')\n",
    "plt.legend(loc='lower right')\n",
    "plt.gcf().set_size_inches(15, 12)\n",
    "plt.show()"
   ]
  },
  {
   "cell_type": "markdown",
   "metadata": {},
   "source": [
    "Теперь реализуйте полносвязную сеть с произвольным числом скрытых слоев. Ознакомьтесь с классом FullyConnectedNet в scripts/classifiers/fc_net.py . Реализуйте инициализацию, прямой и обратный проходы."
   ]
  },
  {
   "cell_type": "code",
   "execution_count": 19,
   "metadata": {},
   "outputs": [
    {
     "name": "stderr",
     "output_type": "stream",
     "text": [
      "ic| x: (array([[0.00303221, 0.01567412, 0.00501193, 0.29047701, 0.        ,\n",
      "               0.00846244, 0.13687321, 0.08670895, 0.        , 0.15333479,\n",
      "               0.07423436, 0.01138801, 0.        , 0.        , 0.        ,\n",
      "               0.        , 0.        , 0.        , 0.        , 0.22824173],\n",
      "              [0.        , 0.07242328, 0.        , 0.04746884, 0.08911829,\n",
      "               0.19741909, 0.        , 0.        , 0.13996117, 0.10426446,\n",
      "               0.        , 0.14019608, 0.02313242, 0.06848749, 0.00210143,\n",
      "               0.10211484, 0.        , 0.        , 0.        , 0.09774359]]),\n",
      "        array([[ 2.63113991e-02,  1.27266552e-02,  2.19024250e-02,\n",
      "               -4.96716455e-02, -3.11234051e-02,  5.33840733e-02,\n",
      "               -8.07424611e-02,  5.71809252e-02,  1.41586570e-02,\n",
      "               -5.18834256e-02,  3.17029190e-03,  1.90842744e-02,\n",
      "                5.85018509e-02,  5.51747328e-03,  2.25759366e-02,\n",
      "                5.29809662e-02,  5.59213278e-02,  4.28860963e-02,\n",
      "               -7.40499478e-02,  7.64703626e-02, -5.62113879e-02,\n",
      "               -3.04088427e-02, -4.98172123e-02,  9.12465454e-02,\n",
      "                6.13657798e-02, -1.43233033e-03,  5.82825172e-02,\n",
      "               -6.75022907e-03,  6.98938376e-02,  6.19498460e-02],\n",
      "              [ 4.38558683e-02, -1.46133689e-02,  3.93316372e-02,\n",
      "               -1.23829969e-02, -2.29777582e-03,  2.52416542e-02,\n",
      "                2.27749748e-03,  4.65337059e-02, -3.63989819e-02,\n",
      "               -1.34538293e-02, -5.20748828e-02, -5.44324773e-02,\n",
      "               -1.63147944e-02,  1.06754654e-02,  1.74127600e-02,\n",
      "                2.47382804e-02,  1.00073003e-01,  1.37896454e-01,\n",
      "                5.31156877e-02,  6.61573095e-02,  5.69971310e-03,\n",
      "               -4.55048380e-02,  1.36025246e-02,  1.22743530e-02,\n",
      "                1.04559861e-01,  4.45243192e-02,  8.28693047e-02,\n",
      "                1.13097537e-04, -5.49827215e-03,  4.46716807e-02],\n",
      "              [ 2.75234233e-03,  5.33172198e-02, -1.32253388e-02,\n",
      "                1.51588503e-02, -9.11811506e-02,  5.27049206e-02,\n",
      "                6.51400286e-02,  9.95917303e-02,  3.28622058e-02,\n",
      "                5.58317348e-03, -2.75289488e-02,  4.68633913e-02,\n",
      "                2.09550718e-02, -2.21707376e-02, -4.94956139e-03,\n",
      "               -7.01299900e-02, -4.61528760e-02, -5.91145506e-02,\n",
      "                2.71341418e-02,  5.43408495e-02,  7.48125513e-02,\n",
      "               -7.12577066e-02,  2.77173177e-02, -2.22217479e-02,\n",
      "                8.95658654e-02, -5.79857644e-02,  5.85948300e-02,\n",
      "                5.18311221e-02, -2.10244650e-02,  5.58587718e-02],\n",
      "              [-1.10742367e-02, -1.26114496e-01, -1.65304048e-02,\n",
      "               -5.72874294e-02,  7.28975019e-02,  7.13891731e-02,\n",
      "               -4.95160367e-02,  2.10927776e-02,  2.97276646e-02,\n",
      "               -9.68029740e-02,  2.47074497e-02,  1.85969892e-02,\n",
      "                8.77264782e-02,  6.10508580e-02,  2.41146179e-02,\n",
      "                8.19397127e-03, -3.14046468e-02, -5.10539424e-02,\n",
      "                4.56764377e-03, -3.74471591e-02, -7.77926277e-02,\n"
     ]
    },
    {
     "name": "stdout",
     "output_type": "stream",
     "text": [
      "Running check with reg =  0\n",
      "X shape: (2, 15)\n",
      "scores shape: (2, 10)\n",
      "Shape of x[0]: (2, 20)\n",
      "Shape of dout: (2, 30)\n"
     ]
    },
    {
     "name": "stderr",
     "output_type": "stream",
     "text": [
      "                1.16911739e-02, -2.92188203e-03,  2.24942481e-02,\n",
      "                1.04828651e-01,  1.95357472e-02,  6.29482828e-02,\n",
      "                4.27966999e-03,  7.93196730e-02, -1.61183128e-02],\n",
      "              [-1.28533524e-02,  1.91412060e-02,  3.31471996e-03,\n",
      "                6.41198426e-02,  9.69808177e-02, -2.23038960e-02,\n",
      "                7.46869285e-03,  3.25623195e-02, -1.35404214e-02,\n",
      "               -4.56213567e-02, -4.08050630e-03,  3.96368727e-02,\n",
      "               -6.35221622e-02, -1.32001555e-02,  1.20701355e-01,\n",
      "               -3.82784400e-02,  4.73125458e-02, -3.07269264e-02,\n",
      "                6.33758250e-03, -5.42136455e-02,  8.08026719e-02,\n",
      "               -4.21793727e-03,  1.21517801e-02, -5.20005619e-02,\n",
      "                6.77038405e-02, -1.66559399e-03,  4.90613308e-02,\n",
      "               -1.19561142e-02,  1.08412820e-01,  2.60853959e-02],\n",
      "              [-4.77605387e-03, -1.78166191e-02, -3.78013354e-02,\n",
      "                1.08673205e-01,  3.11728294e-02, -6.71468216e-02,\n",
      "               -4.30639288e-02,  3.97351660e-02, -2.26006166e-02,\n",
      "               -4.61302986e-02, -1.85046601e-02, -8.61642806e-02,\n",
      "                1.28854397e-01, -3.07921198e-02, -3.37682171e-02,\n",
      "                1.36947798e-02,  2.41776892e-02,  9.99028734e-03,\n",
      "                3.28263698e-02, -5.47074484e-02, -2.80792493e-02,\n",
      "                1.02924727e-02,  2.63882198e-02,  3.34309744e-03,\n",
      "                3.28122425e-03, -1.95050489e-03,  1.38537900e-02,\n",
      "                3.20927161e-02, -7.89433012e-02,  1.67005554e-02],\n",
      "              [ 6.99784784e-02, -2.12874606e-02, -2.84459386e-02,\n",
      "                3.57106899e-02, -2.55290890e-02, -4.25756152e-02,\n",
      "                4.70572310e-02,  8.66489988e-02, -4.37507213e-02,\n",
      "                9.16717596e-02,  8.10774208e-02,  2.93200667e-03,\n",
      "                8.58513212e-02, -1.08487337e-02, -2.56516993e-02,\n",
      "                2.55969566e-02, -8.08621818e-02,  3.87384899e-02,\n",
      "               -1.69132711e-02, -9.98426511e-03,  6.00808935e-02,\n",
      "                4.93133739e-02, -1.57624497e-01, -8.97629979e-02,\n",
      "               -1.42783103e-01, -3.58318404e-02,  2.75786231e-02,\n",
      "                2.47663077e-03,  7.27694793e-02, -3.89660174e-02],\n",
      "              [-5.43322913e-02,  1.84536201e-02, -1.27928539e-02,\n",
      "               -7.79533348e-02, -7.39162047e-02,  9.20992074e-04,\n",
      "                2.66220997e-02, -1.39113822e-02, -1.10798659e-02,\n",
      "               -7.52466832e-02,  6.17563394e-02,  1.44095549e-02,\n",
      "               -9.62734686e-02, -7.99969049e-02, -8.02301835e-02,\n",
      "                7.73965498e-02,  6.99913878e-02, -3.02421063e-02,\n",
      "                8.82440387e-02, -1.24633421e-03, -3.75844594e-03,\n",
      "               -2.49611460e-04, -3.72504021e-02, -1.70022959e-02,\n",
      "               -9.39051329e-03, -3.47889382e-02,  2.26012964e-02,\n",
      "                5.49429004e-03, -1.90447205e-02, -6.85889577e-02],\n",
      "              [-2.42194660e-02, -2.52474579e-02,  2.69897908e-02,\n",
      "               -2.92241126e-02,  1.00897888e-02,  3.57163048e-02,\n",
      "                9.58573205e-02,  4.21837483e-02,  1.11699823e-01,\n",
      "                8.07381115e-03, -4.44536713e-03, -4.41632553e-02,\n",
      "                3.04000860e-02,  1.06622672e-04,  2.71510498e-02,\n",
      "                5.96681788e-03, -1.38233310e-02, -4.90583504e-02,\n",
      "               -2.19721713e-02, -4.90231211e-02, -5.93431875e-02,\n",
      "               -2.00696502e-02, -3.43090201e-02,  3.40023565e-03,\n",
      "               -5.82828632e-02,  2.42261996e-02,  4.08838317e-02,\n",
      "               -7.28290810e-02, -3.03284167e-02,  4.83895696e-02],\n",
      "              [-9.48081936e-02, -6.08168561e-02,  7.02051009e-02,\n",
      "               -4.67230404e-02, -1.41101991e-02,  3.53315553e-02,\n",
      "               -1.26351616e-01,  7.29037969e-02, -1.49626890e-03,\n",
      "               -1.13043700e-02,  5.08435066e-02, -8.64680050e-02,\n",
      "                1.13835381e-01,  5.71575718e-02,  3.62102015e-02,\n",
      "               -3.52103952e-02,  2.84014993e-02,  3.60017236e-02,\n",
      "               -1.67421216e-02, -9.07696996e-02,  6.59237318e-02,\n",
      "                9.22575943e-02, -7.07460390e-02, -3.09543380e-02,\n",
      "               -3.01084549e-04,  7.87438390e-02, -5.72463395e-02,\n",
      "                5.79998003e-02, -2.65151830e-02,  4.42770366e-02],\n",
      "              [-5.05651197e-04, -6.59985539e-02, -4.04335531e-02,\n",
      "               -2.25301309e-02, -7.33389010e-03,  1.05107504e-02,\n",
      "                2.86223749e-02, -2.91710203e-02, -3.44373718e-02,\n",
      "               -3.08571783e-02,  8.65269346e-02,  3.13889044e-02,\n",
      "               -2.33737173e-02, -2.51420010e-02, -6.92433115e-02,\n",
      "                3.12471680e-02,  1.41770157e-02,  3.14629165e-03,\n",
      "                9.82189645e-03,  8.69395622e-02, -7.41593550e-02,\n",
      "                7.26923065e-02,  7.17672252e-02, -7.62838334e-02,\n",
      "                6.41516534e-03,  3.42994807e-02, -7.67634332e-03,\n",
      "                9.36483382e-02, -4.17070401e-02,  3.35095474e-02],\n",
      "              [ 3.19827304e-02, -2.33053658e-02,  4.72092726e-02,\n",
      "               -2.34786819e-02,  5.58735006e-03, -2.43349517e-02,\n",
      "               -2.54076458e-02, -2.07218406e-02, -4.56775306e-02,\n",
      "                3.00088575e-02,  3.49462697e-03, -6.26404570e-02,\n",
      "               -5.16652328e-02,  2.14646410e-02, -3.21951988e-02,\n",
      "                4.59506863e-03,  5.95267688e-02,  1.46918024e-02,\n",
      "               -5.64121460e-02,  5.17540324e-02,  6.09012875e-02,\n",
      "                1.05622253e-02,  5.45671002e-02,  1.34486179e-02,\n",
      "                7.48653176e-02, -3.70429200e-02, -3.30063671e-02,\n",
      "               -1.22372561e-02,  4.26939712e-02, -6.78033724e-02],\n",
      "              [ 3.24547795e-02, -1.97287528e-02,  6.14923710e-03,\n",
      "               -1.10620868e-02,  1.53049786e-02, -3.35727426e-02,\n",
      "               -1.89426909e-02, -1.10389237e-03,  6.58977038e-04,\n",
      "                4.31542342e-02,  1.38152495e-02, -4.80021546e-02,\n",
      "                1.82950561e-02, -1.29707593e-01,  2.05531886e-02,\n",
      "               -3.65276763e-02,  7.11853691e-03, -3.15236195e-02,\n",
      "               -1.98010725e-02, -1.18829385e-01,  5.91290821e-04,\n",
      "                2.97231692e-02, -9.57493259e-02,  4.73188978e-02,\n",
      "               -4.78086608e-03,  1.23990984e-01, -6.33448133e-03,\n",
      "                2.60600970e-02, -5.79547014e-02,  5.49954175e-03],\n",
      "              [-7.84833989e-02, -5.93232074e-02,  2.99962608e-02,\n",
      "                1.42996938e-02,  3.80191841e-03, -4.61435071e-02,\n",
      "                4.43054859e-02, -1.57497737e-02, -1.03153992e-01,\n",
      "               -4.21123227e-02, -3.72309465e-02,  5.03287402e-02,\n",
      "               -4.96887699e-02, -1.41743651e-02, -2.38823810e-02,\n",
      "               -1.56010072e-02, -2.51260725e-02, -3.61578134e-02,\n",
      "               -4.81286493e-02,  2.30264691e-02, -1.09295892e-02,\n",
      "               -1.31103972e-01, -9.96253411e-02, -2.53990371e-02,\n",
      "               -2.31715390e-02, -1.93317638e-02,  2.78760771e-02,\n",
      "                3.84191720e-02,  2.66108234e-02,  6.88051872e-02],\n",
      "              [-2.07345576e-02,  1.50378341e-02,  3.35503447e-02,\n",
      "               -6.12496191e-02, -1.04158127e-02,  1.93288392e-02,\n",
      "                2.72414473e-02, -3.70669984e-02,  3.12588296e-02,\n",
      "                1.07009726e-02,  3.77992898e-02, -1.48606956e-02,\n",
      "               -9.71185909e-02, -3.56871352e-02, -1.30117309e-01,\n",
      "               -2.39203922e-02,  7.33098152e-02, -1.98520024e-02,\n",
      "               -6.57703502e-03,  4.38204713e-02,  5.10647711e-03,\n",
      "               -3.76322642e-02,  7.52671685e-02, -4.98896138e-02,\n",
      "                2.53114532e-02,  2.91742274e-02, -5.06093289e-02,\n",
      "               -7.96247596e-02, -3.12741274e-02,  4.78879291e-02],\n",
      "              [ 1.33078969e-02,  1.63218888e-02, -7.93868317e-02,\n",
      "               -2.62537315e-02, -3.36051068e-02, -9.59050171e-03,\n",
      "               -1.43334457e-02,  8.27876500e-03,  4.48522962e-02,\n",
      "                6.29761507e-03, -3.32466164e-02, -1.10116822e-01,\n",
      "               -4.39677764e-02, -5.55083804e-02, -4.52448553e-02,\n",
      "               -1.23096683e-02,  1.69434841e-03, -2.52558044e-02,\n",
      "                2.06142418e-02, -7.09148363e-02, -1.16596010e-01,\n",
      "                1.09891647e-01,  3.17199005e-02,  2.48839120e-02,\n",
      "               -3.66662457e-03,  5.33646516e-02, -9.56330729e-02,\n",
      "                6.14302563e-02, -3.99350510e-02, -1.35126247e-02],\n",
      "              [-1.40902587e-02,  1.37397422e-02, -2.14896594e-02,\n",
      "                1.62691850e-02, -2.04656389e-02, -6.98061472e-02,\n",
      "                1.00323449e-03,  3.29072371e-02, -1.00066566e-03,\n",
      "               -3.74187525e-02,  8.07037355e-02,  1.60144961e-02,\n",
      "                1.15735618e-02,  3.13637565e-02,  4.03962952e-02,\n",
      "                6.17050812e-03, -6.20291610e-02, -7.31854844e-03,\n",
      "                1.11190105e-02, -3.21879138e-02, -1.65925918e-02,\n",
      "               -1.02411431e-02, -5.62949160e-02, -5.62644446e-02,\n",
      "               -2.85480411e-02,  5.38970193e-02, -6.94457810e-02,\n",
      "               -1.74103058e-02, -9.49887560e-05,  4.97759798e-02],\n",
      "              [ 4.47310875e-03,  4.90395975e-02,  3.34641512e-02,\n",
      "                7.97043963e-02,  6.64873364e-03,  8.32067767e-03,\n",
      "                3.96164226e-02,  8.83507415e-02, -2.27173562e-02,\n",
      "                2.01148073e-02,  1.90450204e-02,  1.82368215e-02,\n",
      "                2.40426602e-02, -4.87045161e-02,  6.38577278e-02,\n",
      "               -4.60390800e-02, -2.45576777e-03, -4.03024826e-02,\n",
      "               -8.90190721e-03, -2.69219864e-02,  2.03655949e-03,\n",
      "                3.53380240e-02, -2.11318639e-02,  2.09773324e-03,\n",
      "                4.18215202e-02, -5.76981108e-02, -3.50125709e-02,\n",
      "               -4.94139285e-02, -5.56521031e-02,  2.81641319e-02],\n",
      "              [ 2.11943711e-02,  6.38829994e-02, -2.86958841e-02,\n",
      "                2.42388293e-02, -4.59680515e-03,  1.80581520e-02,\n",
      "               -1.62902836e-02, -6.54235290e-02,  3.47917033e-02,\n",
      "                8.61927502e-02,  9.02886291e-02,  7.74122615e-03,\n",
      "               -2.31690807e-02,  6.82547073e-02,  8.94234244e-02,\n",
      "               -2.66693769e-03, -5.18252437e-03,  5.46651349e-02,\n",
      "               -4.83131922e-02,  9.79537157e-02,  5.13048765e-02,\n",
      "                4.09922217e-02,  1.23828637e-02,  4.96644652e-02,\n",
      "               -6.39777519e-03, -9.59639060e-03,  9.29709460e-03,\n",
      "               -1.60384930e-02, -1.03836673e-01, -6.58399651e-03],\n",
      "              [-4.16025847e-02, -3.43435346e-03,  3.72283580e-02,\n",
      "                2.93149188e-02,  2.32214894e-02, -5.99864185e-02,\n",
      "               -6.01315488e-02,  3.73302463e-02,  6.07343951e-02,\n",
      "               -3.45128023e-03,  4.96833940e-02, -7.81350502e-02,\n",
      "               -1.18766304e-02,  1.31774510e-01, -6.93117016e-03,\n",
      "               -4.08743352e-02,  5.25066507e-02, -2.84772783e-02,\n",
      "                7.35848301e-02, -6.28183705e-02,  2.99954778e-02,\n",
      "               -1.56555149e-02, -3.43626099e-02,  9.99819394e-03,\n",
      "               -3.38382885e-02, -7.09033944e-03,  1.35055721e-02,\n",
      "               -4.53871157e-02,  2.23546321e-02, -5.27681717e-03]]),\n",
      "        array([0., 0., 0., 0., 0., 0., 0., 0., 0., 0., 0., 0., 0., 0., 0., 0., 0.,\n",
      "              0., 0., 0., 0., 0., 0., 0., 0., 0., 0., 0., 0., 0.]))\n"
     ]
    },
    {
     "ename": "ValueError",
     "evalue": "not enough values to unpack (expected 3, got 2)",
     "output_type": "error",
     "traceback": [
      "\u001b[1;31m---------------------------------------------------------------------------\u001b[0m",
      "\u001b[1;31mValueError\u001b[0m                                Traceback (most recent call last)",
      "Cell \u001b[1;32mIn[19], line 11\u001b[0m\n\u001b[0;32m      7\u001b[0m \u001b[38;5;28mprint\u001b[39m(\u001b[38;5;124m'\u001b[39m\u001b[38;5;124mRunning check with reg = \u001b[39m\u001b[38;5;124m'\u001b[39m, reg)\n\u001b[0;32m      8\u001b[0m model \u001b[38;5;241m=\u001b[39m FullyConnectedNet([H1, H2], input_dim\u001b[38;5;241m=\u001b[39mD, num_classes\u001b[38;5;241m=\u001b[39mC,\n\u001b[0;32m      9\u001b[0m                           reg\u001b[38;5;241m=\u001b[39mreg, weight_scale\u001b[38;5;241m=\u001b[39m\u001b[38;5;241m5e-2\u001b[39m, dtype\u001b[38;5;241m=\u001b[39mnp\u001b[38;5;241m.\u001b[39mfloat64)\n\u001b[1;32m---> 11\u001b[0m loss, grads \u001b[38;5;241m=\u001b[39m \u001b[43mmodel\u001b[49m\u001b[38;5;241;43m.\u001b[39;49m\u001b[43mloss\u001b[49m\u001b[43m(\u001b[49m\u001b[43mX\u001b[49m\u001b[43m,\u001b[49m\u001b[43m \u001b[49m\u001b[43my\u001b[49m\u001b[43m)\u001b[49m\n\u001b[0;32m     12\u001b[0m \u001b[38;5;28mprint\u001b[39m(\u001b[38;5;124m'\u001b[39m\u001b[38;5;124mInitial loss: \u001b[39m\u001b[38;5;124m'\u001b[39m, loss)\n\u001b[0;32m     14\u001b[0m \u001b[38;5;66;03m# Most of the errors should be on the order of e-7 or smaller.   \u001b[39;00m\n\u001b[0;32m     15\u001b[0m \u001b[38;5;66;03m# NOTE: It is fine however to see an error for W2 on the order of e-5\u001b[39;00m\n\u001b[0;32m     16\u001b[0m \u001b[38;5;66;03m# for the check when reg = 0.0\u001b[39;00m\n",
      "File \u001b[1;32mc:\\Users\\79270\\Documents\\AppliedMath_CS_3\\DL_master_SamUni\\HW3\\scripts_\\classifiers\\fc_net.py:382\u001b[0m, in \u001b[0;36mFullyConnectedNet.loss\u001b[1;34m(self, X, y)\u001b[0m\n\u001b[0;32m    380\u001b[0m         grads[\u001b[38;5;124m'\u001b[39m\u001b[38;5;124mgamma\u001b[39m\u001b[38;5;124m'\u001b[39m \u001b[38;5;241m+\u001b[39m \u001b[38;5;28mstr\u001b[39m(i \u001b[38;5;241m+\u001b[39m \u001b[38;5;241m1\u001b[39m)] \u001b[38;5;241m=\u001b[39m dgamma\n\u001b[0;32m    381\u001b[0m         grads[\u001b[38;5;124m'\u001b[39m\u001b[38;5;124mbeta\u001b[39m\u001b[38;5;124m'\u001b[39m \u001b[38;5;241m+\u001b[39m \u001b[38;5;28mstr\u001b[39m(i \u001b[38;5;241m+\u001b[39m \u001b[38;5;241m1\u001b[39m)] \u001b[38;5;241m=\u001b[39m dbeta\n\u001b[1;32m--> 382\u001b[0m     dhidden, dW, db \u001b[38;5;241m=\u001b[39m \u001b[43maffine_backward\u001b[49m\u001b[43m(\u001b[49m\u001b[43mdhidden\u001b[49m\u001b[43m,\u001b[49m\u001b[43m \u001b[49m\u001b[43mcaches\u001b[49m\u001b[38;5;241;43m.\u001b[39;49m\u001b[43mpop\u001b[49m\u001b[43m(\u001b[49m\u001b[43m)\u001b[49m\u001b[43m)\u001b[49m\n\u001b[0;32m    384\u001b[0m grads[\u001b[38;5;124m'\u001b[39m\u001b[38;5;124mW\u001b[39m\u001b[38;5;124m'\u001b[39m \u001b[38;5;241m+\u001b[39m \u001b[38;5;28mstr\u001b[39m(i \u001b[38;5;241m+\u001b[39m \u001b[38;5;241m1\u001b[39m)] \u001b[38;5;241m=\u001b[39m dW \u001b[38;5;241m+\u001b[39m \u001b[38;5;28mself\u001b[39m\u001b[38;5;241m.\u001b[39mreg \u001b[38;5;241m*\u001b[39m \u001b[38;5;28mself\u001b[39m\u001b[38;5;241m.\u001b[39mparams[\u001b[38;5;124m'\u001b[39m\u001b[38;5;124mW\u001b[39m\u001b[38;5;124m'\u001b[39m \u001b[38;5;241m+\u001b[39m \u001b[38;5;28mstr\u001b[39m(i \u001b[38;5;241m+\u001b[39m \u001b[38;5;241m1\u001b[39m)]\n\u001b[0;32m    385\u001b[0m grads[\u001b[38;5;124m'\u001b[39m\u001b[38;5;124mb\u001b[39m\u001b[38;5;124m'\u001b[39m \u001b[38;5;241m+\u001b[39m \u001b[38;5;28mstr\u001b[39m(i \u001b[38;5;241m+\u001b[39m \u001b[38;5;241m1\u001b[39m)] \u001b[38;5;241m=\u001b[39m db\n",
      "File \u001b[1;32mc:\\Users\\79270\\Documents\\AppliedMath_CS_3\\DL_master_SamUni\\HW3\\scripts_\\layers.py:61\u001b[0m, in \u001b[0;36maffine_backward\u001b[1;34m(dout, cache)\u001b[0m\n\u001b[0;32m     45\u001b[0m \u001b[38;5;28;01mdef\u001b[39;00m \u001b[38;5;21maffine_backward\u001b[39m(dout, cache):\n\u001b[0;32m     46\u001b[0m \u001b[38;5;250m    \u001b[39m\u001b[38;5;124;03m\"\"\"\u001b[39;00m\n\u001b[0;32m     47\u001b[0m \u001b[38;5;124;03m    Computes the backward pass for an affine layer.\u001b[39;00m\n\u001b[0;32m     48\u001b[0m \n\u001b[1;32m   (...)\u001b[0m\n\u001b[0;32m     59\u001b[0m \u001b[38;5;124;03m    - db: Gradient with respect to b, of shape (M,)\u001b[39;00m\n\u001b[0;32m     60\u001b[0m \u001b[38;5;124;03m    \"\"\"\u001b[39;00m\n\u001b[1;32m---> 61\u001b[0m     x, w, b \u001b[38;5;241m=\u001b[39m cache\n\u001b[0;32m     62\u001b[0m     dx, dw, db \u001b[38;5;241m=\u001b[39m \u001b[38;5;28;01mNone\u001b[39;00m, \u001b[38;5;28;01mNone\u001b[39;00m, \u001b[38;5;28;01mNone\u001b[39;00m\n\u001b[0;32m     63\u001b[0m     \u001b[38;5;66;03m###########################################################################\u001b[39;00m\n\u001b[0;32m     64\u001b[0m     \u001b[38;5;66;03m# TODO: Implement the affine backward pass.                               #\u001b[39;00m\n\u001b[0;32m     65\u001b[0m     \u001b[38;5;66;03m###########################################################################\u001b[39;00m\n\u001b[0;32m     66\u001b[0m     \u001b[38;5;66;03m# *****START OF YOUR CODE (DO NOT DELETE/MODIFY THIS LINE)*****\u001b[39;00m\n",
      "\u001b[1;31mValueError\u001b[0m: not enough values to unpack (expected 3, got 2)"
     ]
    }
   ],
   "source": [
    "np.random.seed(231)\n",
    "N, D, H1, H2, C = 2, 15, 20, 30, 10\n",
    "X = np.random.randn(N, D)\n",
    "y = np.random.randint(C, size=(N,))\n",
    "\n",
    "for reg in [0, 3.14]:\n",
    "  print('Running check with reg = ', reg)\n",
    "  model = FullyConnectedNet([H1, H2], input_dim=D, num_classes=C,\n",
    "                            reg=reg, weight_scale=5e-2, dtype=np.float64)\n",
    "\n",
    "  loss, grads = model.loss(X, y)\n",
    "  print('Initial loss: ', loss)\n",
    "  \n",
    "  # Most of the errors should be on the order of e-7 or smaller.   \n",
    "  # NOTE: It is fine however to see an error for W2 on the order of e-5\n",
    "  # for the check when reg = 0.0\n",
    "  for name in sorted(grads):\n",
    "    f = lambda _: model.loss(X, y)[0]\n",
    "    grad_num = eval_numerical_gradient(f, model.params[name], verbose=False, h=1e-5)\n",
    "    print('%s relative error: %.2e' % (name, rel_error(grad_num, grads[name])))"
   ]
  },
  {
   "cell_type": "code",
   "execution_count": 21,
   "metadata": {},
   "outputs": [
    {
     "name": "stderr",
     "output_type": "stream",
     "text": [
      "ic| x: (array([[0.        , 0.03555095, 0.0078659 , 0.        , 0.06470929,\n",
      "               0.03842171, 0.        , 0.        , 0.02712538, 0.00568727,\n",
      "               0.00656403, 0.        , 0.        , 0.        , 0.        ,\n",
      "               0.        , 0.        , 0.02277924, 0.00394966, 0.01246382,\n",
      "               0.        , 0.        , 0.        , 0.        , 0.00907012,\n",
      "               0.10834965, 0.02283056, 0.        , 0.        , 0.        ],\n",
      "              [0.00432494, 0.00241257, 0.0316519 , 0.01176466, 0.0222714 ,\n",
      "               0.01501672, 0.        , 0.        , 0.01103719, 0.00048515,\n",
      "               0.        , 0.        , 0.        , 0.00835672, 0.02084819,\n",
      "               0.00208005, 0.        , 0.        , 0.0059626 , 0.03429461,\n",
      "               0.06587098, 0.0036328 , 0.        , 0.01589484, 0.00759446,\n",
      "               0.01698137, 0.        , 0.00015749, 0.00100848, 0.01333484]]),\n",
      "        array([[-0.01680087, -0.07178951, -0.03269432, ...,  0.04338832,\n",
      "               -0.06865797,  0.00537226],\n",
      "              [ 0.08415184,  0.03402212, -0.02192329, ..., -0.03673383,\n",
      "               -0.0003153 ,  0.08719275],\n",
      "              [-0.01977299,  0.03879606, -0.00739502, ..., -0.01636311,\n",
      "               -0.06080228,  0.00400702],\n",
      "              ...,\n",
      "              [-0.01768198, -0.03713098,  0.03528382, ...,  0.03022314,\n",
      "               -0.0527659 ,  0.00197071],\n",
      "              [-0.0825378 , -0.0551976 ,  0.10452258, ..., -0.04122334,\n",
      "                0.04179359, -0.00364284],\n",
      "              [ 0.05284974, -0.01490799, -0.08487131, ..., -0.06555896,\n",
      "               -0.07945849, -0.00101094]]),\n",
      "        array([0., 0., 0., 0., 0., 0., 0., 0., 0., 0., 0., 0., 0., 0., 0., 0., 0.,\n",
      "              0., 0., 0., 0., 0., 0., 0., 0., 0., 0., 0., 0., 0., 0., 0., 0., 0.,\n",
      "              0., 0., 0., 0., 0., 0.]))\n"
     ]
    },
    {
     "name": "stdout",
     "output_type": "stream",
     "text": [
      "Running check with reg =  0\n",
      "X shape: (2, 15)\n",
      "scores shape: (2, 10)\n",
      "Shape of x[0]: (40,)\n",
      "Shape of dout: (2, 40)\n"
     ]
    },
    {
     "ename": "ValueError",
     "evalue": "not enough values to unpack (expected 3, got 2)",
     "output_type": "error",
     "traceback": [
      "\u001b[1;31m---------------------------------------------------------------------------\u001b[0m",
      "\u001b[1;31mValueError\u001b[0m                                Traceback (most recent call last)",
      "Cell \u001b[1;32mIn[21], line 10\u001b[0m\n\u001b[0;32m      6\u001b[0m \u001b[38;5;28mprint\u001b[39m(\u001b[38;5;124m'\u001b[39m\u001b[38;5;124mRunning check with reg = \u001b[39m\u001b[38;5;124m'\u001b[39m, reg)\n\u001b[0;32m      7\u001b[0m model \u001b[38;5;241m=\u001b[39m FullyConnectedNet([H1, H2,H3], input_dim\u001b[38;5;241m=\u001b[39mD, num_classes\u001b[38;5;241m=\u001b[39mC,\n\u001b[0;32m      8\u001b[0m                           reg\u001b[38;5;241m=\u001b[39mreg, weight_scale\u001b[38;5;241m=\u001b[39m\u001b[38;5;241m5e-2\u001b[39m, dtype\u001b[38;5;241m=\u001b[39mnp\u001b[38;5;241m.\u001b[39mfloat64)\n\u001b[1;32m---> 10\u001b[0m loss, grads \u001b[38;5;241m=\u001b[39m \u001b[43mmodel\u001b[49m\u001b[38;5;241;43m.\u001b[39;49m\u001b[43mloss\u001b[49m\u001b[43m(\u001b[49m\u001b[43mX\u001b[49m\u001b[43m,\u001b[49m\u001b[43m \u001b[49m\u001b[43my\u001b[49m\u001b[43m)\u001b[49m\n\u001b[0;32m     11\u001b[0m \u001b[38;5;28mprint\u001b[39m(\u001b[38;5;124m'\u001b[39m\u001b[38;5;124mInitial loss: \u001b[39m\u001b[38;5;124m'\u001b[39m, loss)\n\u001b[0;32m     13\u001b[0m \u001b[38;5;28;01mfor\u001b[39;00m name \u001b[38;5;129;01min\u001b[39;00m \u001b[38;5;28msorted\u001b[39m(grads):\n",
      "File \u001b[1;32mc:\\Users\\79270\\Documents\\AppliedMath_CS_3\\DL_master_SamUni\\HW3\\scripts_\\classifiers\\fc_net.py:382\u001b[0m, in \u001b[0;36mFullyConnectedNet.loss\u001b[1;34m(self, X, y)\u001b[0m\n\u001b[0;32m    380\u001b[0m         grads[\u001b[38;5;124m'\u001b[39m\u001b[38;5;124mgamma\u001b[39m\u001b[38;5;124m'\u001b[39m \u001b[38;5;241m+\u001b[39m \u001b[38;5;28mstr\u001b[39m(i \u001b[38;5;241m+\u001b[39m \u001b[38;5;241m1\u001b[39m)] \u001b[38;5;241m=\u001b[39m dgamma\n\u001b[0;32m    381\u001b[0m         grads[\u001b[38;5;124m'\u001b[39m\u001b[38;5;124mbeta\u001b[39m\u001b[38;5;124m'\u001b[39m \u001b[38;5;241m+\u001b[39m \u001b[38;5;28mstr\u001b[39m(i \u001b[38;5;241m+\u001b[39m \u001b[38;5;241m1\u001b[39m)] \u001b[38;5;241m=\u001b[39m dbeta\n\u001b[1;32m--> 382\u001b[0m     dhidden, dW, db \u001b[38;5;241m=\u001b[39m \u001b[43maffine_backward\u001b[49m\u001b[43m(\u001b[49m\u001b[43mdhidden\u001b[49m\u001b[43m,\u001b[49m\u001b[43m \u001b[49m\u001b[43mcaches\u001b[49m\u001b[38;5;241;43m.\u001b[39;49m\u001b[43mpop\u001b[49m\u001b[43m(\u001b[49m\u001b[43m)\u001b[49m\u001b[43m)\u001b[49m\n\u001b[0;32m    384\u001b[0m grads[\u001b[38;5;124m'\u001b[39m\u001b[38;5;124mW\u001b[39m\u001b[38;5;124m'\u001b[39m \u001b[38;5;241m+\u001b[39m \u001b[38;5;28mstr\u001b[39m(i \u001b[38;5;241m+\u001b[39m \u001b[38;5;241m1\u001b[39m)] \u001b[38;5;241m=\u001b[39m dW \u001b[38;5;241m+\u001b[39m \u001b[38;5;28mself\u001b[39m\u001b[38;5;241m.\u001b[39mreg \u001b[38;5;241m*\u001b[39m \u001b[38;5;28mself\u001b[39m\u001b[38;5;241m.\u001b[39mparams[\u001b[38;5;124m'\u001b[39m\u001b[38;5;124mW\u001b[39m\u001b[38;5;124m'\u001b[39m \u001b[38;5;241m+\u001b[39m \u001b[38;5;28mstr\u001b[39m(i \u001b[38;5;241m+\u001b[39m \u001b[38;5;241m1\u001b[39m)]\n\u001b[0;32m    385\u001b[0m grads[\u001b[38;5;124m'\u001b[39m\u001b[38;5;124mb\u001b[39m\u001b[38;5;124m'\u001b[39m \u001b[38;5;241m+\u001b[39m \u001b[38;5;28mstr\u001b[39m(i \u001b[38;5;241m+\u001b[39m \u001b[38;5;241m1\u001b[39m)] \u001b[38;5;241m=\u001b[39m db\n",
      "File \u001b[1;32mc:\\Users\\79270\\Documents\\AppliedMath_CS_3\\DL_master_SamUni\\HW3\\scripts_\\layers.py:61\u001b[0m, in \u001b[0;36maffine_backward\u001b[1;34m(dout, cache)\u001b[0m\n\u001b[0;32m     45\u001b[0m \u001b[38;5;28;01mdef\u001b[39;00m \u001b[38;5;21maffine_backward\u001b[39m(dout, cache):\n\u001b[0;32m     46\u001b[0m \u001b[38;5;250m    \u001b[39m\u001b[38;5;124;03m\"\"\"\u001b[39;00m\n\u001b[0;32m     47\u001b[0m \u001b[38;5;124;03m    Computes the backward pass for an affine layer.\u001b[39;00m\n\u001b[0;32m     48\u001b[0m \n\u001b[1;32m   (...)\u001b[0m\n\u001b[0;32m     59\u001b[0m \u001b[38;5;124;03m    - db: Gradient with respect to b, of shape (M,)\u001b[39;00m\n\u001b[0;32m     60\u001b[0m \u001b[38;5;124;03m    \"\"\"\u001b[39;00m\n\u001b[1;32m---> 61\u001b[0m     x, w, b \u001b[38;5;241m=\u001b[39m cache\n\u001b[0;32m     62\u001b[0m     dx, dw, db \u001b[38;5;241m=\u001b[39m \u001b[38;5;28;01mNone\u001b[39;00m, \u001b[38;5;28;01mNone\u001b[39;00m, \u001b[38;5;28;01mNone\u001b[39;00m\n\u001b[0;32m     63\u001b[0m     \u001b[38;5;66;03m###########################################################################\u001b[39;00m\n\u001b[0;32m     64\u001b[0m     \u001b[38;5;66;03m# TODO: Implement the affine backward pass.                               #\u001b[39;00m\n\u001b[0;32m     65\u001b[0m     \u001b[38;5;66;03m###########################################################################\u001b[39;00m\n\u001b[0;32m     66\u001b[0m     \u001b[38;5;66;03m# *****START OF YOUR CODE (DO NOT DELETE/MODIFY THIS LINE)*****\u001b[39;00m\n",
      "\u001b[1;31mValueError\u001b[0m: not enough values to unpack (expected 3, got 2)"
     ]
    }
   ],
   "source": [
    "N, D, H1, H2,H3, C = 2, 15, 20, 30,40, 10\n",
    "X = np.random.randn(N, D)\n",
    "y = np.random.randint(C, size=(N,))\n",
    "\n",
    "for reg in [0, 3.14]:\n",
    "  print('Running check with reg = ', reg)\n",
    "  model = FullyConnectedNet([H1, H2,H3], input_dim=D, num_classes=C,\n",
    "                            reg=reg, weight_scale=5e-2, dtype=np.float64)\n",
    "\n",
    "  loss, grads = model.loss(X, y)\n",
    "  print('Initial loss: ', loss)\n",
    "\n",
    "  for name in sorted(grads):\n",
    "    f = lambda _: model.loss(X, y)[0]\n",
    "    grad_num = eval_numerical_gradient(f, model.params[name], verbose=False, h=1e-5)\n",
    "    print('%s relative error: %.2e' % (name, rel_error(grad_num, grads[name])))"
   ]
  },
  {
   "cell_type": "markdown",
   "metadata": {},
   "source": [
    "Попробуйте добиться эффекта переобучения на небольшом наборе изображений (например, 50). Используйте трехслойную сеть со 100 нейронами на каждом скрытом слое. Попробуйте переобучить сеть, достигнув 100 % accuracy за 20 эпох. Для этого поэкспериментируйте с параметрами weight_scale и learning_rate. "
   ]
  },
  {
   "cell_type": "code",
   "execution_count": 25,
   "metadata": {},
   "outputs": [
    {
     "name": "stderr",
     "output_type": "stream",
     "text": [
      "ic| x: (array([[11.87350156, 12.67197142,  0.41033509, ..., 61.77076181,\n",
      "                0.        ,  0.        ],\n",
      "              [ 0.        , 12.85599924,  0.        , ..., 60.67195707,\n",
      "                0.        ,  3.92748182],\n",
      "              [18.50646109, 19.99475414, 49.12127098, ...,  1.93469418,\n",
      "                2.50738301,  0.        ],\n",
      "              ...,\n",
      "              [13.15603714, 16.54474771, 12.04351797, ..., 19.22814875,\n",
      "                0.        , 16.20008984],\n",
      "              [ 0.        ,  7.61116197, 32.47960971, ..., 66.66645229,\n",
      "                0.        ,  0.        ],\n",
      "              [16.6560158 , 16.30859902, 22.35765615, ..., 21.21536   ,\n",
      "                0.        ,  6.8608544 ]]),\n",
      "        array([[-4.94611221e-03, -1.29899630e-02, -1.20600310e-02, ...,\n",
      "               -8.52683464e-03,  2.04412312e-02, -3.94713055e-03],\n",
      "              [ 7.44163602e-03,  6.94784573e-03, -3.90680711e-03, ...,\n",
      "                1.02437028e-02,  1.54625664e-02,  1.32222833e-02],\n",
      "              [-2.65096460e-02,  7.28134977e-03,  1.32703296e-02, ...,\n",
      "                7.15791428e-03,  9.17073509e-03,  1.12545832e-02],\n",
      "              ...,\n",
      "              [ 7.57113324e-03,  1.54194033e-02, -1.81874309e-06, ...,\n",
      "                1.49696068e-02,  7.68280736e-03,  5.86175451e-03],\n",
      "              [ 1.48377585e-03,  1.15254134e-02, -7.88185794e-03, ...,\n",
      "               -5.96609877e-03,  1.95712514e-03,  1.69206300e-02],\n",
      "              [-1.09383457e-02,  6.09807704e-03,  1.78410887e-03, ...,\n",
      "               -5.60654675e-03,  1.01517458e-02, -2.41887885e-03]]),\n",
      "        array([0., 0., 0., 0., 0., 0., 0., 0., 0., 0., 0., 0., 0., 0., 0., 0., 0.,\n",
      "              0., 0., 0., 0., 0., 0., 0., 0., 0., 0., 0., 0., 0., 0., 0., 0., 0.,\n",
      "              0., 0., 0., 0., 0., 0., 0., 0., 0., 0., 0., 0., 0., 0., 0., 0., 0.,\n",
      "              0., 0., 0., 0., 0., 0., 0., 0., 0., 0., 0., 0., 0., 0., 0., 0., 0.,\n",
      "              0., 0., 0., 0., 0., 0., 0., 0., 0., 0., 0., 0., 0., 0., 0., 0., 0.,\n",
      "              0., 0., 0., 0., 0., 0., 0., 0., 0., 0., 0., 0., 0., 0., 0.]))\n"
     ]
    },
    {
     "name": "stdout",
     "output_type": "stream",
     "text": [
      "X shape: (25, 784)\n",
      "scores shape: (25, 10)\n",
      "Shape of x[0]: (100,)\n",
      "Shape of dout: (25, 100)\n"
     ]
    },
    {
     "ename": "TypeError",
     "evalue": "'>' not supported between instances of 'tuple' and 'int'",
     "output_type": "error",
     "traceback": [
      "\u001b[1;31m---------------------------------------------------------------------------\u001b[0m",
      "\u001b[1;31mTypeError\u001b[0m                                 Traceback (most recent call last)",
      "Cell \u001b[1;32mIn[25], line 23\u001b[0m\n\u001b[0;32m     14\u001b[0m model \u001b[38;5;241m=\u001b[39m FullyConnectedNet([\u001b[38;5;241m100\u001b[39m, \u001b[38;5;241m100\u001b[39m],\n\u001b[0;32m     15\u001b[0m               weight_scale\u001b[38;5;241m=\u001b[39mweight_scale, dtype\u001b[38;5;241m=\u001b[39mnp\u001b[38;5;241m.\u001b[39mfloat64)\n\u001b[0;32m     16\u001b[0m solver \u001b[38;5;241m=\u001b[39m Solver(model, small_data,\n\u001b[0;32m     17\u001b[0m                 print_every\u001b[38;5;241m=\u001b[39m\u001b[38;5;241m10\u001b[39m, num_epochs\u001b[38;5;241m=\u001b[39m\u001b[38;5;241m20\u001b[39m, batch_size\u001b[38;5;241m=\u001b[39m\u001b[38;5;241m25\u001b[39m,\n\u001b[0;32m     18\u001b[0m                 update_rule\u001b[38;5;241m=\u001b[39m\u001b[38;5;124m'\u001b[39m\u001b[38;5;124msgd\u001b[39m\u001b[38;5;124m'\u001b[39m,\n\u001b[1;32m   (...)\u001b[0m\n\u001b[0;32m     21\u001b[0m                 }\n\u001b[0;32m     22\u001b[0m          )\n\u001b[1;32m---> 23\u001b[0m \u001b[43msolver\u001b[49m\u001b[38;5;241;43m.\u001b[39;49m\u001b[43mtrain\u001b[49m\u001b[43m(\u001b[49m\u001b[43m)\u001b[49m\n\u001b[0;32m     25\u001b[0m plt\u001b[38;5;241m.\u001b[39mplot(solver\u001b[38;5;241m.\u001b[39mloss_history, \u001b[38;5;124m'\u001b[39m\u001b[38;5;124mo\u001b[39m\u001b[38;5;124m'\u001b[39m)\n\u001b[0;32m     26\u001b[0m plt\u001b[38;5;241m.\u001b[39mtitle(\u001b[38;5;124m'\u001b[39m\u001b[38;5;124mTraining loss history\u001b[39m\u001b[38;5;124m'\u001b[39m)\n",
      "File \u001b[1;32mc:\\Users\\79270\\Documents\\AppliedMath_CS_3\\DL_master_SamUni\\HW3\\scripts_\\solver.py:263\u001b[0m, in \u001b[0;36mSolver.train\u001b[1;34m(self)\u001b[0m\n\u001b[0;32m    260\u001b[0m num_iterations \u001b[38;5;241m=\u001b[39m \u001b[38;5;28mself\u001b[39m\u001b[38;5;241m.\u001b[39mnum_epochs \u001b[38;5;241m*\u001b[39m iterations_per_epoch\n\u001b[0;32m    262\u001b[0m \u001b[38;5;28;01mfor\u001b[39;00m t \u001b[38;5;129;01min\u001b[39;00m \u001b[38;5;28mrange\u001b[39m(num_iterations):\n\u001b[1;32m--> 263\u001b[0m     \u001b[38;5;28;43mself\u001b[39;49m\u001b[38;5;241;43m.\u001b[39;49m\u001b[43m_step\u001b[49m\u001b[43m(\u001b[49m\u001b[43m)\u001b[49m\n\u001b[0;32m    265\u001b[0m     \u001b[38;5;66;03m# Maybe print training loss\u001b[39;00m\n\u001b[0;32m    266\u001b[0m     \u001b[38;5;28;01mif\u001b[39;00m \u001b[38;5;28mself\u001b[39m\u001b[38;5;241m.\u001b[39mverbose \u001b[38;5;129;01mand\u001b[39;00m t \u001b[38;5;241m%\u001b[39m \u001b[38;5;28mself\u001b[39m\u001b[38;5;241m.\u001b[39mprint_every \u001b[38;5;241m==\u001b[39m \u001b[38;5;241m0\u001b[39m:\n",
      "File \u001b[1;32mc:\\Users\\79270\\Documents\\AppliedMath_CS_3\\DL_master_SamUni\\HW3\\scripts_\\solver.py:181\u001b[0m, in \u001b[0;36mSolver._step\u001b[1;34m(self)\u001b[0m\n\u001b[0;32m    178\u001b[0m y_batch \u001b[38;5;241m=\u001b[39m \u001b[38;5;28mself\u001b[39m\u001b[38;5;241m.\u001b[39my_train[batch_mask]\n\u001b[0;32m    180\u001b[0m \u001b[38;5;66;03m# Compute loss and gradient\u001b[39;00m\n\u001b[1;32m--> 181\u001b[0m loss, grads \u001b[38;5;241m=\u001b[39m \u001b[38;5;28;43mself\u001b[39;49m\u001b[38;5;241;43m.\u001b[39;49m\u001b[43mmodel\u001b[49m\u001b[38;5;241;43m.\u001b[39;49m\u001b[43mloss\u001b[49m\u001b[43m(\u001b[49m\u001b[43mX_batch\u001b[49m\u001b[43m,\u001b[49m\u001b[43m \u001b[49m\u001b[43my_batch\u001b[49m\u001b[43m)\u001b[49m\n\u001b[0;32m    182\u001b[0m \u001b[38;5;28mself\u001b[39m\u001b[38;5;241m.\u001b[39mloss_history\u001b[38;5;241m.\u001b[39mappend(loss)\n\u001b[0;32m    184\u001b[0m \u001b[38;5;66;03m# Perform a parameter update\u001b[39;00m\n",
      "File \u001b[1;32mc:\\Users\\79270\\Documents\\AppliedMath_CS_3\\DL_master_SamUni\\HW3\\scripts_\\classifiers\\fc_net.py:377\u001b[0m, in \u001b[0;36mFullyConnectedNet.loss\u001b[1;34m(self, X, y)\u001b[0m\n\u001b[0;32m    375\u001b[0m \u001b[38;5;28;01mif\u001b[39;00m \u001b[38;5;28mself\u001b[39m\u001b[38;5;241m.\u001b[39muse_dropout:\n\u001b[0;32m    376\u001b[0m     dhidden \u001b[38;5;241m=\u001b[39m dropout_backward(dhidden, caches\u001b[38;5;241m.\u001b[39mpop())\n\u001b[1;32m--> 377\u001b[0m dhidden \u001b[38;5;241m=\u001b[39m \u001b[43mrelu_backward\u001b[49m\u001b[43m(\u001b[49m\u001b[43mdhidden\u001b[49m\u001b[43m,\u001b[49m\u001b[43m \u001b[49m\u001b[43mcaches\u001b[49m\u001b[38;5;241;43m.\u001b[39;49m\u001b[43mpop\u001b[49m\u001b[43m(\u001b[49m\u001b[43m)\u001b[49m\u001b[43m)\u001b[49m\n\u001b[0;32m    378\u001b[0m \u001b[38;5;28;01mif\u001b[39;00m \u001b[38;5;28mself\u001b[39m\u001b[38;5;241m.\u001b[39mnormalization \u001b[38;5;241m==\u001b[39m \u001b[38;5;124m\"\u001b[39m\u001b[38;5;124mbatchnorm\u001b[39m\u001b[38;5;124m\"\u001b[39m:\n\u001b[0;32m    379\u001b[0m     dhidden, dgamma, dbeta \u001b[38;5;241m=\u001b[39m batchnorm_backward(dhidden, caches\u001b[38;5;241m.\u001b[39mpop())\n",
      "File \u001b[1;32mc:\\Users\\79270\\Documents\\AppliedMath_CS_3\\DL_master_SamUni\\HW3\\scripts_\\layers.py:131\u001b[0m, in \u001b[0;36mrelu_backward\u001b[1;34m(dout, cache)\u001b[0m\n\u001b[0;32m    129\u001b[0m x \u001b[38;5;241m=\u001b[39m cache\n\u001b[0;32m    130\u001b[0m ic(x)\n\u001b[1;32m--> 131\u001b[0m dx \u001b[38;5;241m=\u001b[39m dout \u001b[38;5;241m*\u001b[39m (\u001b[43mx\u001b[49m\u001b[43m \u001b[49m\u001b[38;5;241;43m>\u001b[39;49m\u001b[43m \u001b[49m\u001b[38;5;241;43m0\u001b[39;49m)\n\u001b[0;32m    134\u001b[0m \u001b[38;5;66;03m# *****END OF YOUR CODE (DO NOT DELETE/MODIFY THIS LINE)*****\u001b[39;00m\n\u001b[0;32m    135\u001b[0m \u001b[38;5;66;03m###########################################################################\u001b[39;00m\n\u001b[0;32m    136\u001b[0m \u001b[38;5;66;03m#                             END OF YOUR CODE                            #\u001b[39;00m\n\u001b[0;32m    137\u001b[0m \u001b[38;5;66;03m###########################################################################\u001b[39;00m\n\u001b[0;32m    138\u001b[0m \u001b[38;5;28;01mreturn\u001b[39;00m dx\n",
      "\u001b[1;31mTypeError\u001b[0m: '>' not supported between instances of 'tuple' and 'int'"
     ]
    }
   ],
   "source": [
    "# TODO: Use a three-layer Net to overfit 50 training examples by \n",
    "# tweaking just the learning rate and initialization scale.\n",
    "\n",
    "num_train = 50\n",
    "small_data = {\n",
    "  'X_train': data['X_train'][:num_train],\n",
    "  'y_train': data['y_train'][:num_train],\n",
    "  'X_val': data['X_val'],\n",
    "  'y_val': data['y_val'],\n",
    "}\n",
    "\n",
    "weight_scale = 1e-2   # Experiment with this!\n",
    "learning_rate = 1e-4  # Experiment with this!\n",
    "model = FullyConnectedNet([100, 100],\n",
    "              weight_scale=weight_scale, dtype=np.float64)\n",
    "solver = Solver(model, small_data,\n",
    "                print_every=10, num_epochs=20, batch_size=25,\n",
    "                update_rule='sgd',\n",
    "                optim_config={\n",
    "                  'learning_rate': learning_rate,\n",
    "                }\n",
    "         )\n",
    "solver.train()\n",
    "\n",
    "plt.plot(solver.loss_history, 'o')\n",
    "plt.title('Training loss history')\n",
    "plt.xlabel('Iteration')\n",
    "plt.ylabel('Training loss')\n",
    "plt.show()"
   ]
  },
  {
   "cell_type": "markdown",
   "metadata": {},
   "source": [
    "Повторите эксперимент, описанный выше, для пятислойной сети."
   ]
  },
  {
   "cell_type": "code",
   "execution_count": 16,
   "metadata": {},
   "outputs": [
    {
     "name": "stdout",
     "output_type": "stream",
     "text": [
      "X shape: (25, 784)\n",
      "scores shape: (25, 10)\n"
     ]
    },
    {
     "ename": "TypeError",
     "evalue": "'>' not supported between instances of 'tuple' and 'int'",
     "output_type": "error",
     "traceback": [
      "\u001b[1;31m---------------------------------------------------------------------------\u001b[0m",
      "\u001b[1;31mTypeError\u001b[0m                                 Traceback (most recent call last)",
      "Cell \u001b[1;32mIn[16], line 23\u001b[0m\n\u001b[0;32m     14\u001b[0m model \u001b[38;5;241m=\u001b[39m FullyConnectedNet([\u001b[38;5;241m100\u001b[39m, \u001b[38;5;241m100\u001b[39m, \u001b[38;5;241m100\u001b[39m, \u001b[38;5;241m100\u001b[39m],\n\u001b[0;32m     15\u001b[0m                 weight_scale\u001b[38;5;241m=\u001b[39mweight_scale, dtype\u001b[38;5;241m=\u001b[39mnp\u001b[38;5;241m.\u001b[39mfloat64)\n\u001b[0;32m     16\u001b[0m solver \u001b[38;5;241m=\u001b[39m Solver(model, small_data,\n\u001b[0;32m     17\u001b[0m                 print_every\u001b[38;5;241m=\u001b[39m\u001b[38;5;241m10\u001b[39m, num_epochs\u001b[38;5;241m=\u001b[39m\u001b[38;5;241m20\u001b[39m, batch_size\u001b[38;5;241m=\u001b[39m\u001b[38;5;241m25\u001b[39m,\n\u001b[0;32m     18\u001b[0m                 update_rule\u001b[38;5;241m=\u001b[39m\u001b[38;5;124m'\u001b[39m\u001b[38;5;124msgd\u001b[39m\u001b[38;5;124m'\u001b[39m,\n\u001b[1;32m   (...)\u001b[0m\n\u001b[0;32m     21\u001b[0m                 }\n\u001b[0;32m     22\u001b[0m          )\n\u001b[1;32m---> 23\u001b[0m \u001b[43msolver\u001b[49m\u001b[38;5;241;43m.\u001b[39;49m\u001b[43mtrain\u001b[49m\u001b[43m(\u001b[49m\u001b[43m)\u001b[49m\n\u001b[0;32m     25\u001b[0m plt\u001b[38;5;241m.\u001b[39mplot(solver\u001b[38;5;241m.\u001b[39mloss_history, \u001b[38;5;124m'\u001b[39m\u001b[38;5;124mo\u001b[39m\u001b[38;5;124m'\u001b[39m)\n\u001b[0;32m     26\u001b[0m plt\u001b[38;5;241m.\u001b[39mtitle(\u001b[38;5;124m'\u001b[39m\u001b[38;5;124mTraining loss history\u001b[39m\u001b[38;5;124m'\u001b[39m)\n",
      "File \u001b[1;32mc:\\Users\\79270\\Documents\\AppliedMath_CS_3\\DL_master_SamUni\\HW3\\scripts_\\solver.py:263\u001b[0m, in \u001b[0;36mSolver.train\u001b[1;34m(self)\u001b[0m\n\u001b[0;32m    260\u001b[0m num_iterations \u001b[38;5;241m=\u001b[39m \u001b[38;5;28mself\u001b[39m\u001b[38;5;241m.\u001b[39mnum_epochs \u001b[38;5;241m*\u001b[39m iterations_per_epoch\n\u001b[0;32m    262\u001b[0m \u001b[38;5;28;01mfor\u001b[39;00m t \u001b[38;5;129;01min\u001b[39;00m \u001b[38;5;28mrange\u001b[39m(num_iterations):\n\u001b[1;32m--> 263\u001b[0m     \u001b[38;5;28;43mself\u001b[39;49m\u001b[38;5;241;43m.\u001b[39;49m\u001b[43m_step\u001b[49m\u001b[43m(\u001b[49m\u001b[43m)\u001b[49m\n\u001b[0;32m    265\u001b[0m     \u001b[38;5;66;03m# Maybe print training loss\u001b[39;00m\n\u001b[0;32m    266\u001b[0m     \u001b[38;5;28;01mif\u001b[39;00m \u001b[38;5;28mself\u001b[39m\u001b[38;5;241m.\u001b[39mverbose \u001b[38;5;129;01mand\u001b[39;00m t \u001b[38;5;241m%\u001b[39m \u001b[38;5;28mself\u001b[39m\u001b[38;5;241m.\u001b[39mprint_every \u001b[38;5;241m==\u001b[39m \u001b[38;5;241m0\u001b[39m:\n",
      "File \u001b[1;32mc:\\Users\\79270\\Documents\\AppliedMath_CS_3\\DL_master_SamUni\\HW3\\scripts_\\solver.py:181\u001b[0m, in \u001b[0;36mSolver._step\u001b[1;34m(self)\u001b[0m\n\u001b[0;32m    178\u001b[0m y_batch \u001b[38;5;241m=\u001b[39m \u001b[38;5;28mself\u001b[39m\u001b[38;5;241m.\u001b[39my_train[batch_mask]\n\u001b[0;32m    180\u001b[0m \u001b[38;5;66;03m# Compute loss and gradient\u001b[39;00m\n\u001b[1;32m--> 181\u001b[0m loss, grads \u001b[38;5;241m=\u001b[39m \u001b[38;5;28;43mself\u001b[39;49m\u001b[38;5;241;43m.\u001b[39;49m\u001b[43mmodel\u001b[49m\u001b[38;5;241;43m.\u001b[39;49m\u001b[43mloss\u001b[49m\u001b[43m(\u001b[49m\u001b[43mX_batch\u001b[49m\u001b[43m,\u001b[49m\u001b[43m \u001b[49m\u001b[43my_batch\u001b[49m\u001b[43m)\u001b[49m\n\u001b[0;32m    182\u001b[0m \u001b[38;5;28mself\u001b[39m\u001b[38;5;241m.\u001b[39mloss_history\u001b[38;5;241m.\u001b[39mappend(loss)\n\u001b[0;32m    184\u001b[0m \u001b[38;5;66;03m# Perform a parameter update\u001b[39;00m\n",
      "File \u001b[1;32mc:\\Users\\79270\\Documents\\AppliedMath_CS_3\\DL_master_SamUni\\HW3\\scripts_\\classifiers\\fc_net.py:377\u001b[0m, in \u001b[0;36mFullyConnectedNet.loss\u001b[1;34m(self, X, y)\u001b[0m\n\u001b[0;32m    375\u001b[0m \u001b[38;5;28;01mif\u001b[39;00m \u001b[38;5;28mself\u001b[39m\u001b[38;5;241m.\u001b[39muse_dropout:\n\u001b[0;32m    376\u001b[0m     dhidden \u001b[38;5;241m=\u001b[39m dropout_backward(dhidden, caches\u001b[38;5;241m.\u001b[39mpop())\n\u001b[1;32m--> 377\u001b[0m dhidden \u001b[38;5;241m=\u001b[39m \u001b[43mrelu_backward\u001b[49m\u001b[43m(\u001b[49m\u001b[43mdhidden\u001b[49m\u001b[43m,\u001b[49m\u001b[43m \u001b[49m\u001b[43mcaches\u001b[49m\u001b[38;5;241;43m.\u001b[39;49m\u001b[43mpop\u001b[49m\u001b[43m(\u001b[49m\u001b[43m)\u001b[49m\u001b[43m)\u001b[49m\n\u001b[0;32m    378\u001b[0m \u001b[38;5;28;01mif\u001b[39;00m \u001b[38;5;28mself\u001b[39m\u001b[38;5;241m.\u001b[39mnormalization \u001b[38;5;241m==\u001b[39m \u001b[38;5;124m\"\u001b[39m\u001b[38;5;124mbatchnorm\u001b[39m\u001b[38;5;124m\"\u001b[39m:\n\u001b[0;32m    379\u001b[0m     dhidden, dgamma, dbeta \u001b[38;5;241m=\u001b[39m batchnorm_backward(dhidden, caches\u001b[38;5;241m.\u001b[39mpop())\n",
      "File \u001b[1;32mc:\\Users\\79270\\Documents\\AppliedMath_CS_3\\DL_master_SamUni\\HW3\\scripts_\\layers.py:127\u001b[0m, in \u001b[0;36mrelu_backward\u001b[1;34m(dout, cache)\u001b[0m\n\u001b[0;32m    121\u001b[0m \u001b[38;5;66;03m###########################################################################\u001b[39;00m\n\u001b[0;32m    122\u001b[0m \u001b[38;5;66;03m# TODO: Implement the ReLU backward pass.                                 #\u001b[39;00m\n\u001b[0;32m    123\u001b[0m \u001b[38;5;66;03m###########################################################################\u001b[39;00m\n\u001b[0;32m    124\u001b[0m \u001b[38;5;66;03m# *****START OF YOUR CODE (DO NOT DELETE/MODIFY THIS LINE)*****\u001b[39;00m\n\u001b[0;32m    126\u001b[0m x \u001b[38;5;241m=\u001b[39m cache\n\u001b[1;32m--> 127\u001b[0m dx \u001b[38;5;241m=\u001b[39m dout \u001b[38;5;241m*\u001b[39m (\u001b[43mx\u001b[49m\u001b[43m \u001b[49m\u001b[38;5;241;43m>\u001b[39;49m\u001b[43m \u001b[49m\u001b[38;5;241;43m0\u001b[39;49m)\n\u001b[0;32m    129\u001b[0m \u001b[38;5;66;03m# *****END OF YOUR CODE (DO NOT DELETE/MODIFY THIS LINE)*****\u001b[39;00m\n\u001b[0;32m    130\u001b[0m \u001b[38;5;66;03m###########################################################################\u001b[39;00m\n\u001b[0;32m    131\u001b[0m \u001b[38;5;66;03m#                             END OF YOUR CODE                            #\u001b[39;00m\n\u001b[0;32m    132\u001b[0m \u001b[38;5;66;03m###########################################################################\u001b[39;00m\n\u001b[0;32m    133\u001b[0m \u001b[38;5;28;01mreturn\u001b[39;00m dx\n",
      "\u001b[1;31mTypeError\u001b[0m: '>' not supported between instances of 'tuple' and 'int'"
     ]
    }
   ],
   "source": [
    "# TODO: Use a five-layer Net to overfit 50 training examples by \n",
    "# tweaking just the learning rate and initialization scale.\n",
    "\n",
    "num_train = 50\n",
    "small_data = {\n",
    "  'X_train': data['X_train'][:num_train],\n",
    "  'y_train': data['y_train'][:num_train],\n",
    "  'X_val': data['X_val'],\n",
    "  'y_val': data['y_val'],\n",
    "}\n",
    "\n",
    "learning_rate = 2e-3  # Experiment with this!\n",
    "weight_scale = 1e-5   # Experiment with this!\n",
    "model = FullyConnectedNet([100, 100, 100, 100],\n",
    "                weight_scale=weight_scale, dtype=np.float64)\n",
    "solver = Solver(model, small_data,\n",
    "                print_every=10, num_epochs=20, batch_size=25,\n",
    "                update_rule='sgd',\n",
    "                optim_config={\n",
    "                  'learning_rate': learning_rate,\n",
    "                }\n",
    "         )\n",
    "solver.train()\n",
    "\n",
    "plt.plot(solver.loss_history, 'o')\n",
    "plt.title('Training loss history')\n",
    "plt.xlabel('Iteration')\n",
    "plt.ylabel('Training loss')\n",
    "plt.show()"
   ]
  },
  {
   "cell_type": "markdown",
   "metadata": {},
   "source": [
    "Сделайте выводы по проведенному эксперименту. "
   ]
  },
  {
   "cell_type": "markdown",
   "metadata": {},
   "source": [
    "Ранее обновление весов проходило по правилу SGD. Теперь попробуйте реализовать стохастический градиентный спуск с импульсом (SGD+momentum). http://cs231n.github.io/neural-networks-3/#sgd Реализуйте sgd_momentum в scripts/optim.py  и запустите проверку. "
   ]
  },
  {
   "cell_type": "code",
   "execution_count": 17,
   "metadata": {},
   "outputs": [
    {
     "name": "stdout",
     "output_type": "stream",
     "text": [
      "next_w error:  8.882347033505819e-09\n",
      "velocity error:  4.269287743278663e-09\n"
     ]
    }
   ],
   "source": [
    "from scripts.optim import sgd_momentum\n",
    "\n",
    "N, D = 4, 5\n",
    "w = np.linspace(-0.4, 0.6, num=N*D).reshape(N, D)\n",
    "dw = np.linspace(-0.6, 0.4, num=N*D).reshape(N, D)\n",
    "v = np.linspace(0.6, 0.9, num=N*D).reshape(N, D)\n",
    "\n",
    "config = {'learning_rate': 1e-3, 'velocity': v}\n",
    "next_w, _ = sgd_momentum(w, dw, config=config)\n",
    "\n",
    "expected_next_w = np.asarray([\n",
    "  [ 0.1406,      0.20738947,  0.27417895,  0.34096842,  0.40775789],\n",
    "  [ 0.47454737,  0.54133684,  0.60812632,  0.67491579,  0.74170526],\n",
    "  [ 0.80849474,  0.87528421,  0.94207368,  1.00886316,  1.07565263],\n",
    "  [ 1.14244211,  1.20923158,  1.27602105,  1.34281053,  1.4096    ]])\n",
    "expected_velocity = np.asarray([\n",
    "  [ 0.5406,      0.55475789,  0.56891579, 0.58307368,  0.59723158],\n",
    "  [ 0.61138947,  0.62554737,  0.63970526,  0.65386316,  0.66802105],\n",
    "  [ 0.68217895,  0.69633684,  0.71049474,  0.72465263,  0.73881053],\n",
    "  [ 0.75296842,  0.76712632,  0.78128421,  0.79544211,  0.8096    ]])\n",
    "\n",
    "# Should see relative errors around e-8 or less\n",
    "print('next_w error: ', rel_error(next_w, expected_next_w))\n",
    "print('velocity error: ', rel_error(expected_velocity, config['velocity']))"
   ]
  },
  {
   "cell_type": "markdown",
   "metadata": {},
   "source": [
    "Сравните результаты обучения шестислойной сети, обученной классическим градиентным спуском и адаптивным алгоритмом с импульсом. Какой алгоритм сходится быстрее."
   ]
  },
  {
   "cell_type": "code",
   "execution_count": 18,
   "metadata": {},
   "outputs": [
    {
     "name": "stdout",
     "output_type": "stream",
     "text": [
      "running with  sgd\n",
      "X shape: (100, 784)\n",
      "scores shape: (100, 10)\n"
     ]
    },
    {
     "ename": "TypeError",
     "evalue": "'>' not supported between instances of 'tuple' and 'int'",
     "output_type": "error",
     "traceback": [
      "\u001b[1;31m---------------------------------------------------------------------------\u001b[0m",
      "\u001b[1;31mTypeError\u001b[0m                                 Traceback (most recent call last)",
      "Cell \u001b[1;32mIn[18], line 23\u001b[0m\n\u001b[0;32m     15\u001b[0m   solver \u001b[38;5;241m=\u001b[39m Solver(model, small_data,\n\u001b[0;32m     16\u001b[0m                   num_epochs\u001b[38;5;241m=\u001b[39m\u001b[38;5;241m5\u001b[39m, batch_size\u001b[38;5;241m=\u001b[39m\u001b[38;5;241m100\u001b[39m,\n\u001b[0;32m     17\u001b[0m                   update_rule\u001b[38;5;241m=\u001b[39mupdate_rule,\n\u001b[1;32m   (...)\u001b[0m\n\u001b[0;32m     20\u001b[0m                   },\n\u001b[0;32m     21\u001b[0m                   verbose\u001b[38;5;241m=\u001b[39m\u001b[38;5;28;01mTrue\u001b[39;00m)\n\u001b[0;32m     22\u001b[0m   solvers[update_rule] \u001b[38;5;241m=\u001b[39m solver\n\u001b[1;32m---> 23\u001b[0m   \u001b[43msolver\u001b[49m\u001b[38;5;241;43m.\u001b[39;49m\u001b[43mtrain\u001b[49m\u001b[43m(\u001b[49m\u001b[43m)\u001b[49m\n\u001b[0;32m     24\u001b[0m   \u001b[38;5;28mprint\u001b[39m()\n\u001b[0;32m     26\u001b[0m plt\u001b[38;5;241m.\u001b[39msubplot(\u001b[38;5;241m3\u001b[39m, \u001b[38;5;241m1\u001b[39m, \u001b[38;5;241m1\u001b[39m)\n",
      "File \u001b[1;32mc:\\Users\\79270\\Documents\\AppliedMath_CS_3\\DL_master_SamUni\\HW3\\scripts_\\solver.py:263\u001b[0m, in \u001b[0;36mSolver.train\u001b[1;34m(self)\u001b[0m\n\u001b[0;32m    260\u001b[0m num_iterations \u001b[38;5;241m=\u001b[39m \u001b[38;5;28mself\u001b[39m\u001b[38;5;241m.\u001b[39mnum_epochs \u001b[38;5;241m*\u001b[39m iterations_per_epoch\n\u001b[0;32m    262\u001b[0m \u001b[38;5;28;01mfor\u001b[39;00m t \u001b[38;5;129;01min\u001b[39;00m \u001b[38;5;28mrange\u001b[39m(num_iterations):\n\u001b[1;32m--> 263\u001b[0m     \u001b[38;5;28;43mself\u001b[39;49m\u001b[38;5;241;43m.\u001b[39;49m\u001b[43m_step\u001b[49m\u001b[43m(\u001b[49m\u001b[43m)\u001b[49m\n\u001b[0;32m    265\u001b[0m     \u001b[38;5;66;03m# Maybe print training loss\u001b[39;00m\n\u001b[0;32m    266\u001b[0m     \u001b[38;5;28;01mif\u001b[39;00m \u001b[38;5;28mself\u001b[39m\u001b[38;5;241m.\u001b[39mverbose \u001b[38;5;129;01mand\u001b[39;00m t \u001b[38;5;241m%\u001b[39m \u001b[38;5;28mself\u001b[39m\u001b[38;5;241m.\u001b[39mprint_every \u001b[38;5;241m==\u001b[39m \u001b[38;5;241m0\u001b[39m:\n",
      "File \u001b[1;32mc:\\Users\\79270\\Documents\\AppliedMath_CS_3\\DL_master_SamUni\\HW3\\scripts_\\solver.py:181\u001b[0m, in \u001b[0;36mSolver._step\u001b[1;34m(self)\u001b[0m\n\u001b[0;32m    178\u001b[0m y_batch \u001b[38;5;241m=\u001b[39m \u001b[38;5;28mself\u001b[39m\u001b[38;5;241m.\u001b[39my_train[batch_mask]\n\u001b[0;32m    180\u001b[0m \u001b[38;5;66;03m# Compute loss and gradient\u001b[39;00m\n\u001b[1;32m--> 181\u001b[0m loss, grads \u001b[38;5;241m=\u001b[39m \u001b[38;5;28;43mself\u001b[39;49m\u001b[38;5;241;43m.\u001b[39;49m\u001b[43mmodel\u001b[49m\u001b[38;5;241;43m.\u001b[39;49m\u001b[43mloss\u001b[49m\u001b[43m(\u001b[49m\u001b[43mX_batch\u001b[49m\u001b[43m,\u001b[49m\u001b[43m \u001b[49m\u001b[43my_batch\u001b[49m\u001b[43m)\u001b[49m\n\u001b[0;32m    182\u001b[0m \u001b[38;5;28mself\u001b[39m\u001b[38;5;241m.\u001b[39mloss_history\u001b[38;5;241m.\u001b[39mappend(loss)\n\u001b[0;32m    184\u001b[0m \u001b[38;5;66;03m# Perform a parameter update\u001b[39;00m\n",
      "File \u001b[1;32mc:\\Users\\79270\\Documents\\AppliedMath_CS_3\\DL_master_SamUni\\HW3\\scripts_\\classifiers\\fc_net.py:377\u001b[0m, in \u001b[0;36mFullyConnectedNet.loss\u001b[1;34m(self, X, y)\u001b[0m\n\u001b[0;32m    375\u001b[0m \u001b[38;5;28;01mif\u001b[39;00m \u001b[38;5;28mself\u001b[39m\u001b[38;5;241m.\u001b[39muse_dropout:\n\u001b[0;32m    376\u001b[0m     dhidden \u001b[38;5;241m=\u001b[39m dropout_backward(dhidden, caches\u001b[38;5;241m.\u001b[39mpop())\n\u001b[1;32m--> 377\u001b[0m dhidden \u001b[38;5;241m=\u001b[39m \u001b[43mrelu_backward\u001b[49m\u001b[43m(\u001b[49m\u001b[43mdhidden\u001b[49m\u001b[43m,\u001b[49m\u001b[43m \u001b[49m\u001b[43mcaches\u001b[49m\u001b[38;5;241;43m.\u001b[39;49m\u001b[43mpop\u001b[49m\u001b[43m(\u001b[49m\u001b[43m)\u001b[49m\u001b[43m)\u001b[49m\n\u001b[0;32m    378\u001b[0m \u001b[38;5;28;01mif\u001b[39;00m \u001b[38;5;28mself\u001b[39m\u001b[38;5;241m.\u001b[39mnormalization \u001b[38;5;241m==\u001b[39m \u001b[38;5;124m\"\u001b[39m\u001b[38;5;124mbatchnorm\u001b[39m\u001b[38;5;124m\"\u001b[39m:\n\u001b[0;32m    379\u001b[0m     dhidden, dgamma, dbeta \u001b[38;5;241m=\u001b[39m batchnorm_backward(dhidden, caches\u001b[38;5;241m.\u001b[39mpop())\n",
      "File \u001b[1;32mc:\\Users\\79270\\Documents\\AppliedMath_CS_3\\DL_master_SamUni\\HW3\\scripts_\\layers.py:127\u001b[0m, in \u001b[0;36mrelu_backward\u001b[1;34m(dout, cache)\u001b[0m\n\u001b[0;32m    121\u001b[0m \u001b[38;5;66;03m###########################################################################\u001b[39;00m\n\u001b[0;32m    122\u001b[0m \u001b[38;5;66;03m# TODO: Implement the ReLU backward pass.                                 #\u001b[39;00m\n\u001b[0;32m    123\u001b[0m \u001b[38;5;66;03m###########################################################################\u001b[39;00m\n\u001b[0;32m    124\u001b[0m \u001b[38;5;66;03m# *****START OF YOUR CODE (DO NOT DELETE/MODIFY THIS LINE)*****\u001b[39;00m\n\u001b[0;32m    126\u001b[0m x \u001b[38;5;241m=\u001b[39m cache\n\u001b[1;32m--> 127\u001b[0m dx \u001b[38;5;241m=\u001b[39m dout \u001b[38;5;241m*\u001b[39m (\u001b[43mx\u001b[49m\u001b[43m \u001b[49m\u001b[38;5;241;43m>\u001b[39;49m\u001b[43m \u001b[49m\u001b[38;5;241;43m0\u001b[39;49m)\n\u001b[0;32m    129\u001b[0m \u001b[38;5;66;03m# *****END OF YOUR CODE (DO NOT DELETE/MODIFY THIS LINE)*****\u001b[39;00m\n\u001b[0;32m    130\u001b[0m \u001b[38;5;66;03m###########################################################################\u001b[39;00m\n\u001b[0;32m    131\u001b[0m \u001b[38;5;66;03m#                             END OF YOUR CODE                            #\u001b[39;00m\n\u001b[0;32m    132\u001b[0m \u001b[38;5;66;03m###########################################################################\u001b[39;00m\n\u001b[0;32m    133\u001b[0m \u001b[38;5;28;01mreturn\u001b[39;00m dx\n",
      "\u001b[1;31mTypeError\u001b[0m: '>' not supported between instances of 'tuple' and 'int'"
     ]
    }
   ],
   "source": [
    "num_train = 4000\n",
    "small_data = {\n",
    "  'X_train': data['X_train'][:num_train],\n",
    "  'y_train': data['y_train'][:num_train],\n",
    "  'X_val': data['X_val'],\n",
    "  'y_val': data['y_val'],\n",
    "}\n",
    "\n",
    "solvers = {}\n",
    "\n",
    "for update_rule in ['sgd', 'sgd_momentum']:\n",
    "  print('running with ', update_rule)\n",
    "  model = FullyConnectedNet([100, 100, 100, 100, 100], weight_scale=5e-2)\n",
    "\n",
    "  solver = Solver(model, small_data,\n",
    "                  num_epochs=5, batch_size=100,\n",
    "                  update_rule=update_rule,\n",
    "                  optim_config={\n",
    "                    'learning_rate': 5e-3,\n",
    "                  },\n",
    "                  verbose=True)\n",
    "  solvers[update_rule] = solver\n",
    "  solver.train()\n",
    "  print()\n",
    "\n",
    "plt.subplot(3, 1, 1)\n",
    "plt.title('Training loss')\n",
    "plt.xlabel('Iteration')\n",
    "\n",
    "plt.subplot(3, 1, 2)\n",
    "plt.title('Training accuracy')\n",
    "plt.xlabel('Epoch')\n",
    "\n",
    "plt.subplot(3, 1, 3)\n",
    "plt.title('Validation accuracy')\n",
    "plt.xlabel('Epoch')\n",
    "\n",
    "for update_rule, solver in solvers.items():\n",
    "  plt.subplot(3, 1, 1)\n",
    "  plt.plot(solver.loss_history, 'o', label=\"loss_%s\" % update_rule)\n",
    "  \n",
    "  plt.subplot(3, 1, 2)\n",
    "  plt.plot(solver.train_acc_history, '-o', label=\"train_acc_%s\" % update_rule)\n",
    "\n",
    "  plt.subplot(3, 1, 3)\n",
    "  plt.plot(solver.val_acc_history, '-o', label=\"val_acc_%s\" % update_rule)\n",
    "  \n",
    "for i in [1, 2, 3]:\n",
    "  plt.subplot(3, 1, i)\n",
    "  plt.legend(loc='upper center', ncol=4)\n",
    "plt.gcf().set_size_inches(15, 15)\n",
    "plt.show()"
   ]
  },
  {
   "cell_type": "markdown",
   "metadata": {},
   "source": [
    "Реализуйте алгоритмы RMSProp [1] and Adam [2] с коррекцией смещения  - методы rmsprop и adam . \n",
    "\n",
    "\n",
    "[1] Tijmen Tieleman and Geoffrey Hinton. \"Lecture 6.5-rmsprop: Divide the gradient by a running average of its recent magnitude.\" COURSERA: Neural Networks for Machine Learning 4 (2012).\n",
    "\n",
    "[2] Diederik Kingma and Jimmy Ba, \"Adam: A Method for Stochastic Optimization\", ICLR 2015."
   ]
  },
  {
   "cell_type": "code",
   "execution_count": 19,
   "metadata": {},
   "outputs": [
    {
     "name": "stdout",
     "output_type": "stream",
     "text": [
      "next_w error:  9.502645229894295e-08\n",
      "cache error:  2.6477955807156126e-09\n"
     ]
    }
   ],
   "source": [
    "# Test RMSProp implementation\n",
    "from scripts.optim import rmsprop\n",
    "\n",
    "N, D = 4, 5\n",
    "w = np.linspace(-0.4, 0.6, num=N*D).reshape(N, D)\n",
    "dw = np.linspace(-0.6, 0.4, num=N*D).reshape(N, D)\n",
    "cache = np.linspace(0.6, 0.9, num=N*D).reshape(N, D)\n",
    "\n",
    "config = {'learning_rate': 1e-2, 'cache': cache}\n",
    "next_w, _ = rmsprop(w, dw, config=config)\n",
    "\n",
    "expected_next_w = np.asarray([\n",
    "  [-0.39223849, -0.34037513, -0.28849239, -0.23659121, -0.18467247],\n",
    "  [-0.132737,   -0.08078555, -0.02881884,  0.02316247,  0.07515774],\n",
    "  [ 0.12716641,  0.17918792,  0.23122175,  0.28326742,  0.33532447],\n",
    "  [ 0.38739248,  0.43947102,  0.49155973,  0.54365823,  0.59576619]])\n",
    "expected_cache = np.asarray([\n",
    "  [ 0.5976,      0.6126277,   0.6277108,   0.64284931,  0.65804321],\n",
    "  [ 0.67329252,  0.68859723,  0.70395734,  0.71937285,  0.73484377],\n",
    "  [ 0.75037008,  0.7659518,   0.78158892,  0.79728144,  0.81302936],\n",
    "  [ 0.82883269,  0.84469141,  0.86060554,  0.87657507,  0.8926    ]])\n",
    "\n",
    "# You should see relative errors around e-7 or less\n",
    "print('next_w error: ', rel_error(expected_next_w, next_w))\n",
    "print('cache error: ', rel_error(expected_cache, config['cache']))"
   ]
  },
  {
   "cell_type": "code",
   "execution_count": 20,
   "metadata": {},
   "outputs": [
    {
     "name": "stdout",
     "output_type": "stream",
     "text": [
      "next_w error:  1.139887467333134e-07\n",
      "v error:  4.208314038113071e-09\n",
      "m error:  4.214963193114416e-09\n"
     ]
    }
   ],
   "source": [
    "# Test Adam implementation\n",
    "from scripts.optim import adam\n",
    "\n",
    "N, D = 4, 5\n",
    "w = np.linspace(-0.4, 0.6, num=N*D).reshape(N, D)\n",
    "dw = np.linspace(-0.6, 0.4, num=N*D).reshape(N, D)\n",
    "m = np.linspace(0.6, 0.9, num=N*D).reshape(N, D)\n",
    "v = np.linspace(0.7, 0.5, num=N*D).reshape(N, D)\n",
    "\n",
    "config = {'learning_rate': 1e-2, 'm': m, 'v': v, 't': 5}\n",
    "next_w, _ = adam(w, dw, config=config)\n",
    "\n",
    "expected_next_w = np.asarray([\n",
    "  [-0.40094747, -0.34836187, -0.29577703, -0.24319299, -0.19060977],\n",
    "  [-0.1380274,  -0.08544591, -0.03286534,  0.01971428,  0.0722929],\n",
    "  [ 0.1248705,   0.17744702,  0.23002243,  0.28259667,  0.33516969],\n",
    "  [ 0.38774145,  0.44031188,  0.49288093,  0.54544852,  0.59801459]])\n",
    "expected_v = np.asarray([\n",
    "  [ 0.69966,     0.68908382,  0.67851319,  0.66794809,  0.65738853,],\n",
    "  [ 0.64683452,  0.63628604,  0.6257431,   0.61520571,  0.60467385,],\n",
    "  [ 0.59414753,  0.58362676,  0.57311152,  0.56260183,  0.55209767,],\n",
    "  [ 0.54159906,  0.53110598,  0.52061845,  0.51013645,  0.49966,   ]])\n",
    "expected_m = np.asarray([\n",
    "  [ 0.48,        0.49947368,  0.51894737,  0.53842105,  0.55789474],\n",
    "  [ 0.57736842,  0.59684211,  0.61631579,  0.63578947,  0.65526316],\n",
    "  [ 0.67473684,  0.69421053,  0.71368421,  0.73315789,  0.75263158],\n",
    "  [ 0.77210526,  0.79157895,  0.81105263,  0.83052632,  0.85      ]])\n",
    "\n",
    "# You should see relative errors around e-7 or less\n",
    "print('next_w error: ', rel_error(expected_next_w, next_w))\n",
    "print('v error: ', rel_error(expected_v, config['v']))\n",
    "print('m error: ', rel_error(expected_m, config['m']))"
   ]
  },
  {
   "cell_type": "markdown",
   "metadata": {},
   "source": [
    "Обучите пару глубоких сетей с испольованием RMSProp и Adam алгоритмов обновления весов и сравните результаты обучения."
   ]
  },
  {
   "cell_type": "markdown",
   "metadata": {},
   "source": [
    "Получите лучшую полносвязную сеть для классификации вашего набора данных. На наборе CIFAR-10 необходимо получить accuracy не ниже 50 % на валидационном наборе."
   ]
  },
  {
   "cell_type": "code",
   "execution_count": 21,
   "metadata": {},
   "outputs": [
    {
     "name": "stdout",
     "output_type": "stream",
     "text": [
      "Running with  adam\n",
      "X shape: (100, 784)\n",
      "scores shape: (100, 10)\n"
     ]
    },
    {
     "ename": "TypeError",
     "evalue": "'>' not supported between instances of 'tuple' and 'int'",
     "output_type": "error",
     "traceback": [
      "\u001b[1;31m---------------------------------------------------------------------------\u001b[0m",
      "\u001b[1;31mTypeError\u001b[0m                                 Traceback (most recent call last)",
      "Cell \u001b[1;32mIn[21], line 26\u001b[0m\n\u001b[0;32m     16\u001b[0m     solver \u001b[38;5;241m=\u001b[39m Solver(\n\u001b[0;32m     17\u001b[0m         model,\n\u001b[0;32m     18\u001b[0m         small_data,\n\u001b[1;32m   (...)\u001b[0m\n\u001b[0;32m     23\u001b[0m         verbose\u001b[38;5;241m=\u001b[39m\u001b[38;5;28;01mTrue\u001b[39;00m\n\u001b[0;32m     24\u001b[0m     )\n\u001b[0;32m     25\u001b[0m     solvers[update_rule] \u001b[38;5;241m=\u001b[39m solver\n\u001b[1;32m---> 26\u001b[0m     \u001b[43msolver\u001b[49m\u001b[38;5;241;43m.\u001b[39;49m\u001b[43mtrain\u001b[49m\u001b[43m(\u001b[49m\u001b[43m)\u001b[49m\n\u001b[0;32m     27\u001b[0m     \u001b[38;5;28mprint\u001b[39m()\n\u001b[0;32m     29\u001b[0m fig, axes \u001b[38;5;241m=\u001b[39m plt\u001b[38;5;241m.\u001b[39msubplots(\u001b[38;5;241m3\u001b[39m, \u001b[38;5;241m1\u001b[39m, figsize\u001b[38;5;241m=\u001b[39m(\u001b[38;5;241m15\u001b[39m, \u001b[38;5;241m15\u001b[39m))\n",
      "File \u001b[1;32mc:\\Users\\79270\\Documents\\AppliedMath_CS_3\\DL_master_SamUni\\HW3\\scripts_\\solver.py:263\u001b[0m, in \u001b[0;36mSolver.train\u001b[1;34m(self)\u001b[0m\n\u001b[0;32m    260\u001b[0m num_iterations \u001b[38;5;241m=\u001b[39m \u001b[38;5;28mself\u001b[39m\u001b[38;5;241m.\u001b[39mnum_epochs \u001b[38;5;241m*\u001b[39m iterations_per_epoch\n\u001b[0;32m    262\u001b[0m \u001b[38;5;28;01mfor\u001b[39;00m t \u001b[38;5;129;01min\u001b[39;00m \u001b[38;5;28mrange\u001b[39m(num_iterations):\n\u001b[1;32m--> 263\u001b[0m     \u001b[38;5;28;43mself\u001b[39;49m\u001b[38;5;241;43m.\u001b[39;49m\u001b[43m_step\u001b[49m\u001b[43m(\u001b[49m\u001b[43m)\u001b[49m\n\u001b[0;32m    265\u001b[0m     \u001b[38;5;66;03m# Maybe print training loss\u001b[39;00m\n\u001b[0;32m    266\u001b[0m     \u001b[38;5;28;01mif\u001b[39;00m \u001b[38;5;28mself\u001b[39m\u001b[38;5;241m.\u001b[39mverbose \u001b[38;5;129;01mand\u001b[39;00m t \u001b[38;5;241m%\u001b[39m \u001b[38;5;28mself\u001b[39m\u001b[38;5;241m.\u001b[39mprint_every \u001b[38;5;241m==\u001b[39m \u001b[38;5;241m0\u001b[39m:\n",
      "File \u001b[1;32mc:\\Users\\79270\\Documents\\AppliedMath_CS_3\\DL_master_SamUni\\HW3\\scripts_\\solver.py:181\u001b[0m, in \u001b[0;36mSolver._step\u001b[1;34m(self)\u001b[0m\n\u001b[0;32m    178\u001b[0m y_batch \u001b[38;5;241m=\u001b[39m \u001b[38;5;28mself\u001b[39m\u001b[38;5;241m.\u001b[39my_train[batch_mask]\n\u001b[0;32m    180\u001b[0m \u001b[38;5;66;03m# Compute loss and gradient\u001b[39;00m\n\u001b[1;32m--> 181\u001b[0m loss, grads \u001b[38;5;241m=\u001b[39m \u001b[38;5;28;43mself\u001b[39;49m\u001b[38;5;241;43m.\u001b[39;49m\u001b[43mmodel\u001b[49m\u001b[38;5;241;43m.\u001b[39;49m\u001b[43mloss\u001b[49m\u001b[43m(\u001b[49m\u001b[43mX_batch\u001b[49m\u001b[43m,\u001b[49m\u001b[43m \u001b[49m\u001b[43my_batch\u001b[49m\u001b[43m)\u001b[49m\n\u001b[0;32m    182\u001b[0m \u001b[38;5;28mself\u001b[39m\u001b[38;5;241m.\u001b[39mloss_history\u001b[38;5;241m.\u001b[39mappend(loss)\n\u001b[0;32m    184\u001b[0m \u001b[38;5;66;03m# Perform a parameter update\u001b[39;00m\n",
      "File \u001b[1;32mc:\\Users\\79270\\Documents\\AppliedMath_CS_3\\DL_master_SamUni\\HW3\\scripts_\\classifiers\\fc_net.py:377\u001b[0m, in \u001b[0;36mFullyConnectedNet.loss\u001b[1;34m(self, X, y)\u001b[0m\n\u001b[0;32m    375\u001b[0m \u001b[38;5;28;01mif\u001b[39;00m \u001b[38;5;28mself\u001b[39m\u001b[38;5;241m.\u001b[39muse_dropout:\n\u001b[0;32m    376\u001b[0m     dhidden \u001b[38;5;241m=\u001b[39m dropout_backward(dhidden, caches\u001b[38;5;241m.\u001b[39mpop())\n\u001b[1;32m--> 377\u001b[0m dhidden \u001b[38;5;241m=\u001b[39m \u001b[43mrelu_backward\u001b[49m\u001b[43m(\u001b[49m\u001b[43mdhidden\u001b[49m\u001b[43m,\u001b[49m\u001b[43m \u001b[49m\u001b[43mcaches\u001b[49m\u001b[38;5;241;43m.\u001b[39;49m\u001b[43mpop\u001b[49m\u001b[43m(\u001b[49m\u001b[43m)\u001b[49m\u001b[43m)\u001b[49m\n\u001b[0;32m    378\u001b[0m \u001b[38;5;28;01mif\u001b[39;00m \u001b[38;5;28mself\u001b[39m\u001b[38;5;241m.\u001b[39mnormalization \u001b[38;5;241m==\u001b[39m \u001b[38;5;124m\"\u001b[39m\u001b[38;5;124mbatchnorm\u001b[39m\u001b[38;5;124m\"\u001b[39m:\n\u001b[0;32m    379\u001b[0m     dhidden, dgamma, dbeta \u001b[38;5;241m=\u001b[39m batchnorm_backward(dhidden, caches\u001b[38;5;241m.\u001b[39mpop())\n",
      "File \u001b[1;32mc:\\Users\\79270\\Documents\\AppliedMath_CS_3\\DL_master_SamUni\\HW3\\scripts_\\layers.py:127\u001b[0m, in \u001b[0;36mrelu_backward\u001b[1;34m(dout, cache)\u001b[0m\n\u001b[0;32m    121\u001b[0m \u001b[38;5;66;03m###########################################################################\u001b[39;00m\n\u001b[0;32m    122\u001b[0m \u001b[38;5;66;03m# TODO: Implement the ReLU backward pass.                                 #\u001b[39;00m\n\u001b[0;32m    123\u001b[0m \u001b[38;5;66;03m###########################################################################\u001b[39;00m\n\u001b[0;32m    124\u001b[0m \u001b[38;5;66;03m# *****START OF YOUR CODE (DO NOT DELETE/MODIFY THIS LINE)*****\u001b[39;00m\n\u001b[0;32m    126\u001b[0m x \u001b[38;5;241m=\u001b[39m cache\n\u001b[1;32m--> 127\u001b[0m dx \u001b[38;5;241m=\u001b[39m dout \u001b[38;5;241m*\u001b[39m (\u001b[43mx\u001b[49m\u001b[43m \u001b[49m\u001b[38;5;241;43m>\u001b[39;49m\u001b[43m \u001b[49m\u001b[38;5;241;43m0\u001b[39;49m)\n\u001b[0;32m    129\u001b[0m \u001b[38;5;66;03m# *****END OF YOUR CODE (DO NOT DELETE/MODIFY THIS LINE)*****\u001b[39;00m\n\u001b[0;32m    130\u001b[0m \u001b[38;5;66;03m###########################################################################\u001b[39;00m\n\u001b[0;32m    131\u001b[0m \u001b[38;5;66;03m#                             END OF YOUR CODE                            #\u001b[39;00m\n\u001b[0;32m    132\u001b[0m \u001b[38;5;66;03m###########################################################################\u001b[39;00m\n\u001b[0;32m    133\u001b[0m \u001b[38;5;28;01mreturn\u001b[39;00m dx\n",
      "\u001b[1;31mTypeError\u001b[0m: '>' not supported between instances of 'tuple' and 'int'"
     ]
    }
   ],
   "source": [
    "best_model = None\n",
    "################################################################################\n",
    "# TODO: Train the best FullyConnectedNet that you can on CIFAR-10. You might   #\n",
    "# find batch/layer normalization and dropout useful. Store your best model in  #\n",
    "# the best_model variable.                                                     #\n",
    "################################################################################\n",
    "# *****START OF YOUR CODE (DO NOT DELETE/MODIFY THIS LINE)*****\n",
    "\n",
    "learning_rates = {'rmsprop': 1e-4, 'adam': 1e-3}\n",
    "for update_rule in ['adam', 'rmsprop']:\n",
    "    print('Running with ', update_rule)\n",
    "    model = FullyConnectedNet(\n",
    "        [100, 100, 100, 100, 100],\n",
    "        weight_scale=5e-2\n",
    "    )\n",
    "    solver = Solver(\n",
    "        model,\n",
    "        small_data,\n",
    "        num_epochs=5,\n",
    "        batch_size=100,\n",
    "        update_rule=update_rule,\n",
    "        optim_config={'learning_rate': learning_rates[update_rule]},\n",
    "        verbose=True\n",
    "    )\n",
    "    solvers[update_rule] = solver\n",
    "    solver.train()\n",
    "    print()\n",
    "    \n",
    "fig, axes = plt.subplots(3, 1, figsize=(15, 15))\n",
    "\n",
    "axes[0].set_title('Training loss')\n",
    "axes[0].set_xlabel('Iteration')\n",
    "axes[1].set_title('Training accuracy')\n",
    "axes[1].set_xlabel('Epoch')\n",
    "axes[2].set_title('Validation accuracy')\n",
    "axes[2].set_xlabel('Epoch')\n",
    "\n",
    "for update_rule, solver in solvers.items():\n",
    "    axes[0].plot(solver.loss_history, label=f\"{update_rule}\")\n",
    "    axes[1].plot(solver.train_acc_history, label=f\"{update_rule}\")\n",
    "    axes[2].plot(solver.val_acc_history, label=f\"{update_rule}\")\n",
    "    \n",
    "for ax in axes:\n",
    "    ax.legend(loc='best', ncol=4)\n",
    "    ax.grid(linestyle='--', linewidth=0.5)\n",
    "\n",
    "plt.show()\n",
    "\n",
    "# *****END OF YOUR CODE (DO NOT DELETE/MODIFY THIS LINE)*****\n",
    "################################################################################\n",
    "#                              END OF YOUR CODE                                #\n",
    "################################################################################"
   ]
  },
  {
   "cell_type": "markdown",
   "metadata": {},
   "source": [
    "Получите оценку accuracy для валидационной и тестовой выборок. "
   ]
  },
  {
   "cell_type": "code",
   "execution_count": null,
   "metadata": {},
   "outputs": [],
   "source": [
    "y_test_pred = np.argmax(best_model.loss(data['X_test']), axis=1)\n",
    "y_val_pred = np.argmax(best_model.loss(data['X_val']), axis=1)\n",
    "print('Validation set accuracy: ', (y_val_pred == data['y_val']).mean())\n",
    "print('Test set accuracy: ', (y_test_pred == data['y_test']).mean())"
   ]
  },
  {
   "cell_type": "markdown",
   "metadata": {},
   "source": [
    "# Нормализация по мини-батчам\n",
    "\n",
    "Идея нормализации по мини-батчам предложена в работе [1]\n",
    "\n",
    "[1] Sergey Ioffe and Christian Szegedy, \"Batch Normalization: Accelerating Deep Network Training by Reducing Internal Covariate Shift\", ICML 2015."
   ]
  },
  {
   "cell_type": "markdown",
   "metadata": {},
   "source": [
    "Реализуйте прямой проход для слоя батч-нормализации - функция batchnorm_forward в scripts/layers.py . Проверьте свою реализацию, запустив следующий код:"
   ]
  },
  {
   "cell_type": "code",
   "execution_count": 26,
   "metadata": {},
   "outputs": [
    {
     "name": "stdout",
     "output_type": "stream",
     "text": [
      "Before batch normalization:\n",
      "  means:  [ -2.3814598  -13.18038246   1.91780462]\n",
      "  stds:   [27.18502186 34.21455511 37.68611762]\n",
      "\n",
      "After batch normalization (gamma=1, beta=0)\n",
      "  means:  [5.32907052e-17 7.04991621e-17 1.85962357e-17]\n",
      "  stds:   [0.99999999 1.         1.        ]\n",
      "\n",
      "After batch normalization (gamma= [1. 2. 3.] , beta= [11. 12. 13.] )\n",
      "  means:  [11. 12. 13.]\n",
      "  stds:   [0.99999999 1.99999999 2.99999999]\n",
      "\n"
     ]
    }
   ],
   "source": [
    "# Check the training-time forward pass by checking means and variances\n",
    "# of features both before and after batch normalization   \n",
    "\n",
    "# Simulate the forward pass for a two-layer network\n",
    "np.random.seed(231)\n",
    "N, D1, D2, D3 = 200, 50, 60, 3\n",
    "X = np.random.randn(N, D1)\n",
    "W1 = np.random.randn(D1, D2)\n",
    "W2 = np.random.randn(D2, D3)\n",
    "a = np.maximum(0, X.dot(W1)).dot(W2)\n",
    "\n",
    "print('Before batch normalization:')\n",
    "print_mean_std(a,axis=0)\n",
    "\n",
    "gamma = np.ones((D3,))\n",
    "beta = np.zeros((D3,))\n",
    "# Means should be close to zero and stds close to one\n",
    "print('After batch normalization (gamma=1, beta=0)')\n",
    "a_norm, _ = batchnorm_forward(a, gamma, beta, {'mode': 'train'})\n",
    "print_mean_std(a_norm,axis=0)\n",
    "\n",
    "gamma = np.asarray([1.0, 2.0, 3.0])\n",
    "beta = np.asarray([11.0, 12.0, 13.0])\n",
    "# Now means should be close to beta and stds close to gamma\n",
    "print('After batch normalization (gamma=', gamma, ', beta=', beta, ')')\n",
    "a_norm, _ = batchnorm_forward(a, gamma, beta, {'mode': 'train'})\n",
    "print_mean_std(a_norm,axis=0)"
   ]
  },
  {
   "cell_type": "code",
   "execution_count": 27,
   "metadata": {},
   "outputs": [
    {
     "name": "stdout",
     "output_type": "stream",
     "text": [
      "After batch normalization (test-time):\n",
      "  means:  [-0.03927354 -0.04349152 -0.10452688]\n",
      "  stds:   [1.01531428 1.01238373 0.97819988]\n",
      "\n"
     ]
    }
   ],
   "source": [
    "# Check the test-time forward pass by running the training-time\n",
    "# forward pass many times to warm up the running averages, and then\n",
    "# checking the means and variances of activations after a test-time\n",
    "# forward pass.\n",
    "\n",
    "np.random.seed(231)\n",
    "N, D1, D2, D3 = 200, 50, 60, 3\n",
    "W1 = np.random.randn(D1, D2)\n",
    "W2 = np.random.randn(D2, D3)\n",
    "\n",
    "bn_param = {'mode': 'train'}\n",
    "gamma = np.ones(D3)\n",
    "beta = np.zeros(D3)\n",
    "\n",
    "for t in range(50):\n",
    "  X = np.random.randn(N, D1)\n",
    "  a = np.maximum(0, X.dot(W1)).dot(W2)\n",
    "  batchnorm_forward(a, gamma, beta, bn_param)\n",
    "\n",
    "bn_param['mode'] = 'test'\n",
    "X = np.random.randn(N, D1)\n",
    "a = np.maximum(0, X.dot(W1)).dot(W2)\n",
    "a_norm, _ = batchnorm_forward(a, gamma, beta, bn_param)\n",
    "\n",
    "# Means should be close to zero and stds close to one, but will be\n",
    "# noisier than training-time forward passes.\n",
    "print('After batch normalization (test-time):')\n",
    "print_mean_std(a_norm,axis=0)"
   ]
  },
  {
   "cell_type": "markdown",
   "metadata": {},
   "source": [
    "Реализуйте обратный проход в функции batchnorm_backward."
   ]
  },
  {
   "cell_type": "code",
   "execution_count": 28,
   "metadata": {},
   "outputs": [
    {
     "name": "stdout",
     "output_type": "stream",
     "text": [
      "dx error:  1.7029261167605239e-09\n",
      "dgamma error:  7.420414216247087e-13\n",
      "dbeta error:  2.8795057655839487e-12\n"
     ]
    }
   ],
   "source": [
    "# Gradient check batchnorm backward pass\n",
    "np.random.seed(231)\n",
    "N, D = 4, 5\n",
    "x = 5 * np.random.randn(N, D) + 12\n",
    "gamma = np.random.randn(D)\n",
    "beta = np.random.randn(D)\n",
    "dout = np.random.randn(N, D)\n",
    "\n",
    "bn_param = {'mode': 'train'}\n",
    "fx = lambda x: batchnorm_forward(x, gamma, beta, bn_param)[0]\n",
    "fg = lambda a: batchnorm_forward(x, a, beta, bn_param)[0]\n",
    "fb = lambda b: batchnorm_forward(x, gamma, b, bn_param)[0]\n",
    "\n",
    "dx_num = eval_numerical_gradient_array(fx, x, dout)\n",
    "da_num = eval_numerical_gradient_array(fg, gamma.copy(), dout)\n",
    "db_num = eval_numerical_gradient_array(fb, beta.copy(), dout)\n",
    "\n",
    "_, cache = batchnorm_forward(x, gamma, beta, bn_param)\n",
    "dx, dgamma, dbeta = batchnorm_backward(dout, cache)\n",
    "#You should expect to see relative errors between 1e-13 and 1e-8\n",
    "print('dx error: ', rel_error(dx_num, dx))\n",
    "print('dgamma error: ', rel_error(da_num, dgamma))\n",
    "print('dbeta error: ', rel_error(db_num, dbeta))"
   ]
  },
  {
   "cell_type": "markdown",
   "metadata": {},
   "source": [
    "Измените реализацию класса FullyConnectedNet, добавив батч-нормализацию. \n",
    "Если флаг normalization == \"batchnorm\", то вам необходимо вставить слой батч-нормализации перед каждым слоем активации ReLU, кроме выхода сети. "
   ]
  },
  {
   "cell_type": "code",
   "execution_count": 29,
   "metadata": {},
   "outputs": [
    {
     "name": "stdout",
     "output_type": "stream",
     "text": [
      "Running check with reg =  0\n",
      "X shape: (2, 15)\n",
      "scores shape: (2, 10)\n"
     ]
    },
    {
     "ename": "AttributeError",
     "evalue": "'float' object has no attribute 'shape'",
     "output_type": "error",
     "traceback": [
      "\u001b[1;31m---------------------------------------------------------------------------\u001b[0m",
      "\u001b[1;31mAttributeError\u001b[0m                            Traceback (most recent call last)",
      "Cell \u001b[1;32mIn[29], line 15\u001b[0m\n\u001b[0;32m     10\u001b[0m \u001b[38;5;28mprint\u001b[39m(\u001b[38;5;124m'\u001b[39m\u001b[38;5;124mRunning check with reg = \u001b[39m\u001b[38;5;124m'\u001b[39m, reg)\n\u001b[0;32m     11\u001b[0m model \u001b[38;5;241m=\u001b[39m FullyConnectedNet([H1, H2], input_dim\u001b[38;5;241m=\u001b[39mD, num_classes\u001b[38;5;241m=\u001b[39mC,\n\u001b[0;32m     12\u001b[0m                           reg\u001b[38;5;241m=\u001b[39mreg, weight_scale\u001b[38;5;241m=\u001b[39m\u001b[38;5;241m5e-2\u001b[39m, dtype\u001b[38;5;241m=\u001b[39mnp\u001b[38;5;241m.\u001b[39mfloat64,\n\u001b[0;32m     13\u001b[0m                           normalization\u001b[38;5;241m=\u001b[39m\u001b[38;5;124m'\u001b[39m\u001b[38;5;124mbatchnorm\u001b[39m\u001b[38;5;124m'\u001b[39m)\n\u001b[1;32m---> 15\u001b[0m loss, grads \u001b[38;5;241m=\u001b[39m \u001b[43mmodel\u001b[49m\u001b[38;5;241;43m.\u001b[39;49m\u001b[43mloss\u001b[49m\u001b[43m(\u001b[49m\u001b[43mX\u001b[49m\u001b[43m,\u001b[49m\u001b[43m \u001b[49m\u001b[43my\u001b[49m\u001b[43m)\u001b[49m\n\u001b[0;32m     16\u001b[0m \u001b[38;5;28mprint\u001b[39m(\u001b[38;5;124m'\u001b[39m\u001b[38;5;124mInitial loss: \u001b[39m\u001b[38;5;124m'\u001b[39m, loss)\n\u001b[0;32m     18\u001b[0m \u001b[38;5;28;01mfor\u001b[39;00m name \u001b[38;5;129;01min\u001b[39;00m \u001b[38;5;28msorted\u001b[39m(grads):\n",
      "File \u001b[1;32mc:\\Users\\79270\\Documents\\AppliedMath_CS_3\\DL_master_SamUni\\HW3\\scripts_\\classifiers\\fc_net.py:377\u001b[0m, in \u001b[0;36mFullyConnectedNet.loss\u001b[1;34m(self, X, y)\u001b[0m\n\u001b[0;32m    375\u001b[0m \u001b[38;5;28;01mif\u001b[39;00m \u001b[38;5;28mself\u001b[39m\u001b[38;5;241m.\u001b[39muse_dropout:\n\u001b[0;32m    376\u001b[0m     dhidden \u001b[38;5;241m=\u001b[39m dropout_backward(dhidden, caches\u001b[38;5;241m.\u001b[39mpop())\n\u001b[1;32m--> 377\u001b[0m dhidden \u001b[38;5;241m=\u001b[39m \u001b[43mrelu_backward\u001b[49m\u001b[43m(\u001b[49m\u001b[43mdhidden\u001b[49m\u001b[43m,\u001b[49m\u001b[43m \u001b[49m\u001b[43mcaches\u001b[49m\u001b[38;5;241;43m.\u001b[39;49m\u001b[43mpop\u001b[49m\u001b[43m(\u001b[49m\u001b[43m)\u001b[49m\u001b[43m)\u001b[49m\n\u001b[0;32m    378\u001b[0m \u001b[38;5;28;01mif\u001b[39;00m \u001b[38;5;28mself\u001b[39m\u001b[38;5;241m.\u001b[39mnormalization \u001b[38;5;241m==\u001b[39m \u001b[38;5;124m\"\u001b[39m\u001b[38;5;124mbatchnorm\u001b[39m\u001b[38;5;124m\"\u001b[39m:\n\u001b[0;32m    379\u001b[0m     dhidden, dgamma, dbeta \u001b[38;5;241m=\u001b[39m batchnorm_backward(dhidden, caches\u001b[38;5;241m.\u001b[39mpop())\n",
      "File \u001b[1;32mc:\\Users\\79270\\Documents\\AppliedMath_CS_3\\DL_master_SamUni\\HW3\\scripts_\\layers.py:126\u001b[0m, in \u001b[0;36mrelu_backward\u001b[1;34m(dout, cache)\u001b[0m\n\u001b[0;32m    120\u001b[0m dx, x \u001b[38;5;241m=\u001b[39m \u001b[38;5;28;01mNone\u001b[39;00m, cache\n\u001b[0;32m    121\u001b[0m \u001b[38;5;66;03m###########################################################################\u001b[39;00m\n\u001b[0;32m    122\u001b[0m \u001b[38;5;66;03m# TODO: Implement the ReLU backward pass.                                 #\u001b[39;00m\n\u001b[0;32m    123\u001b[0m \u001b[38;5;66;03m###########################################################################\u001b[39;00m\n\u001b[0;32m    124\u001b[0m \u001b[38;5;66;03m# *****START OF YOUR CODE (DO NOT DELETE/MODIFY THIS LINE)*****\u001b[39;00m\n\u001b[0;32m    125\u001b[0m \u001b[38;5;66;03m# print(\"Type of x:\", type(x))\u001b[39;00m\n\u001b[1;32m--> 126\u001b[0m \u001b[38;5;28mprint\u001b[39m(\u001b[38;5;124m\"\u001b[39m\u001b[38;5;124mShape of x[0]:\u001b[39m\u001b[38;5;124m\"\u001b[39m, \u001b[43mx\u001b[49m\u001b[43m[\u001b[49m\u001b[38;5;241;43m-\u001b[39;49m\u001b[38;5;241;43m1\u001b[39;49m\u001b[43m]\u001b[49m\u001b[38;5;241;43m.\u001b[39;49m\u001b[43mshape\u001b[49m)\n\u001b[0;32m    127\u001b[0m \u001b[38;5;28mprint\u001b[39m(\u001b[38;5;124m\"\u001b[39m\u001b[38;5;124mShape of dout:\u001b[39m\u001b[38;5;124m\"\u001b[39m, dout\u001b[38;5;241m.\u001b[39mshape)\n\u001b[0;32m    129\u001b[0m x \u001b[38;5;241m=\u001b[39m cache\n",
      "\u001b[1;31mAttributeError\u001b[0m: 'float' object has no attribute 'shape'"
     ]
    }
   ],
   "source": [
    "np.random.seed(231)\n",
    "N, D, H1, H2, C = 2, 15, 20, 30, 10\n",
    "X = np.random.randn(N, D)\n",
    "y = np.random.randint(C, size=(N,))\n",
    "\n",
    "# You should expect losses between 1e-4~1e-10 for W, \n",
    "# losses between 1e-08~1e-10 for b,\n",
    "# and losses between 1e-08~1e-09 for beta and gammas.\n",
    "for reg in [0, 3.14]:\n",
    "  print('Running check with reg = ', reg)\n",
    "  model = FullyConnectedNet([H1, H2], input_dim=D, num_classes=C,\n",
    "                            reg=reg, weight_scale=5e-2, dtype=np.float64,\n",
    "                            normalization='batchnorm')\n",
    "\n",
    "  loss, grads = model.loss(X, y)\n",
    "  print('Initial loss: ', loss)\n",
    "\n",
    "  for name in sorted(grads):\n",
    "    f = lambda _: model.loss(X, y)[0]\n",
    "    grad_num = eval_numerical_gradient(f, model.params[name], verbose=False, h=1e-5)\n",
    "    print('%s relative error: %.2e' % (name, rel_error(grad_num, grads[name])))\n",
    "  if reg == 0: print()"
   ]
  },
  {
   "cell_type": "markdown",
   "metadata": {},
   "source": [
    "Обучите 6-ти слойную сеть на наборе из 1000 изображений с батч-нормализацией и без нее"
   ]
  },
  {
   "cell_type": "code",
   "execution_count": 30,
   "metadata": {},
   "outputs": [
    {
     "name": "stdout",
     "output_type": "stream",
     "text": [
      "Solver with batch norm:\n",
      "X shape: (50, 784)\n",
      "scores shape: (50, 10)\n"
     ]
    },
    {
     "ename": "AttributeError",
     "evalue": "'float' object has no attribute 'shape'",
     "output_type": "error",
     "traceback": [
      "\u001b[1;31m---------------------------------------------------------------------------\u001b[0m",
      "\u001b[1;31mAttributeError\u001b[0m                            Traceback (most recent call last)",
      "Cell \u001b[1;32mIn[30], line 25\u001b[0m\n\u001b[0;32m     17\u001b[0m \u001b[38;5;28mprint\u001b[39m(\u001b[38;5;124m'\u001b[39m\u001b[38;5;124mSolver with batch norm:\u001b[39m\u001b[38;5;124m'\u001b[39m)\n\u001b[0;32m     18\u001b[0m bn_solver \u001b[38;5;241m=\u001b[39m Solver(bn_model, small_data,\n\u001b[0;32m     19\u001b[0m                 num_epochs\u001b[38;5;241m=\u001b[39m\u001b[38;5;241m10\u001b[39m, batch_size\u001b[38;5;241m=\u001b[39m\u001b[38;5;241m50\u001b[39m,\n\u001b[0;32m     20\u001b[0m                 update_rule\u001b[38;5;241m=\u001b[39m\u001b[38;5;124m'\u001b[39m\u001b[38;5;124madam\u001b[39m\u001b[38;5;124m'\u001b[39m,\n\u001b[1;32m   (...)\u001b[0m\n\u001b[0;32m     23\u001b[0m                 },\n\u001b[0;32m     24\u001b[0m                 verbose\u001b[38;5;241m=\u001b[39m\u001b[38;5;28;01mTrue\u001b[39;00m,print_every\u001b[38;5;241m=\u001b[39m\u001b[38;5;241m20\u001b[39m)\n\u001b[1;32m---> 25\u001b[0m \u001b[43mbn_solver\u001b[49m\u001b[38;5;241;43m.\u001b[39;49m\u001b[43mtrain\u001b[49m\u001b[43m(\u001b[49m\u001b[43m)\u001b[49m\n\u001b[0;32m     27\u001b[0m \u001b[38;5;28mprint\u001b[39m(\u001b[38;5;124m'\u001b[39m\u001b[38;5;130;01m\\n\u001b[39;00m\u001b[38;5;124mSolver without batch norm:\u001b[39m\u001b[38;5;124m'\u001b[39m)\n\u001b[0;32m     28\u001b[0m solver \u001b[38;5;241m=\u001b[39m Solver(model, small_data,\n\u001b[0;32m     29\u001b[0m                 num_epochs\u001b[38;5;241m=\u001b[39m\u001b[38;5;241m10\u001b[39m, batch_size\u001b[38;5;241m=\u001b[39m\u001b[38;5;241m50\u001b[39m,\n\u001b[0;32m     30\u001b[0m                 update_rule\u001b[38;5;241m=\u001b[39m\u001b[38;5;124m'\u001b[39m\u001b[38;5;124madam\u001b[39m\u001b[38;5;124m'\u001b[39m,\n\u001b[1;32m   (...)\u001b[0m\n\u001b[0;32m     33\u001b[0m                 },\n\u001b[0;32m     34\u001b[0m                 verbose\u001b[38;5;241m=\u001b[39m\u001b[38;5;28;01mTrue\u001b[39;00m, print_every\u001b[38;5;241m=\u001b[39m\u001b[38;5;241m20\u001b[39m)\n",
      "File \u001b[1;32mc:\\Users\\79270\\Documents\\AppliedMath_CS_3\\DL_master_SamUni\\HW3\\scripts_\\solver.py:263\u001b[0m, in \u001b[0;36mSolver.train\u001b[1;34m(self)\u001b[0m\n\u001b[0;32m    260\u001b[0m num_iterations \u001b[38;5;241m=\u001b[39m \u001b[38;5;28mself\u001b[39m\u001b[38;5;241m.\u001b[39mnum_epochs \u001b[38;5;241m*\u001b[39m iterations_per_epoch\n\u001b[0;32m    262\u001b[0m \u001b[38;5;28;01mfor\u001b[39;00m t \u001b[38;5;129;01min\u001b[39;00m \u001b[38;5;28mrange\u001b[39m(num_iterations):\n\u001b[1;32m--> 263\u001b[0m     \u001b[38;5;28;43mself\u001b[39;49m\u001b[38;5;241;43m.\u001b[39;49m\u001b[43m_step\u001b[49m\u001b[43m(\u001b[49m\u001b[43m)\u001b[49m\n\u001b[0;32m    265\u001b[0m     \u001b[38;5;66;03m# Maybe print training loss\u001b[39;00m\n\u001b[0;32m    266\u001b[0m     \u001b[38;5;28;01mif\u001b[39;00m \u001b[38;5;28mself\u001b[39m\u001b[38;5;241m.\u001b[39mverbose \u001b[38;5;129;01mand\u001b[39;00m t \u001b[38;5;241m%\u001b[39m \u001b[38;5;28mself\u001b[39m\u001b[38;5;241m.\u001b[39mprint_every \u001b[38;5;241m==\u001b[39m \u001b[38;5;241m0\u001b[39m:\n",
      "File \u001b[1;32mc:\\Users\\79270\\Documents\\AppliedMath_CS_3\\DL_master_SamUni\\HW3\\scripts_\\solver.py:181\u001b[0m, in \u001b[0;36mSolver._step\u001b[1;34m(self)\u001b[0m\n\u001b[0;32m    178\u001b[0m y_batch \u001b[38;5;241m=\u001b[39m \u001b[38;5;28mself\u001b[39m\u001b[38;5;241m.\u001b[39my_train[batch_mask]\n\u001b[0;32m    180\u001b[0m \u001b[38;5;66;03m# Compute loss and gradient\u001b[39;00m\n\u001b[1;32m--> 181\u001b[0m loss, grads \u001b[38;5;241m=\u001b[39m \u001b[38;5;28;43mself\u001b[39;49m\u001b[38;5;241;43m.\u001b[39;49m\u001b[43mmodel\u001b[49m\u001b[38;5;241;43m.\u001b[39;49m\u001b[43mloss\u001b[49m\u001b[43m(\u001b[49m\u001b[43mX_batch\u001b[49m\u001b[43m,\u001b[49m\u001b[43m \u001b[49m\u001b[43my_batch\u001b[49m\u001b[43m)\u001b[49m\n\u001b[0;32m    182\u001b[0m \u001b[38;5;28mself\u001b[39m\u001b[38;5;241m.\u001b[39mloss_history\u001b[38;5;241m.\u001b[39mappend(loss)\n\u001b[0;32m    184\u001b[0m \u001b[38;5;66;03m# Perform a parameter update\u001b[39;00m\n",
      "File \u001b[1;32mc:\\Users\\79270\\Documents\\AppliedMath_CS_3\\DL_master_SamUni\\HW3\\scripts_\\classifiers\\fc_net.py:377\u001b[0m, in \u001b[0;36mFullyConnectedNet.loss\u001b[1;34m(self, X, y)\u001b[0m\n\u001b[0;32m    375\u001b[0m \u001b[38;5;28;01mif\u001b[39;00m \u001b[38;5;28mself\u001b[39m\u001b[38;5;241m.\u001b[39muse_dropout:\n\u001b[0;32m    376\u001b[0m     dhidden \u001b[38;5;241m=\u001b[39m dropout_backward(dhidden, caches\u001b[38;5;241m.\u001b[39mpop())\n\u001b[1;32m--> 377\u001b[0m dhidden \u001b[38;5;241m=\u001b[39m \u001b[43mrelu_backward\u001b[49m\u001b[43m(\u001b[49m\u001b[43mdhidden\u001b[49m\u001b[43m,\u001b[49m\u001b[43m \u001b[49m\u001b[43mcaches\u001b[49m\u001b[38;5;241;43m.\u001b[39;49m\u001b[43mpop\u001b[49m\u001b[43m(\u001b[49m\u001b[43m)\u001b[49m\u001b[43m)\u001b[49m\n\u001b[0;32m    378\u001b[0m \u001b[38;5;28;01mif\u001b[39;00m \u001b[38;5;28mself\u001b[39m\u001b[38;5;241m.\u001b[39mnormalization \u001b[38;5;241m==\u001b[39m \u001b[38;5;124m\"\u001b[39m\u001b[38;5;124mbatchnorm\u001b[39m\u001b[38;5;124m\"\u001b[39m:\n\u001b[0;32m    379\u001b[0m     dhidden, dgamma, dbeta \u001b[38;5;241m=\u001b[39m batchnorm_backward(dhidden, caches\u001b[38;5;241m.\u001b[39mpop())\n",
      "File \u001b[1;32mc:\\Users\\79270\\Documents\\AppliedMath_CS_3\\DL_master_SamUni\\HW3\\scripts_\\layers.py:126\u001b[0m, in \u001b[0;36mrelu_backward\u001b[1;34m(dout, cache)\u001b[0m\n\u001b[0;32m    120\u001b[0m dx, x \u001b[38;5;241m=\u001b[39m \u001b[38;5;28;01mNone\u001b[39;00m, cache\n\u001b[0;32m    121\u001b[0m \u001b[38;5;66;03m###########################################################################\u001b[39;00m\n\u001b[0;32m    122\u001b[0m \u001b[38;5;66;03m# TODO: Implement the ReLU backward pass.                                 #\u001b[39;00m\n\u001b[0;32m    123\u001b[0m \u001b[38;5;66;03m###########################################################################\u001b[39;00m\n\u001b[0;32m    124\u001b[0m \u001b[38;5;66;03m# *****START OF YOUR CODE (DO NOT DELETE/MODIFY THIS LINE)*****\u001b[39;00m\n\u001b[0;32m    125\u001b[0m \u001b[38;5;66;03m# print(\"Type of x:\", type(x))\u001b[39;00m\n\u001b[1;32m--> 126\u001b[0m \u001b[38;5;28mprint\u001b[39m(\u001b[38;5;124m\"\u001b[39m\u001b[38;5;124mShape of x[0]:\u001b[39m\u001b[38;5;124m\"\u001b[39m, \u001b[43mx\u001b[49m\u001b[43m[\u001b[49m\u001b[38;5;241;43m-\u001b[39;49m\u001b[38;5;241;43m1\u001b[39;49m\u001b[43m]\u001b[49m\u001b[38;5;241;43m.\u001b[39;49m\u001b[43mshape\u001b[49m)\n\u001b[0;32m    127\u001b[0m \u001b[38;5;28mprint\u001b[39m(\u001b[38;5;124m\"\u001b[39m\u001b[38;5;124mShape of dout:\u001b[39m\u001b[38;5;124m\"\u001b[39m, dout\u001b[38;5;241m.\u001b[39mshape)\n\u001b[0;32m    129\u001b[0m x \u001b[38;5;241m=\u001b[39m cache\n",
      "\u001b[1;31mAttributeError\u001b[0m: 'float' object has no attribute 'shape'"
     ]
    }
   ],
   "source": [
    "np.random.seed(231)\n",
    "# Try training a very deep net with batchnorm\n",
    "hidden_dims = [100, 100, 100, 100, 100]\n",
    "\n",
    "num_train = 1000\n",
    "small_data = {\n",
    "  'X_train': data['X_train'][:num_train],\n",
    "  'y_train': data['y_train'][:num_train],\n",
    "  'X_val': data['X_val'],\n",
    "  'y_val': data['y_val'],\n",
    "}\n",
    "\n",
    "weight_scale = 2e-2\n",
    "bn_model = FullyConnectedNet(hidden_dims, weight_scale=weight_scale, normalization='batchnorm')\n",
    "model = FullyConnectedNet(hidden_dims, weight_scale=weight_scale, normalization=None)\n",
    "\n",
    "print('Solver with batch norm:')\n",
    "bn_solver = Solver(bn_model, small_data,\n",
    "                num_epochs=10, batch_size=50,\n",
    "                update_rule='adam',\n",
    "                optim_config={\n",
    "                  'learning_rate': 1e-3,\n",
    "                },\n",
    "                verbose=True,print_every=20)\n",
    "bn_solver.train()\n",
    "\n",
    "print('\\nSolver without batch norm:')\n",
    "solver = Solver(model, small_data,\n",
    "                num_epochs=10, batch_size=50,\n",
    "                update_rule='adam',\n",
    "                optim_config={\n",
    "                  'learning_rate': 1e-3,\n",
    "                },\n",
    "                verbose=True, print_every=20)\n",
    "solver.train()"
   ]
  },
  {
   "cell_type": "markdown",
   "metadata": {},
   "source": [
    "Визуализируйте процесс обучения для двух сетей. Увеличилась ли скорость сходимости в случае с батч-нормализацией? Сделайте выводы. "
   ]
  },
  {
   "cell_type": "code",
   "execution_count": 31,
   "metadata": {},
   "outputs": [
    {
     "data": {
      "image/png": "[encoded data removed]",
      "text/plain": [
       "<Figure size 1500x1500 with 3 Axes>"
      ]
     },
     "metadata": {},
     "output_type": "display_data"
    }
   ],
   "source": [
    "def plot_training_history(title, label, baseline, bn_solvers, plot_fn, bl_marker='.', bn_marker='.', labels=None):\n",
    "    \"\"\"utility function for plotting training history\"\"\"\n",
    "    plt.title(title)\n",
    "    plt.xlabel(label)\n",
    "    bn_plots = [plot_fn(bn_solver) for bn_solver in bn_solvers]\n",
    "    bl_plot = plot_fn(baseline)\n",
    "    num_bn = len(bn_plots)\n",
    "    for i in range(num_bn):\n",
    "        label='with_norm'\n",
    "        if labels is not None:\n",
    "            label += str(labels[i])\n",
    "        plt.plot(bn_plots[i], bn_marker, label=label)\n",
    "    label='baseline'\n",
    "    if labels is not None:\n",
    "        label += str(labels[0])\n",
    "    plt.plot(bl_plot, bl_marker, label=label)\n",
    "    plt.legend(loc='lower center', ncol=num_bn+1) \n",
    "\n",
    "    \n",
    "plt.subplot(3, 1, 1)\n",
    "plot_training_history('Training loss','Iteration', solver, [bn_solver], \\\n",
    "                      lambda x: x.loss_history, bl_marker='o', bn_marker='o')\n",
    "plt.subplot(3, 1, 2)\n",
    "plot_training_history('Training accuracy','Epoch', solver, [bn_solver], \\\n",
    "                      lambda x: x.train_acc_history, bl_marker='-o', bn_marker='-o')\n",
    "plt.subplot(3, 1, 3)\n",
    "plot_training_history('Validation accuracy','Epoch', solver, [bn_solver], \\\n",
    "                      lambda x: x.val_acc_history, bl_marker='-o', bn_marker='-o')\n",
    "\n",
    "plt.gcf().set_size_inches(15, 15)\n",
    "plt.show()"
   ]
  },
  {
   "cell_type": "markdown",
   "metadata": {},
   "source": [
    "Обучите 6-тислойную сеть с батч-нормализацией и без нее, используя разные размеры батча. Визуализируйте графики обучения. Сделайте выводы по результатам эксперимента. "
   ]
  },
  {
   "cell_type": "code",
   "execution_count": 32,
   "metadata": {},
   "outputs": [
    {
     "name": "stderr",
     "output_type": "stream",
     "text": [
      "ic| x: (array([[0.00000000e+00, 4.37937260e-01, 0.00000000e+00, 0.00000000e+00,\n",
      "               0.00000000e+00, 4.81449589e-02, 0.00000000e+00, 1.72147959e-01,\n",
      "               1.51555270e-01, 0.00000000e+00, 5.41352965e-02, 2.87043095e-01,\n",
      "               0.00000000e+00, 6.87242150e-02, 3.17153811e-01, 0.00000000e+00,\n",
      "               0.00000000e+00, 2.27669179e-01, 1.47597298e-01, 0.00000000e+00,\n",
      "               2.22718623e-02, 0.00000000e+00, 0.00000000e+00, 1.43943727e-01,\n",
      "               0.00000000e+00, 9.03022140e-02, 8.07640180e-02, 0.00000000e+00,\n",
      "               0.00000000e+00, 4.43605930e-02, 1.04976058e-01, 9.48973093e-03,\n",
      "               1.36274934e-01, 3.21908593e-01, 0.00000000e+00, 0.00000000e+00,\n",
      "               0.00000000e+00, 0.00000000e+00, 1.33536756e-01, 1.69349328e-01,\n",
      "               0.00000000e+00, 1.85576648e-01, 0.00000000e+00, 0.00000000e+00,\n",
      "               2.43079111e-01, 0.00000000e+00, 0.00000000e+00, 1.33270785e-01,\n",
      "               0.00000000e+00, 1.71348155e-01, 7.17422962e-02, 7.28776455e-02,\n",
      "               0.00000000e+00, 6.90342560e-02, 2.76042689e-02, 0.00000000e+00,\n",
      "               4.61451299e-02, 0.00000000e+00, 0.00000000e+00, 0.00000000e+00,\n",
      "               0.00000000e+00, 7.92402178e-02, 0.00000000e+00, 2.80692220e-01,\n",
      "               2.04726249e-01, 9.39683616e-02, 1.99168980e-01, 0.00000000e+00,\n",
      "               2.45133489e-02, 1.00635983e-01, 0.00000000e+00, 0.00000000e+00,\n",
      "               0.00000000e+00, 1.68196887e-01, 0.00000000e+00, 1.59844428e-01,\n",
      "               4.87209633e-02, 0.00000000e+00, 0.00000000e+00, 0.00000000e+00,\n",
      "               1.06058665e-01, 1.29817232e-01, 1.57042772e-01, 0.00000000e+00,\n",
      "               5.73460571e-02, 0.00000000e+00, 2.80716009e-02, 2.11062595e-01,\n",
      "               7.70456791e-02, 0.00000000e+00, 7.51662068e-03, 0.00000000e+00,\n",
      "               0.00000000e+00, 2.06038594e-01, 9.00744721e-02, 1.83438569e-01,\n",
      "               3.11338194e-02, 9.47759449e-02, 7.86583647e-02, 0.00000000e+00],\n",
      "              [0.00000000e+00, 3.37079227e-01, 2.34902389e-02, 0.00000000e+00,\n",
      "               0.00000000e+00, 9.48833078e-02, 0.00000000e+00, 1.15118615e-01,\n",
      "               6.32872805e-02, 0.00000000e+00, 8.74878317e-02, 1.63123190e-01,\n",
      "               0.00000000e+00, 5.14741391e-02, 2.79916346e-01, 0.00000000e+00,\n",
      "               0.00000000e+00, 1.69112787e-01, 0.00000000e+00, 8.41751099e-02,\n",
      "               5.98130152e-02, 0.00000000e+00, 0.00000000e+00, 1.03547215e-01,\n",
      "               3.75885293e-02, 1.86175764e-01, 2.17424542e-01, 0.00000000e+00,\n",
      "               0.00000000e+00, 5.98430187e-02, 0.00000000e+00, 1.32823125e-01,\n",
      "               4.87691015e-02, 2.39723563e-01, 1.03010982e-01, 0.00000000e+00,\n",
      "               0.00000000e+00, 0.00000000e+00, 6.52104989e-02, 2.27769837e-04,\n",
      "               0.00000000e+00, 1.77692950e-01, 0.00000000e+00, 8.36019367e-02,\n",
      "               1.22718409e-01, 2.50426792e-02, 4.74992692e-02, 1.64650142e-01,\n",
      "               0.00000000e+00, 1.09266058e-01, 0.00000000e+00, 8.86535272e-02,\n",
      "               0.00000000e+00, 0.00000000e+00, 7.84261897e-02, 0.00000000e+00,\n",
      "               1.00469396e-01, 0.00000000e+00, 0.00000000e+00, 7.91958421e-02,\n",
      "               0.00000000e+00, 7.28672445e-02, 0.00000000e+00, 1.74435526e-01,\n",
      "               7.37636834e-02, 0.00000000e+00, 6.61402717e-02, 0.00000000e+00,\n",
      "               9.77305621e-02, 0.00000000e+00, 0.00000000e+00, 0.00000000e+00,\n",
      "               0.00000000e+00, 2.29154199e-01, 0.00000000e+00, 1.82335645e-01,\n",
      "               0.00000000e+00, 0.00000000e+00, 0.00000000e+00, 0.00000000e+00,\n",
      "               5.61343208e-02, 1.43717229e-01, 1.88753664e-01, 0.00000000e+00,\n",
      "               0.00000000e+00, 0.00000000e+00, 1.24615744e-01, 6.99208528e-02,\n",
      "               0.00000000e+00, 0.00000000e+00, 5.78166023e-02, 0.00000000e+00,\n",
      "               0.00000000e+00, 2.72258341e-01, 0.00000000e+00, 2.66327888e-01,\n",
      "               3.95089276e-02, 0.00000000e+00, 0.00000000e+00, 0.00000000e+00],\n",
      "              [0.00000000e+00, 2.20441446e-01, 3.07359602e-02, 0.00000000e+00,\n",
      "               0.00000000e+00, 5.45873418e-02, 1.03092149e-01, 1.37382030e-01,\n",
      "               5.16381674e-02, 0.00000000e+00, 1.01545230e-01, 6.12655878e-02,\n",
      "               0.00000000e+00, 1.14081576e-02, 2.19039202e-01, 0.00000000e+00,\n",
      "               0.00000000e+00, 1.54760331e-02, 0.00000000e+00, 1.96748320e-02,\n",
      "               0.00000000e+00, 0.00000000e+00, 0.00000000e+00, 1.68904305e-01,\n",
      "               0.00000000e+00, 6.31746128e-02, 8.47738683e-02, 0.00000000e+00,\n",
      "               0.00000000e+00, 7.76700601e-02, 2.06661597e-02, 5.30351438e-02,\n",
      "               8.14053044e-02, 1.08322099e-01, 1.01770252e-01, 0.00000000e+00,\n",
      "               0.00000000e+00, 0.00000000e+00"
     ]
    },
    {
     "name": "stdout",
     "output_type": "stream",
     "text": [
      "No normalization: batch size =  5\n",
      "X shape: (5, 784)\n",
      "scores shape: (5, 10)\n",
      "Shape of x[0]: (100,)\n",
      "Shape of dout: (5, 100)\n"
     ]
    },
    {
     "name": "stderr",
     "output_type": "stream",
     "text": [
      ", 2.25097686e-03, 0.00000000e+00,\n",
      "               0.00000000e+00, 0.00000000e+00, 0.00000000e+00, 8.34678560e-02,\n",
      "               1.03593513e-01, 0.00000000e+00, 1.59282684e-02, 9.45193022e-02,\n",
      "               0.00000000e+00, 1.62584912e-02, 0.00000000e+00, 2.67161410e-02,\n",
      "               0.00000000e+00, 0.00000000e+00, 1.04876474e-01, 0.00000000e+00,\n",
      "               3.71555239e-03, 0.00000000e+00, 0.00000000e+00, 1.01291850e-01,\n",
      "               0.00000000e+00, 6.94201961e-02, 0.00000000e+00, 1.89898580e-01,\n",
      "               9.67615545e-02, 0.00000000e+00, 3.80505137e-02, 0.00000000e+00,\n",
      "               8.35199803e-02, 0.00000000e+00, 0.00000000e+00, 0.00000000e+00,\n",
      "               0.00000000e+00, 6.64299652e-02, 0.00000000e+00, 9.69566107e-02,\n",
      "               6.72671795e-02, 0.00000000e+00, 9.17764306e-02, 0.00000000e+00,\n",
      "               0.00000000e+00, 3.31974477e-02, 1.87839180e-01, 0.00000000e+00,\n",
      "               0.00000000e+00, 0.00000000e+00, 1.03337929e-01, 5.86011782e-02,\n",
      "               0.00000000e+00, 0.00000000e+00, 6.23464659e-02, 0.00000000e+00,\n",
      "               0.00000000e+00, 6.46740496e-02, 8.03766474e-02, 9.87321734e-02,\n",
      "               0.00000000e+00, 0.00000000e+00, 1.29854446e-02, 0.00000000e+00],\n",
      "              [0.00000000e+00, 2.31566191e-01, 0.00000000e+00, 0.00000000e+00,\n",
      "               0.00000000e+00, 7.51200542e-02, 0.00000000e+00, 2.30131060e-01,\n",
      "               1.40071452e-01, 0.00000000e+00, 2.05855727e-01, 3.13526094e-01,\n",
      "               0.00000000e+00, 5.52289188e-02, 1.74723119e-01, 0.00000000e+00,\n",
      "               0.00000000e+00, 1.69498980e-01, 1.03098750e-01, 0.00000000e+00,\n",
      "               1.64659351e-01, 0.00000000e+00, 0.00000000e+00, 1.06713712e-01,\n",
      "               5.11593698e-03, 1.96620733e-01, 2.02399433e-01, 0.00000000e+00,\n",
      "               0.00000000e+00, 1.55871913e-01, 3.47853675e-02, 0.00000000e+00,\n",
      "               4.55260612e-02, 1.04109511e-01, 3.34012918e-02, 0.00000000e+00,\n",
      "               0.00000000e+00, 0.00000000e+00, 1.14448503e-01, 1.12949945e-01,\n",
      "               0.00000000e+00, 1.28539443e-01, 0.00000000e+00, 6.79484010e-03,\n",
      "               2.16802344e-01, 0.00000000e+00, 0.00000000e+00, 1.28886804e-01,\n",
      "               9.32197720e-02, 0.00000000e+00, 5.37642278e-02, 1.16232127e-01,\n",
      "               0.00000000e+00, 0.00000000e+00, 0.00000000e+00, 0.00000000e+00,\n",
      "               5.95359169e-02, 0.00000000e+00, 0.00000000e+00, 0.00000000e+00,\n",
      "               0.00000000e+00, 0.00000000e+00, 0.00000000e+00, 7.79517516e-02,\n",
      "               0.00000000e+00, 1.58877239e-01, 1.32878110e-01, 0.00000000e+00,\n",
      "               2.09236279e-01, 6.29476085e-02, 5.03172316e-02, 6.10781014e-02,\n",
      "               0.00000000e+00, 5.65425232e-02, 0.00000000e+00, 1.22008875e-01,\n",
      "               0.00000000e+00, 0.00000000e+00, 0.00000000e+00, 0.00000000e+00,\n",
      "               4.55330350e-02, 2.47914568e-01, 6.18583411e-02, 9.73235071e-03,\n",
      "               0.00000000e+00, 0.00000000e+00, 8.84196460e-02, 0.00000000e+00,\n",
      "               0.00000000e+00, 0.00000000e+00, 1.57269370e-02, 0.00000000e+00,\n",
      "               0.00000000e+00, 9.31189880e-02, 1.21739209e-01, 1.22165136e-01,\n",
      "               0.00000000e+00, 0.00000000e+00, 0.00000000e+00, 0.00000000e+00],\n",
      "              [0.00000000e+00, 2.44831413e-01, 0.00000000e+00, 0.00000000e+00,\n",
      "               0.00000000e+00, 1.05236042e-02, 0.00000000e+00, 6.59875944e-02,\n",
      "               1.14123665e-01, 0.00000000e+00, 0.00000000e+00, 2.27600455e-01,\n",
      "               0.00000000e+00, 1.79874860e-02, 2.78994471e-01, 0.00000000e+00,\n",
      "               0.00000000e+00, 5.49655184e-02, 1.12415902e-01, 0.00000000e+00,\n",
      "               0.00000000e+00, 0.00000000e+00, 0.00000000e+00, 7.12521300e-02,\n",
      "               6.61340132e-02, 1.09472372e-01, 3.78432684e-02, 0.00000000e+00,\n",
      "               1.04693234e-01, 8.96462128e-02, 0.00000000e+00, 0.00000000e+00,\n",
      "               1.23258427e-01, 3.07189822e-01, 0.00000000e+00, 0.00000000e+00,\n",
      "               0.00000000e+00, 0.00000000e+00, 2.04615295e-01, 1.77760437e-01,\n",
      "               0.00000000e+00, 1.56541198e-01, 0.00000000e+00, 7.37240911e-02,\n",
      "               1.70702457e-01, 0.00000000e+00, 1.51925394e-02, 1.28361762e-01,\n",
      "               0.00000000e+00, 1.99771106e-01, 7.18302429e-02, 5.61831966e-02,\n",
      "               0.00000000e+00, 1.10394983e-02, 3.53033617e-02, 0.00000000e+00,\n",
      "               4.34323028e-02, 0.00000000e+00, 0.00000000e+00, 0.00000000e+00,\n",
      "               0.00000000e+00, 7.30552599e-02, 0.00000000e+00, 1.93639919e-01,\n",
      "               1.74900681e-01, 0.00000000e+00, 8.86426941e-02, 0.00000000e+00,\n",
      "               0.00000000e+00, 1.16648257e-01, 0.00000000e+00, 0.00000000e+00,\n",
      "               0.00000000e+00, 2.26088464e-01, 0.00000000e+00, 5.62141798e-02,\n",
      "               4.35122140e-02, 0.00000000e+00, 1.33161684e-02, 0.00000000e+00,\n",
      "               6.54259697e-02, 6.24542497e-02, 1.57007694e-01, 0.00000000e+00,\n",
      "               8.07886291e-03, 0.00000000e+00, 0.00000000e+00, 2.03597769e-01,\n",
      "               9.50537324e-02, 2.48931497e-02, 1.28188476e-01, 0.00000000e+00,\n",
      "               0.00000000e+00, 1.43380195e-01, 1.18302107e-01, 2.44530648e-01,\n",
      "               1.11048138e-02, 7.90144950e-02, 1.24937035e-01, 0.00000000e+00]],\n",
      "             dtype=float32),\n",
      "        array([[ 1.2203196e-02,  6.0433382e-03, -2.5142005e-02, ...,\n",
      "                1.5329834e-02, -7.5096772e-03, -3.4872729e-02],\n",
      "              [-1.1855498e-02,  1.3600508e-02, -7.9314085e-03, ...,\n",
      "                1.0456054e-02, -8.9058923e-03,  8.7495231e-05],\n",
      "              [-5.3499998e-03, -5.9088389e-03,  3.2003079e-02, ...,\n",
      "                2.7570924e-02,  2.7755101e-03, -1.4703796e-02],\n",
      "              ...,\n",
      "              [ 9.7694639e-03, -1.9305260e-03, -1.5895583e-02, ...,\n",
      "                9.6881427e-03, -1.3037561e-03, -2.3065975e-02],\n",
      "              [ 2.4009843e-03, -4.6586921e-03, -3.0114058e-02, ...,\n",
      "               -1.3701579e-03, -7.8881141e-03,  4.2177882e-02],\n",
      "              [-1.1903372e-02,  8.7710032e-03, -3.2281309e-02, ...,\n",
      "               -1.7604929e-03,  1.1196448e-02,  6.8182349e-03]], dtype=float32),\n",
      "        array([0., 0., 0., 0., 0., 0., 0., 0., 0., 0., 0., 0., 0., 0., 0., 0., 0.,\n",
      "              0., 0., 0., 0., 0., 0., 0., 0., 0., 0., 0., 0., 0., 0., 0., 0., 0.,\n",
      "              0., 0., 0., 0., 0., 0., 0., 0., 0., 0., 0., 0., 0., 0., 0., 0., 0.,\n",
      "              0., 0., 0., 0., 0., 0., 0., 0., 0., 0., 0., 0., 0., 0., 0., 0., 0.,\n",
      "              0., 0., 0., 0., 0., 0., 0., 0., 0., 0., 0., 0., 0., 0., 0., 0., 0.,\n",
      "              0., 0., 0., 0., 0., 0., 0., 0., 0., 0., 0., 0., 0., 0., 0.],\n",
      "             dtype=float32))\n"
     ]
    },
    {
     "ename": "TypeError",
     "evalue": "'>' not supported between instances of 'tuple' and 'int'",
     "output_type": "error",
     "traceback": [
      "\u001b[1;31m---------------------------------------------------------------------------\u001b[0m",
      "\u001b[1;31mTypeError\u001b[0m                                 Traceback (most recent call last)",
      "Cell \u001b[1;32mIn[32], line 47\u001b[0m\n\u001b[0;32m     44\u001b[0m     \u001b[38;5;28;01mreturn\u001b[39;00m bn_solvers, solver, batch_sizes\n\u001b[0;32m     46\u001b[0m batch_sizes \u001b[38;5;241m=\u001b[39m [\u001b[38;5;241m5\u001b[39m,\u001b[38;5;241m10\u001b[39m,\u001b[38;5;241m50\u001b[39m]\n\u001b[1;32m---> 47\u001b[0m bn_solvers_bsize, solver_bsize, batch_sizes \u001b[38;5;241m=\u001b[39m \u001b[43mrun_batchsize_experiments\u001b[49m\u001b[43m(\u001b[49m\u001b[38;5;124;43m'\u001b[39;49m\u001b[38;5;124;43mbatchnorm\u001b[39;49m\u001b[38;5;124;43m'\u001b[39;49m\u001b[43m)\u001b[49m\n",
      "Cell \u001b[1;32mIn[32], line 27\u001b[0m, in \u001b[0;36mrun_batchsize_experiments\u001b[1;34m(normalization_mode)\u001b[0m\n\u001b[0;32m     19\u001b[0m model \u001b[38;5;241m=\u001b[39m FullyConnectedNet(hidden_dims, weight_scale\u001b[38;5;241m=\u001b[39mweight_scale, normalization\u001b[38;5;241m=\u001b[39m\u001b[38;5;28;01mNone\u001b[39;00m)\n\u001b[0;32m     20\u001b[0m solver \u001b[38;5;241m=\u001b[39m Solver(model, small_data,\n\u001b[0;32m     21\u001b[0m                 num_epochs\u001b[38;5;241m=\u001b[39mn_epochs, batch_size\u001b[38;5;241m=\u001b[39msolver_bsize,\n\u001b[0;32m     22\u001b[0m                 update_rule\u001b[38;5;241m=\u001b[39m\u001b[38;5;124m'\u001b[39m\u001b[38;5;124madam\u001b[39m\u001b[38;5;124m'\u001b[39m,\n\u001b[1;32m   (...)\u001b[0m\n\u001b[0;32m     25\u001b[0m                 },\n\u001b[0;32m     26\u001b[0m                 verbose\u001b[38;5;241m=\u001b[39m\u001b[38;5;28;01mFalse\u001b[39;00m)\n\u001b[1;32m---> 27\u001b[0m \u001b[43msolver\u001b[49m\u001b[38;5;241;43m.\u001b[39;49m\u001b[43mtrain\u001b[49m\u001b[43m(\u001b[49m\u001b[43m)\u001b[49m\n\u001b[0;32m     29\u001b[0m bn_solvers \u001b[38;5;241m=\u001b[39m []\n\u001b[0;32m     30\u001b[0m \u001b[38;5;28;01mfor\u001b[39;00m i \u001b[38;5;129;01min\u001b[39;00m \u001b[38;5;28mrange\u001b[39m(\u001b[38;5;28mlen\u001b[39m(batch_sizes)):\n",
      "File \u001b[1;32mc:\\Users\\79270\\Documents\\AppliedMath_CS_3\\DL_master_SamUni\\HW3\\scripts_\\solver.py:263\u001b[0m, in \u001b[0;36mSolver.train\u001b[1;34m(self)\u001b[0m\n\u001b[0;32m    260\u001b[0m num_iterations \u001b[38;5;241m=\u001b[39m \u001b[38;5;28mself\u001b[39m\u001b[38;5;241m.\u001b[39mnum_epochs \u001b[38;5;241m*\u001b[39m iterations_per_epoch\n\u001b[0;32m    262\u001b[0m \u001b[38;5;28;01mfor\u001b[39;00m t \u001b[38;5;129;01min\u001b[39;00m \u001b[38;5;28mrange\u001b[39m(num_iterations):\n\u001b[1;32m--> 263\u001b[0m     \u001b[38;5;28;43mself\u001b[39;49m\u001b[38;5;241;43m.\u001b[39;49m\u001b[43m_step\u001b[49m\u001b[43m(\u001b[49m\u001b[43m)\u001b[49m\n\u001b[0;32m    265\u001b[0m     \u001b[38;5;66;03m# Maybe print training loss\u001b[39;00m\n\u001b[0;32m    266\u001b[0m     \u001b[38;5;28;01mif\u001b[39;00m \u001b[38;5;28mself\u001b[39m\u001b[38;5;241m.\u001b[39mverbose \u001b[38;5;129;01mand\u001b[39;00m t \u001b[38;5;241m%\u001b[39m \u001b[38;5;28mself\u001b[39m\u001b[38;5;241m.\u001b[39mprint_every \u001b[38;5;241m==\u001b[39m \u001b[38;5;241m0\u001b[39m:\n",
      "File \u001b[1;32mc:\\Users\\79270\\Documents\\AppliedMath_CS_3\\DL_master_SamUni\\HW3\\scripts_\\solver.py:181\u001b[0m, in \u001b[0;36mSolver._step\u001b[1;34m(self)\u001b[0m\n\u001b[0;32m    178\u001b[0m y_batch \u001b[38;5;241m=\u001b[39m \u001b[38;5;28mself\u001b[39m\u001b[38;5;241m.\u001b[39my_train[batch_mask]\n\u001b[0;32m    180\u001b[0m \u001b[38;5;66;03m# Compute loss and gradient\u001b[39;00m\n\u001b[1;32m--> 181\u001b[0m loss, grads \u001b[38;5;241m=\u001b[39m \u001b[38;5;28;43mself\u001b[39;49m\u001b[38;5;241;43m.\u001b[39;49m\u001b[43mmodel\u001b[49m\u001b[38;5;241;43m.\u001b[39;49m\u001b[43mloss\u001b[49m\u001b[43m(\u001b[49m\u001b[43mX_batch\u001b[49m\u001b[43m,\u001b[49m\u001b[43m \u001b[49m\u001b[43my_batch\u001b[49m\u001b[43m)\u001b[49m\n\u001b[0;32m    182\u001b[0m \u001b[38;5;28mself\u001b[39m\u001b[38;5;241m.\u001b[39mloss_history\u001b[38;5;241m.\u001b[39mappend(loss)\n\u001b[0;32m    184\u001b[0m \u001b[38;5;66;03m# Perform a parameter update\u001b[39;00m\n",
      "File \u001b[1;32mc:\\Users\\79270\\Documents\\AppliedMath_CS_3\\DL_master_SamUni\\HW3\\scripts_\\classifiers\\fc_net.py:377\u001b[0m, in \u001b[0;36mFullyConnectedNet.loss\u001b[1;34m(self, X, y)\u001b[0m\n\u001b[0;32m    375\u001b[0m \u001b[38;5;28;01mif\u001b[39;00m \u001b[38;5;28mself\u001b[39m\u001b[38;5;241m.\u001b[39muse_dropout:\n\u001b[0;32m    376\u001b[0m     dhidden \u001b[38;5;241m=\u001b[39m dropout_backward(dhidden, caches\u001b[38;5;241m.\u001b[39mpop())\n\u001b[1;32m--> 377\u001b[0m dhidden \u001b[38;5;241m=\u001b[39m \u001b[43mrelu_backward\u001b[49m\u001b[43m(\u001b[49m\u001b[43mdhidden\u001b[49m\u001b[43m,\u001b[49m\u001b[43m \u001b[49m\u001b[43mcaches\u001b[49m\u001b[38;5;241;43m.\u001b[39;49m\u001b[43mpop\u001b[49m\u001b[43m(\u001b[49m\u001b[43m)\u001b[49m\u001b[43m)\u001b[49m\n\u001b[0;32m    378\u001b[0m \u001b[38;5;28;01mif\u001b[39;00m \u001b[38;5;28mself\u001b[39m\u001b[38;5;241m.\u001b[39mnormalization \u001b[38;5;241m==\u001b[39m \u001b[38;5;124m\"\u001b[39m\u001b[38;5;124mbatchnorm\u001b[39m\u001b[38;5;124m\"\u001b[39m:\n\u001b[0;32m    379\u001b[0m     dhidden, dgamma, dbeta \u001b[38;5;241m=\u001b[39m batchnorm_backward(dhidden, caches\u001b[38;5;241m.\u001b[39mpop())\n",
      "File \u001b[1;32mc:\\Users\\79270\\Documents\\AppliedMath_CS_3\\DL_master_SamUni\\HW3\\scripts_\\layers.py:131\u001b[0m, in \u001b[0;36mrelu_backward\u001b[1;34m(dout, cache)\u001b[0m\n\u001b[0;32m    129\u001b[0m x \u001b[38;5;241m=\u001b[39m cache\n\u001b[0;32m    130\u001b[0m ic(x)\n\u001b[1;32m--> 131\u001b[0m dx \u001b[38;5;241m=\u001b[39m dout \u001b[38;5;241m*\u001b[39m (\u001b[43mx\u001b[49m\u001b[43m \u001b[49m\u001b[38;5;241;43m>\u001b[39;49m\u001b[43m \u001b[49m\u001b[38;5;241;43m0\u001b[39;49m)\n\u001b[0;32m    134\u001b[0m \u001b[38;5;66;03m# *****END OF YOUR CODE (DO NOT DELETE/MODIFY THIS LINE)*****\u001b[39;00m\n\u001b[0;32m    135\u001b[0m \u001b[38;5;66;03m###########################################################################\u001b[39;00m\n\u001b[0;32m    136\u001b[0m \u001b[38;5;66;03m#                             END OF YOUR CODE                            #\u001b[39;00m\n\u001b[0;32m    137\u001b[0m \u001b[38;5;66;03m###########################################################################\u001b[39;00m\n\u001b[0;32m    138\u001b[0m \u001b[38;5;28;01mreturn\u001b[39;00m dx\n",
      "\u001b[1;31mTypeError\u001b[0m: '>' not supported between instances of 'tuple' and 'int'"
     ]
    }
   ],
   "source": [
    "def run_batchsize_experiments(normalization_mode):\n",
    "    np.random.seed(231)\n",
    "    # Try training a very deep net with batchnorm\n",
    "    hidden_dims = [100, 100, 100, 100, 100]\n",
    "    num_train = 1000\n",
    "    small_data = {\n",
    "      'X_train': data['X_train'][:num_train],\n",
    "      'y_train': data['y_train'][:num_train],\n",
    "      'X_val': data['X_val'],\n",
    "      'y_val': data['y_val'],\n",
    "    }\n",
    "    n_epochs=10\n",
    "    weight_scale = 2e-2\n",
    "    batch_sizes = [5,10,50]\n",
    "    lr = 10**(-3.5)\n",
    "    solver_bsize = batch_sizes[0]\n",
    "\n",
    "    print('No normalization: batch size = ',solver_bsize)\n",
    "    model = FullyConnectedNet(hidden_dims, weight_scale=weight_scale, normalization=None)\n",
    "    solver = Solver(model, small_data,\n",
    "                    num_epochs=n_epochs, batch_size=solver_bsize,\n",
    "                    update_rule='adam',\n",
    "                    optim_config={\n",
    "                      'learning_rate': lr,\n",
    "                    },\n",
    "                    verbose=False)\n",
    "    solver.train()\n",
    "    \n",
    "    bn_solvers = []\n",
    "    for i in range(len(batch_sizes)):\n",
    "        b_size=batch_sizes[i]\n",
    "        print('Normalization: batch size = ',b_size)\n",
    "        bn_model = FullyConnectedNet(hidden_dims, weight_scale=weight_scale, normalization=normalization_mode)\n",
    "        bn_solver = Solver(bn_model, small_data,\n",
    "                        num_epochs=n_epochs, batch_size=b_size,\n",
    "                        update_rule='adam',\n",
    "                        optim_config={\n",
    "                          'learning_rate': lr,\n",
    "                        },\n",
    "                        verbose=False)\n",
    "        bn_solver.train()\n",
    "        bn_solvers.append(bn_solver)\n",
    "        \n",
    "    return bn_solvers, solver, batch_sizes\n",
    "\n",
    "batch_sizes = [5,10,50]\n",
    "bn_solvers_bsize, solver_bsize, batch_sizes = run_batchsize_experiments('batchnorm')"
   ]
  },
  {
   "cell_type": "code",
   "execution_count": 33,
   "metadata": {},
   "outputs": [
    {
     "ename": "NameError",
     "evalue": "name 'solver_bsize' is not defined",
     "output_type": "error",
     "traceback": [
      "\u001b[1;31m---------------------------------------------------------------------------\u001b[0m",
      "\u001b[1;31mNameError\u001b[0m                                 Traceback (most recent call last)",
      "Cell \u001b[1;32mIn[33], line 2\u001b[0m\n\u001b[0;32m      1\u001b[0m plt\u001b[38;5;241m.\u001b[39msubplot(\u001b[38;5;241m2\u001b[39m, \u001b[38;5;241m1\u001b[39m, \u001b[38;5;241m1\u001b[39m)\n\u001b[1;32m----> 2\u001b[0m plot_training_history(\u001b[38;5;124m'\u001b[39m\u001b[38;5;124mTraining accuracy (Batch Normalization)\u001b[39m\u001b[38;5;124m'\u001b[39m,\u001b[38;5;124m'\u001b[39m\u001b[38;5;124mEpoch\u001b[39m\u001b[38;5;124m'\u001b[39m, \u001b[43msolver_bsize\u001b[49m, bn_solvers_bsize, \\\n\u001b[0;32m      3\u001b[0m                       \u001b[38;5;28;01mlambda\u001b[39;00m x: x\u001b[38;5;241m.\u001b[39mtrain_acc_history, bl_marker\u001b[38;5;241m=\u001b[39m\u001b[38;5;124m'\u001b[39m\u001b[38;5;124m-^\u001b[39m\u001b[38;5;124m'\u001b[39m, bn_marker\u001b[38;5;241m=\u001b[39m\u001b[38;5;124m'\u001b[39m\u001b[38;5;124m-o\u001b[39m\u001b[38;5;124m'\u001b[39m, labels\u001b[38;5;241m=\u001b[39mbatch_sizes)\n\u001b[0;32m      4\u001b[0m plt\u001b[38;5;241m.\u001b[39msubplot(\u001b[38;5;241m2\u001b[39m, \u001b[38;5;241m1\u001b[39m, \u001b[38;5;241m2\u001b[39m)\n\u001b[0;32m      5\u001b[0m plot_training_history(\u001b[38;5;124m'\u001b[39m\u001b[38;5;124mValidation accuracy (Batch Normalization)\u001b[39m\u001b[38;5;124m'\u001b[39m,\u001b[38;5;124m'\u001b[39m\u001b[38;5;124mEpoch\u001b[39m\u001b[38;5;124m'\u001b[39m, solver_bsize, bn_solvers_bsize, \\\n\u001b[0;32m      6\u001b[0m                       \u001b[38;5;28;01mlambda\u001b[39;00m x: x\u001b[38;5;241m.\u001b[39mval_acc_history, bl_marker\u001b[38;5;241m=\u001b[39m\u001b[38;5;124m'\u001b[39m\u001b[38;5;124m-^\u001b[39m\u001b[38;5;124m'\u001b[39m, bn_marker\u001b[38;5;241m=\u001b[39m\u001b[38;5;124m'\u001b[39m\u001b[38;5;124m-o\u001b[39m\u001b[38;5;124m'\u001b[39m, labels\u001b[38;5;241m=\u001b[39mbatch_sizes)\n",
      "\u001b[1;31mNameError\u001b[0m: name 'solver_bsize' is not defined"
     ]
    },
    {
     "data": {
      "image/png": "[encoded data removed]",
      "text/plain": [
       "<Figure size 1000x800 with 1 Axes>"
      ]
     },
     "metadata": {},
     "output_type": "display_data"
    }
   ],
   "source": [
    "plt.subplot(2, 1, 1)\n",
    "plot_training_history('Training accuracy (Batch Normalization)','Epoch', solver_bsize, bn_solvers_bsize, \\\n",
    "                      lambda x: x.train_acc_history, bl_marker='-^', bn_marker='-o', labels=batch_sizes)\n",
    "plt.subplot(2, 1, 2)\n",
    "plot_training_history('Validation accuracy (Batch Normalization)','Epoch', solver_bsize, bn_solvers_bsize, \\\n",
    "                      lambda x: x.val_acc_history, bl_marker='-^', bn_marker='-o', labels=batch_sizes)\n",
    "\n",
    "plt.gcf().set_size_inches(15, 10)\n",
    "plt.show()"
   ]
  },
  {
   "cell_type": "markdown",
   "metadata": {},
   "source": [
    "# Dropout"
   ]
  },
  {
   "cell_type": "markdown",
   "metadata": {},
   "source": [
    "Реализуйте прямой проход для dropout-слоя в scripts/layers.py\n",
    "\n",
    "http://cs231n.github.io/neural-networks-2/#reg"
   ]
  },
  {
   "cell_type": "code",
   "execution_count": 35,
   "metadata": {},
   "outputs": [
    {
     "name": "stdout",
     "output_type": "stream",
     "text": [
      "Running tests with p =  0.25\n",
      "Mean of input:  10.000207878477502\n",
      "Mean of train-time output:  10.014059116977283\n",
      "Mean of test-time output:  10.000207878477502\n",
      "Fraction of train-time output set to zero:  0.749784\n",
      "Fraction of test-time output set to zero:  0.0\n",
      "\n",
      "Running tests with p =  0.4\n",
      "Mean of input:  10.000207878477502\n",
      "Mean of train-time output:  9.977917658761159\n",
      "Mean of test-time output:  10.000207878477502\n",
      "Fraction of train-time output set to zero:  0.600796\n",
      "Fraction of test-time output set to zero:  0.0\n",
      "\n",
      "Running tests with p =  0.7\n",
      "Mean of input:  10.000207878477502\n",
      "Mean of train-time output:  9.987811912159426\n",
      "Mean of test-time output:  10.000207878477502\n",
      "Fraction of train-time output set to zero:  0.30074\n",
      "Fraction of test-time output set to zero:  0.0\n",
      "\n"
     ]
    }
   ],
   "source": [
    "np.random.seed(231)\n",
    "x = np.random.randn(500, 500) + 10\n",
    "\n",
    "for p in [0.25, 0.4, 0.7]:\n",
    "  out, _ = dropout_forward(x, {'mode': 'train', 'p': p})\n",
    "  out_test, _ = dropout_forward(x, {'mode': 'test', 'p': p})\n",
    "\n",
    "  print('Running tests with p = ', p)\n",
    "  print('Mean of input: ', x.mean())\n",
    "  print('Mean of train-time output: ', out.mean())\n",
    "  print('Mean of test-time output: ', out_test.mean())\n",
    "  print('Fraction of train-time output set to zero: ', (out == 0).mean())\n",
    "  print('Fraction of test-time output set to zero: ', (out_test == 0).mean())\n",
    "  print()"
   ]
  },
  {
   "cell_type": "markdown",
   "metadata": {},
   "source": [
    "Реализуйте обратный проход для dropout-слоя"
   ]
  },
  {
   "cell_type": "code",
   "execution_count": 36,
   "metadata": {},
   "outputs": [
    {
     "name": "stdout",
     "output_type": "stream",
     "text": [
      "dx relative error:  5.44560814873387e-11\n"
     ]
    }
   ],
   "source": [
    "np.random.seed(231)\n",
    "x = np.random.randn(10, 10) + 10\n",
    "dout = np.random.randn(*x.shape)\n",
    "\n",
    "dropout_param = {'mode': 'train', 'p': 0.2, 'seed': 123}\n",
    "out, cache = dropout_forward(x, dropout_param)\n",
    "dx = dropout_backward(dout, cache)\n",
    "dx_num = eval_numerical_gradient_array(lambda xx: dropout_forward(xx, dropout_param)[0], x, dout)\n",
    "\n",
    "# Error should be around e-10 or less\n",
    "print('dx relative error: ', rel_error(dx, dx_num))"
   ]
  },
  {
   "cell_type": "markdown",
   "metadata": {},
   "source": [
    "Добавьте в реализацию класса FullyConnectedNet поддержку dropout. Если параметр dropout != 1, то добавьте в модель dropout-слой после каждого слоя активации. Проверьте свою реализацию"
   ]
  },
  {
   "cell_type": "code",
   "execution_count": 37,
   "metadata": {},
   "outputs": [
    {
     "name": "stderr",
     "output_type": "stream",
     "text": [
      "ic| x: (array([[0.00303221, 0.01567412, 0.00501193, 0.29047701, 0.        ,\n",
      "               0.00846244, 0.13687321, 0.08670895, 0.        , 0.15333479,\n",
      "               0.07423436, 0.01138801, 0.        , 0.        , 0.        ,\n",
      "               0.        , 0.        , 0.        , 0.        , 0.22824173],\n",
      "              [0.        , 0.07242328, 0.        , 0.04746884, 0.08911829,\n",
      "               0.19741909, 0.        , 0.        , 0.13996117, 0.10426446,\n",
      "               0.        , 0.14019608, 0.02313242, 0.06848749, 0.00210143,\n",
      "               0.10211484, 0.        , 0.        , 0.        , 0.09774359]]),\n",
      "        array([[ 2.63113991e-02,  1.27266552e-02,  2.19024250e-02,\n",
      "               -4.96716455e-02, -3.11234051e-02,  5.33840733e-02,\n",
      "               -8.07424611e-02,  5.71809252e-02,  1.41586570e-02,\n",
      "               -5.18834256e-02,  3.17029190e-03,  1.90842744e-02,\n",
      "                5.85018509e-02,  5.51747328e-03,  2.25759366e-02,\n",
      "                5.29809662e-02,  5.59213278e-02,  4.28860963e-02,\n",
      "               -7.40499478e-02,  7.64703626e-02, -5.62113879e-02,\n",
      "               -3.04088427e-02, -4.98172123e-02,  9.12465454e-02,\n",
      "                6.13657798e-02, -1.43233033e-03,  5.82825172e-02,\n",
      "               -6.75022907e-03,  6.98938376e-02,  6.19498460e-02],\n",
      "              [ 4.38558683e-02, -1.46133689e-02,  3.93316372e-02,\n",
      "               -1.23829969e-02, -2.29777582e-03,  2.52416542e-02,\n",
      "                2.27749748e-03,  4.65337059e-02, -3.63989819e-02,\n",
      "               -1.34538293e-02, -5.20748828e-02, -5.44324773e-02,\n",
      "               -1.63147944e-02,  1.06754654e-02,  1.74127600e-02,\n",
      "                2.47382804e-02,  1.00073003e-01,  1.37896454e-01,\n",
      "                5.31156877e-02,  6.61573095e-02,  5.69971310e-03,\n",
      "               -4.55048380e-02,  1.36025246e-02,  1.22743530e-02,\n",
      "                1.04559861e-01,  4.45243192e-02,  8.28693047e-02,\n",
      "                1.13097537e-04, -5.49827215e-03,  4.46716807e-02],\n",
      "              [ 2.75234233e-03,  5.33172198e-02, -1.32253388e-02,\n",
      "                1.51588503e-02, -9.11811506e-02,  5.27049206e-02,\n",
      "                6.51400286e-02,  9.95917303e-02,  3.28622058e-02,\n",
      "                5.58317348e-03, -2.75289488e-02,  4.68633913e-02,\n",
      "                2.09550718e-02, -2.21707376e-02, -4.94956139e-03,\n",
      "               -7.01299900e-02, -4.61528760e-02, -5.91145506e-02,\n",
      "                2.71341418e-02,  5.43408495e-02,  7.48125513e-02,\n",
      "               -7.12577066e-02,  2.77173177e-02, -2.22217479e-02,\n",
      "                8.95658654e-02, -5.79857644e-02,  5.85948300e-02,\n",
      "                5.18311221e-02, -2.10244650e-02,  5.58587718e-02],\n",
      "              [-1.10742367e-02, -1.26114496e-01, -1.65304048e-02,\n",
      "               -5.72874294e-02,  7.28975019e-02,  7.13891731e-02,\n",
      "               -4.95160367e-02,  2.10927776e-02,  2.97276646e-02,\n",
      "               -9.68029740e-02,  2.47074497e-02,  1.85969892e-02,\n",
      "                8.77264782e-02,  6.10508580e-02,  2.41146179e-02,\n",
      "                8.19397127e-03, -3.14046468e-02, -5.10539424e-02,\n",
      "                4.56764377e-03, -3.74471591e-02, -7.77926277e-02,\n",
      "                1.16911739e-02, -2.92188203e-03,  2.24942481e-02,\n",
      "                1.04828651e-01,  1.95357472e-02,  6.29482828e-02,\n",
      "                4.27966999e-03,  7.93196730e-02, -1.61183128e-02],\n",
      "              [-1.28533524e-02,  1.91412060e-02,  3.31471996e-03,\n",
      "                6.41198426e-02,  9.69808177e-02,"
     ]
    },
    {
     "name": "stdout",
     "output_type": "stream",
     "text": [
      "Running check with dropout =  1\n",
      "X shape: (2, 15)\n",
      "scores shape: (2, 10)\n",
      "Shape of x[0]: (30,)\n",
      "Shape of dout: (2, 30)\n"
     ]
    },
    {
     "name": "stderr",
     "output_type": "stream",
     "text": [
      " -2.23038960e-02,\n",
      "                7.46869285e-03,  3.25623195e-02, -1.35404214e-02,\n",
      "               -4.56213567e-02, -4.08050630e-03,  3.96368727e-02,\n",
      "               -6.35221622e-02, -1.32001555e-02,  1.20701355e-01,\n",
      "               -3.82784400e-02,  4.73125458e-02, -3.07269264e-02,\n",
      "                6.33758250e-03, -5.42136455e-02,  8.08026719e-02,\n",
      "               -4.21793727e-03,  1.21517801e-02, -5.20005619e-02,\n",
      "                6.77038405e-02, -1.66559399e-03,  4.90613308e-02,\n",
      "               -1.19561142e-02,  1.08412820e-01,  2.60853959e-02],\n",
      "              [-4.77605387e-03, -1.78166191e-02, -3.78013354e-02,\n",
      "                1.08673205e-01,  3.11728294e-02, -6.71468216e-02,\n",
      "               -4.30639288e-02,  3.97351660e-02, -2.26006166e-02,\n",
      "               -4.61302986e-02, -1.85046601e-02, -8.61642806e-02,\n",
      "                1.28854397e-01, -3.07921198e-02, -3.37682171e-02,\n",
      "                1.36947798e-02,  2.41776892e-02,  9.99028734e-03,\n",
      "                3.28263698e-02, -5.47074484e-02, -2.80792493e-02,\n",
      "                1.02924727e-02,  2.63882198e-02,  3.34309744e-03,\n",
      "                3.28122425e-03, -1.95050489e-03,  1.38537900e-02,\n",
      "                3.20927161e-02, -7.89433012e-02,  1.67005554e-02],\n",
      "              [ 6.99784784e-02, -2.12874606e-02, -2.84459386e-02,\n",
      "                3.57106899e-02, -2.55290890e-02, -4.25756152e-02,\n",
      "                4.70572310e-02,  8.66489988e-02, -4.37507213e-02,\n",
      "                9.16717596e-02,  8.10774208e-02,  2.93200667e-03,\n",
      "                8.58513212e-02, -1.08487337e-02, -2.56516993e-02,\n",
      "                2.55969566e-02, -8.08621818e-02,  3.87384899e-02,\n",
      "               -1.69132711e-02, -9.98426511e-03,  6.00808935e-02,\n",
      "                4.93133739e-02, -1.57624497e-01, -8.97629979e-02,\n",
      "               -1.42783103e-01, -3.58318404e-02,  2.75786231e-02,\n",
      "                2.47663077e-03,  7.27694793e-02, -3.89660174e-02],\n",
      "              [-5.43322913e-02,  1.84536201e-02, -1.27928539e-02,\n",
      "               -7.79533348e-02, -7.39162047e-02,  9.20992074e-04,\n",
      "                2.66220997e-02, -1.39113822e-02, -1.10798659e-02,\n",
      "               -7.52466832e-02,  6.17563394e-02,  1.44095549e-02,\n",
      "               -9.62734686e-02, -7.99969049e-02, -8.02301835e-02,\n",
      "                7.73965498e-02,  6.99913878e-02, -3.02421063e-02,\n",
      "                8.82440387e-02, -1.24633421e-03, -3.75844594e-03,\n",
      "               -2.49611460e-04, -3.72504021e-02, -1.70022959e-02,\n",
      "               -9.39051329e-03, -3.47889382e-02,  2.26012964e-02,\n",
      "                5.49429004e-03, -1.90447205e-02, -6.85889577e-02],\n",
      "              [-2.42194660e-02, -2.52474579e-02,  2.69897908e-02,\n",
      "               -2.92241126e-02,  1.00897888e-02,  3.57163048e-02,\n",
      "                9.58573205e-02,  4.21837483e-02,  1.11699823e-01,\n",
      "                8.07381115e-03, -4.44536713e-03, -4.41632553e-02,\n",
      "                3.04000860e-02,  1.06622672e-04,  2.71510498e-02,\n",
      "                5.96681788e-03, -1.38233310e-02, -4.90583504e-02,\n",
      "               -2.19721713e-02, -4.90231211e-02, -5.93431875e-02,\n",
      "               -2.00696502e-02, -3.43090201e-02,  3.40023565e-03,\n",
      "               -5.82828632e-02,  2.42261996e-02,  4.08838317e-02,\n",
      "               -7.28290810e-02, -3.03284167e-02,  4.83895696e-02],\n",
      "              [-9.48081936e-02, -6.08168561e-02,  7.02051009e-02,\n",
      "               -4.67230404e-02, -1.41101991e-02,  3.53315553e-02,\n",
      "               -1.26351616e-01,  7.29037969e-02, -1.49626890e-03,\n",
      "               -1.13043700e-02,  5.08435066e-02, -8.64680050e-02,\n",
      "                1.13835381e-01,  5.71575718e-02,  3.62102015e-02,\n",
      "               -3.52103952e-02,  2.84014993e-02,  3.60017236e-02,\n",
      "               -1.67421216e-02, -9.07696996e-02,  6.59237318e-02,\n",
      "                9.22575943e-02, -7.07460390e-02, -3.09543380e-02,\n",
      "               -3.01084549e-04,  7.87438390e-02, -5.72463395e-02,\n",
      "                5.79998003e-02, -2.65151830e-02,  4.42770366e-02],\n",
      "              [-5.05651197e-04, -6.59985539e-02, -4.04335531e-02,\n",
      "               -2.25301309e-02, -7.33389010e-03,  1.05107504e-02,\n",
      "                2.86223749e-02, -2.91710203e-02, -3.44373718e-02,\n",
      "               -3.08571783e-02,  8.65269346e-02,  3.13889044e-02,\n",
      "               -2.33737173e-02, -2.51420010e-02, -6.92433115e-02,\n",
      "                3.12471680e-02,  1.41770157e-02,  3.14629165e-03,\n",
      "                9.82189645e-03,  8.69395622e-02, -7.41593550e-02,\n",
      "                7.26923065e-02,  7.17672252e-02, -7.62838334e-02,\n",
      "                6.41516534e-03,  3.42994807e-02, -7.67634332e-03,\n",
      "                9.36483382e-02, -4.17070401e-02,  3.35095474e-02],\n",
      "              [ 3.19827304e-02, -2.33053658e-02,  4.72092726e-02,\n",
      "               -2.34786819e-02,  5.58735006e-03, -2.43349517e-02,\n",
      "               -2.54076458e-02, -2.07218406e-02, -4.56775306e-02,\n",
      "                3.00088575e-02,  3.49462697e-03, -6.26404570e-02,\n",
      "               -5.16652328e-02,  2.14646410e-02, -3.21951988e-02,\n",
      "                4.59506863e-03,  5.95267688e-02,  1.46918024e-02,\n",
      "               -5.64121460e-02,  5.17540324e-02,  6.09012875e-02,\n",
      "                1.05622253e-02,  5.45671002e-02,  1.34486179e-02,\n",
      "                7.48653176e-02, -3.70429200e-02, -3.30063671e-02,\n",
      "               -1.22372561e-02,  4.26939712e-02, -6.78033724e-02],\n",
      "              [ 3.24547795e-02, -1.97287528e-02,  6.14923710e-03,\n",
      "               -1.10620868e-02,  1.53049786e-02, -3.35727426e-02,\n",
      "               -1.89426909e-02, -1.10389237e-03,  6.58977038e-04,\n",
      "                4.31542342e-02,  1.38152495e-02, -4.80021546e-02,\n",
      "                1.82950561e-02, -1.29707593e-01,  2.05531886e-02,\n",
      "               -3.65276763e-02,  7.11853691e-03, -3.15236195e-02,\n",
      "               -1.98010725e-02, -1.18829385e-01,  5.91290821e-04,\n",
      "                2.97231692e-02, -9.57493259e-02,  4.73188978e-02,\n",
      "               -4.78086608e-03,  1.23990984e-01, -6.33448133e-03,\n",
      "                2.60600970e-02, -5.79547014e-02,  5.49954175e-03],\n",
      "              [-7.84833989e-02, -5.93232074e-02,  2.99962608e-02,\n",
      "                1.42996938e-02,  3.80191841e-03, -4.61435071e-02,\n",
      "                4.43054859e-02, -1.57497737e-02, -1.03153992e-01,\n",
      "               -4.21123227e-02, -3.72309465e-02,  5.03287402e-02,\n",
      "               -4.96887699e-02, -1.41743651e-02, -2.38823810e-02,\n",
      "               -1.56010072e-02, -2.51260725e-02, -3.61578134e-02,\n",
      "               -4.81286493e-02,  2.30264691e-02, -1.09295892e-02,\n",
      "               -1.31103972e-01, -9.96253411e-02, -2.53990371e-02,\n",
      "               -2.31715390e-02, -1.93317638e-02,  2.78760771e-02,\n",
      "                3.84191720e-02,  2.66108234e-02,  6.88051872e-02],\n",
      "              [-2.07345576e-02,  1.50378341e-02,  3.35503447e-02,\n",
      "               -6.12496191e-02, -1.04158127e-02,  1.93288392e-02,\n",
      "                2.72414473e-02, -3.70669984e-02,  3.12588296e-02,\n",
      "                1.07009726e-02,  3.77992898e-02, -1.48606956e-02,\n",
      "               -9.71185909e-02, -3.56871352e-02, -1.30117309e-01,\n",
      "               -2.39203922e-02,  7.33098152e-02, -1.98520024e-02,\n",
      "               -6.57703502e-03,  4.38204713e-02,  5.10647711e-03,\n",
      "               -3.76322642e-02,  7.52671685e-02, -4.98896138e-02,\n",
      "                2.53114532e-02,  2.91742274e-02, -5.06093289e-02,\n",
      "               -7.96247596e-02, -3.12741274e-02,  4.78879291e-02],\n",
      "              [ 1.33078969e-02,  1.63218888e-02, -7.93868317e-02,\n",
      "               -2.62537315e-02, -3.36051068e-02, -9.59050171e-03,\n",
      "               -1.43334457e-02,  8.27876500e-03,  4.48522962e-02,\n",
      "                6.29761507e-03, -3.32466164e-02, -1.10116822e-01,\n",
      "               -4.39677764e-02, -5.55083804e-02, -4.52448553e-02,\n",
      "               -1.23096683e-02,  1.69434841e-03, -2.52558044e-02,\n",
      "                2.06142418e-02, -7.09148363e-02, -1.16596010e-01,\n",
      "                1.09891647e-01,  3.17199005e-02,  2.48839120e-02,\n",
      "               -3.66662457e-03,  5.33646516e-02, -9.56330729e-02,\n",
      "                6.14302563e-02, -3.99350510e-02, -1.35126247e-02],\n",
      "              [-1.40902587e-02,  1.37397422e-02, -2.14896594e-02,\n",
      "                1.62691850e-02, -2.04656389e-02, -6.98061472e-02,\n",
      "                1.00323449e-03,  3.29072371e-02, -1.00066566e-03,\n",
      "               -3.74187525e-02,  8.07037355e-02,  1.60144961e-02,\n",
      "                1.15735618e-02,  3.13637565e-02,  4.03962952e-02,\n",
      "                6.17050812e-03, -6.20291610e-02, -7.31854844e-03,\n",
      "                1.11190105e-02, -3.21879138e-02, -1.65925918e-02,\n",
      "               -1.02411431e-02, -5.62949160e-02, -5.62644446e-02,\n",
      "               -2.85480411e-02,  5.38970193e-02, -6.94457810e-02,\n",
      "               -1.74103058e-02, -9.49887560e-05,  4.97759798e-02],\n",
      "              [ 4.47310875e-03,  4.90395975e-02,  3.34641512e-02,\n",
      "                7.97043963e-02,  6.64873364e-03,  8.32067767e-03,\n",
      "                3.96164226e-02,  8.83507415e-02, -2.27173562e-02,\n",
      "                2.01148073e-02,  1.90450204e-02,  1.82368215e-02,\n",
      "                2.40426602e-02, -4.87045161e-02,  6.38577278e-02,\n",
      "               -4.60390800e-02, -2.45576777e-03, -4.03024826e-02,\n",
      "               -8.90190721e-03, -2.69219864e-02,  2.03655949e-03,\n",
      "                3.53380240e-02, -2.11318639e-02,  2.09773324e-03,\n",
      "                4.18215202e-02, -5.76981108e-02, -3.50125709e-02,\n",
      "               -4.94139285e-02, -5.56521031e-02,  2.81641319e-02],\n",
      "              [ 2.11943711e-02,  6.38829994e-02, -2.86958841e-02,\n",
      "                2.42388293e-02, -4.59680515e-03,  1.80581520e-02,\n",
      "               -1.62902836e-02, -6.54235290e-02,  3.47917033e-02,\n",
      "                8.61927502e-02,  9.02886291e-02,  7.74122615e-03,\n",
      "               -2.31690807e-02,  6.82547073e-02,  8.94234244e-02,\n",
      "               -2.66693769e-03, -5.18252437e-03,  5.46651349e-02,\n",
      "               -4.83131922e-02,  9.79537157e-02,  5.13048765e-02,\n",
      "                4.09922217e-02,  1.23828637e-02,  4.96644652e-02,\n",
      "               -6.39777519e-03, -9.59639060e-03,  9.29709460e-03,\n",
      "               -1.60384930e-02, -1.03836673e-01, -6.58399651e-03],\n",
      "              [-4.16025847e-02, -3.43435346e-03,  3.72283580e-02,\n",
      "                2.93149188e-02,  2.32214894e-02, -5.99864185e-02,\n",
      "               -6.01315488e-02,  3.73302463e-02,  6.07343951e-02,\n",
      "               -3.45128023e-03,  4.96833940e-02, -7.81350502e-02,\n",
      "               -1.18766304e-02,  1.31774510e-01, -6.93117016e-03,\n",
      "               -4.08743352e-02,  5.25066507e-02, -2.84772783e-02,\n",
      "                7.35848301e-02, -6.28183705e-02,  2.99954778e-02,\n",
      "               -1.56555149e-02, -3.43626099e-02,  9.99819394e-03,\n",
      "               -3.38382885e-02, -7.09033944e-03,  1.35055721e-02,\n",
      "               -4.53871157e-02,  2.23546321e-02, -5.27681717e-03]]),\n",
      "        array([0., 0., 0., 0., 0., 0., 0., 0., 0., 0., 0., 0., 0., 0., 0., 0., 0.,\n",
      "              0., 0., 0., 0., 0., 0., 0., 0., 0., 0., 0., 0., 0.]))\n"
     ]
    },
    {
     "ename": "TypeError",
     "evalue": "'>' not supported between instances of 'tuple' and 'int'",
     "output_type": "error",
     "traceback": [
      "\u001b[1;31m---------------------------------------------------------------------------\u001b[0m",
      "\u001b[1;31mTypeError\u001b[0m                                 Traceback (most recent call last)",
      "Cell \u001b[1;32mIn[37], line 12\u001b[0m\n\u001b[0;32m      7\u001b[0m \u001b[38;5;28mprint\u001b[39m(\u001b[38;5;124m'\u001b[39m\u001b[38;5;124mRunning check with dropout = \u001b[39m\u001b[38;5;124m'\u001b[39m, dropout)\n\u001b[0;32m      8\u001b[0m model \u001b[38;5;241m=\u001b[39m FullyConnectedNet([H1, H2], input_dim\u001b[38;5;241m=\u001b[39mD, num_classes\u001b[38;5;241m=\u001b[39mC,\n\u001b[0;32m      9\u001b[0m                           weight_scale\u001b[38;5;241m=\u001b[39m\u001b[38;5;241m5e-2\u001b[39m, dtype\u001b[38;5;241m=\u001b[39mnp\u001b[38;5;241m.\u001b[39mfloat64,\n\u001b[0;32m     10\u001b[0m                           dropout\u001b[38;5;241m=\u001b[39mdropout, seed\u001b[38;5;241m=\u001b[39m\u001b[38;5;241m123\u001b[39m)\n\u001b[1;32m---> 12\u001b[0m loss, grads \u001b[38;5;241m=\u001b[39m \u001b[43mmodel\u001b[49m\u001b[38;5;241;43m.\u001b[39;49m\u001b[43mloss\u001b[49m\u001b[43m(\u001b[49m\u001b[43mX\u001b[49m\u001b[43m,\u001b[49m\u001b[43m \u001b[49m\u001b[43my\u001b[49m\u001b[43m)\u001b[49m\n\u001b[0;32m     13\u001b[0m \u001b[38;5;28mprint\u001b[39m(\u001b[38;5;124m'\u001b[39m\u001b[38;5;124mInitial loss: \u001b[39m\u001b[38;5;124m'\u001b[39m, loss)\n\u001b[0;32m     15\u001b[0m \u001b[38;5;66;03m# Relative errors should be around e-6 or less; Note that it's fine\u001b[39;00m\n\u001b[0;32m     16\u001b[0m \u001b[38;5;66;03m# if for dropout=1 you have W2 error be on the order of e-5.\u001b[39;00m\n",
      "File \u001b[1;32mc:\\Users\\79270\\Documents\\AppliedMath_CS_3\\DL_master_SamUni\\HW3\\scripts_\\classifiers\\fc_net.py:377\u001b[0m, in \u001b[0;36mFullyConnectedNet.loss\u001b[1;34m(self, X, y)\u001b[0m\n\u001b[0;32m    375\u001b[0m \u001b[38;5;28;01mif\u001b[39;00m \u001b[38;5;28mself\u001b[39m\u001b[38;5;241m.\u001b[39muse_dropout:\n\u001b[0;32m    376\u001b[0m     dhidden \u001b[38;5;241m=\u001b[39m dropout_backward(dhidden, caches\u001b[38;5;241m.\u001b[39mpop())\n\u001b[1;32m--> 377\u001b[0m dhidden \u001b[38;5;241m=\u001b[39m \u001b[43mrelu_backward\u001b[49m\u001b[43m(\u001b[49m\u001b[43mdhidden\u001b[49m\u001b[43m,\u001b[49m\u001b[43m \u001b[49m\u001b[43mcaches\u001b[49m\u001b[38;5;241;43m.\u001b[39;49m\u001b[43mpop\u001b[49m\u001b[43m(\u001b[49m\u001b[43m)\u001b[49m\u001b[43m)\u001b[49m\n\u001b[0;32m    378\u001b[0m \u001b[38;5;28;01mif\u001b[39;00m \u001b[38;5;28mself\u001b[39m\u001b[38;5;241m.\u001b[39mnormalization \u001b[38;5;241m==\u001b[39m \u001b[38;5;124m\"\u001b[39m\u001b[38;5;124mbatchnorm\u001b[39m\u001b[38;5;124m\"\u001b[39m:\n\u001b[0;32m    379\u001b[0m     dhidden, dgamma, dbeta \u001b[38;5;241m=\u001b[39m batchnorm_backward(dhidden, caches\u001b[38;5;241m.\u001b[39mpop())\n",
      "File \u001b[1;32mc:\\Users\\79270\\Documents\\AppliedMath_CS_3\\DL_master_SamUni\\HW3\\scripts_\\layers.py:131\u001b[0m, in \u001b[0;36mrelu_backward\u001b[1;34m(dout, cache)\u001b[0m\n\u001b[0;32m    129\u001b[0m x \u001b[38;5;241m=\u001b[39m cache\n\u001b[0;32m    130\u001b[0m ic(x)\n\u001b[1;32m--> 131\u001b[0m dx \u001b[38;5;241m=\u001b[39m dout \u001b[38;5;241m*\u001b[39m (\u001b[43mx\u001b[49m\u001b[43m \u001b[49m\u001b[38;5;241;43m>\u001b[39;49m\u001b[43m \u001b[49m\u001b[38;5;241;43m0\u001b[39;49m)\n\u001b[0;32m    134\u001b[0m \u001b[38;5;66;03m# *****END OF YOUR CODE (DO NOT DELETE/MODIFY THIS LINE)*****\u001b[39;00m\n\u001b[0;32m    135\u001b[0m \u001b[38;5;66;03m###########################################################################\u001b[39;00m\n\u001b[0;32m    136\u001b[0m \u001b[38;5;66;03m#                             END OF YOUR CODE                            #\u001b[39;00m\n\u001b[0;32m    137\u001b[0m \u001b[38;5;66;03m###########################################################################\u001b[39;00m\n\u001b[0;32m    138\u001b[0m \u001b[38;5;28;01mreturn\u001b[39;00m dx\n",
      "\u001b[1;31mTypeError\u001b[0m: '>' not supported between instances of 'tuple' and 'int'"
     ]
    }
   ],
   "source": [
    "np.random.seed(231)\n",
    "N, D, H1, H2, C = 2, 15, 20, 30, 10\n",
    "X = np.random.randn(N, D)\n",
    "y = np.random.randint(C, size=(N,))\n",
    "\n",
    "for dropout in [1, 0.75, 0.5]:\n",
    "  print('Running check with dropout = ', dropout)\n",
    "  model = FullyConnectedNet([H1, H2], input_dim=D, num_classes=C,\n",
    "                            weight_scale=5e-2, dtype=np.float64,\n",
    "                            dropout=dropout, seed=123)\n",
    "\n",
    "  loss, grads = model.loss(X, y)\n",
    "  print('Initial loss: ', loss)\n",
    "  \n",
    "  # Relative errors should be around e-6 or less; Note that it's fine\n",
    "  # if for dropout=1 you have W2 error be on the order of e-5.\n",
    "  for name in sorted(grads):\n",
    "    f = lambda _: model.loss(X, y)[0]\n",
    "    grad_num = eval_numerical_gradient(f, model.params[name], verbose=False, h=1e-5)\n",
    "    print('%s relative error: %.2e' % (name, rel_error(grad_num, grads[name])))\n",
    "  print()"
   ]
  },
  {
   "cell_type": "markdown",
   "metadata": {},
   "source": [
    "Обучите две двухслойные сети с dropout-слоем (вероятность отсева 0,25) и без на наборе из 500 изображений. Визуализируйте графики обучения. Сделайте выводы по результатам эксперимента"
   ]
  },
  {
   "cell_type": "code",
   "execution_count": 38,
   "metadata": {},
   "outputs": [
    {
     "name": "stderr",
     "output_type": "stream",
     "text": [
      "ic| x: (array([[0., 0., 0., ..., 0., 0., 0.],\n",
      "              [0., 0., 0., ..., 0., 0., 0.],\n",
      "              [0., 0., 0., ..., 0., 0., 0.],\n",
      "              ...,\n",
      "              [0., 0., 0., ..., 0., 0., 0.],\n",
      "              [0., 0., 0., ..., 0., 0., 0.],\n",
      "              [0., 0., 0., ..., 0., 0., 0.]], dtype=float32),\n",
      "        array([[ 0.00417943,  0.013971  , -0.01785904, ...,  0.00977079,\n",
      "               -0.00345718, -0.00546486],\n",
      "              [ 0.00512453,  0.01404213,  0.00279914, ..., -0.00310411,\n",
      "               -0.02201058, -0.00604232],\n",
      "              [-0.00130501,  0.02884116,  0.00917584, ..., -0.00444533,\n",
      "                0.00148191,  0.01403515],\n",
      "              ...,\n",
      "              [ 0.00114734, -0.01547652,  0.01356354, ...,  0.00143373,\n",
      "               -0.00599072,  0.01589943],\n",
      "              [ 0.00833154,  0.00180847,  0.00808435, ..., -0.00684451,\n",
      "                0.00542312,  0.01817297],\n",
      "              [-0.00308257, -0.00281742,  0.00919512, ...,  0.00055839,\n",
      "                0.0013742 , -0.01318542]], dtype=float32),\n",
      "        array([0., 0., 0., 0., 0., 0., 0., 0., 0., 0., 0., 0., 0., 0., 0., 0., 0.,\n",
      "              0., 0., 0., 0., 0., 0., 0., 0., 0., 0., 0., 0., 0., 0., 0., 0., 0.,\n",
      "              0., 0., 0., 0., 0., 0., 0., 0., 0., 0., 0., 0., 0., 0., 0., 0., 0.,\n",
      "              0., 0., 0., 0., 0., 0., 0., 0., 0., 0., 0., 0., 0., 0., 0., 0., 0.,\n",
      "              0., 0., 0., 0., 0., 0., 0., 0., 0., 0., 0., 0., 0., 0., 0., 0., 0.,\n",
      "              0., 0., 0., 0., 0., 0., 0., 0., 0., 0., 0., 0., 0., 0., 0., 0., 0.,\n",
      "              0., 0., 0., 0., 0., 0., 0., 0., 0., 0., 0., 0., 0., 0., 0., 0., 0.,\n",
      "              0., 0., 0., 0., 0., 0., 0., 0., 0., 0., 0., 0., 0., 0., 0., 0., 0.,\n",
      "              0., 0., 0., 0., 0., 0., 0., 0., 0., 0.,"
     ]
    },
    {
     "name": "stdout",
     "output_type": "stream",
     "text": [
      "1\n",
      "X shape: (100, 784)\n",
      "scores shape: (100, 10)\n",
      "Shape of x[0]: (500,)\n",
      "Shape of dout: (100, 500)\n"
     ]
    },
    {
     "name": "stderr",
     "output_type": "stream",
     "text": [
      " 0., 0., 0., 0., 0., 0., 0.,\n",
      "              0., 0., 0., 0., 0., 0., 0., 0., 0., 0., 0., 0., 0., 0., 0., 0., 0.,\n",
      "              0., 0., 0., 0., 0., 0., 0., 0., 0., 0., 0., 0., 0., 0., 0., 0., 0.,\n",
      "              0., 0., 0., 0., 0., 0., 0., 0., 0., 0., 0., 0., 0., 0., 0., 0., 0.,\n",
      "              0., 0., 0., 0., 0., 0., 0., 0., 0., 0., 0., 0., 0., 0., 0., 0., 0.,\n",
      "              0., 0., 0., 0., 0., 0., 0., 0., 0., 0., 0., 0., 0., 0., 0., 0., 0.,\n",
      "              0., 0., 0., 0., 0., 0., 0., 0., 0., 0., 0., 0., 0., 0., 0., 0., 0.,\n",
      "              0., 0., 0., 0., 0., 0., 0., 0., 0., 0., 0., 0., 0., 0., 0., 0., 0.,\n",
      "              0., 0., 0., 0., 0., 0., 0., 0., 0., 0., 0., 0., 0., 0., 0., 0., 0.,\n",
      "              0., 0., 0., 0., 0., 0., 0., 0., 0., 0., 0., 0., 0., 0., 0., 0., 0.,\n",
      "              0., 0., 0., 0., 0., 0., 0., 0., 0., 0., 0., 0., 0., 0., 0., 0., 0.,\n",
      "              0., 0., 0., 0., 0., 0., 0., 0., 0., 0., 0., 0., 0., 0., 0., 0., 0.,\n",
      "              0., 0., 0., 0., 0., 0., 0., 0., 0., 0., 0., 0., 0., 0., 0., 0., 0.,\n",
      "              0., 0., 0., 0., 0., 0., 0., 0., 0., 0., 0., 0., 0., 0., 0., 0., 0.,\n",
      "              0., 0., 0., 0., 0., 0., 0., 0., 0., 0., 0., 0., 0., 0., 0., 0., 0.,\n",
      "              0., 0., 0., 0., 0., 0., 0., 0., 0., 0., 0., 0., 0., 0., 0., 0., 0.,\n",
      "              0., 0., 0., 0., 0., 0., 0., 0., 0., 0., 0., 0., 0., 0., 0., 0., 0.,\n",
      "              0., 0., 0., 0., 0., 0., 0., 0., 0., 0., 0., 0., 0., 0., 0., 0., 0.,\n",
      "              0., 0., 0., 0., 0., 0., 0., 0., 0., 0., 0., 0., 0., 0., 0., 0., 0.,\n",
      "              0., 0., 0., 0., 0., 0., 0., 0., 0., 0., 0., 0., 0., 0., 0., 0., 0.,\n",
      "              0., 0., 0., 0., 0., 0., 0., 0., 0., 0., 0., 0., 0., 0., 0., 0., 0.,\n",
      "              0., 0., 0., 0., 0., 0., 0.], dtype=float32))\n"
     ]
    },
    {
     "ename": "TypeError",
     "evalue": "'>' not supported between instances of 'tuple' and 'int'",
     "output_type": "error",
     "traceback": [
      "\u001b[1;31m---------------------------------------------------------------------------\u001b[0m",
      "\u001b[1;31mTypeError\u001b[0m                                 Traceback (most recent call last)",
      "Cell \u001b[1;32mIn[38], line 24\u001b[0m\n\u001b[0;32m     15\u001b[0m \u001b[38;5;28mprint\u001b[39m(dropout)\n\u001b[0;32m     17\u001b[0m solver \u001b[38;5;241m=\u001b[39m Solver(model, small_data,\n\u001b[0;32m     18\u001b[0m                 num_epochs\u001b[38;5;241m=\u001b[39m\u001b[38;5;241m25\u001b[39m, batch_size\u001b[38;5;241m=\u001b[39m\u001b[38;5;241m100\u001b[39m,\n\u001b[0;32m     19\u001b[0m                 update_rule\u001b[38;5;241m=\u001b[39m\u001b[38;5;124m'\u001b[39m\u001b[38;5;124madam\u001b[39m\u001b[38;5;124m'\u001b[39m,\n\u001b[1;32m   (...)\u001b[0m\n\u001b[0;32m     22\u001b[0m                 },\n\u001b[0;32m     23\u001b[0m                 verbose\u001b[38;5;241m=\u001b[39m\u001b[38;5;28;01mTrue\u001b[39;00m, print_every\u001b[38;5;241m=\u001b[39m\u001b[38;5;241m100\u001b[39m)\n\u001b[1;32m---> 24\u001b[0m \u001b[43msolver\u001b[49m\u001b[38;5;241;43m.\u001b[39;49m\u001b[43mtrain\u001b[49m\u001b[43m(\u001b[49m\u001b[43m)\u001b[49m\n\u001b[0;32m     25\u001b[0m solvers[dropout] \u001b[38;5;241m=\u001b[39m solver\n\u001b[0;32m     26\u001b[0m \u001b[38;5;28mprint\u001b[39m()\n",
      "File \u001b[1;32mc:\\Users\\79270\\Documents\\AppliedMath_CS_3\\DL_master_SamUni\\HW3\\scripts_\\solver.py:263\u001b[0m, in \u001b[0;36mSolver.train\u001b[1;34m(self)\u001b[0m\n\u001b[0;32m    260\u001b[0m num_iterations \u001b[38;5;241m=\u001b[39m \u001b[38;5;28mself\u001b[39m\u001b[38;5;241m.\u001b[39mnum_epochs \u001b[38;5;241m*\u001b[39m iterations_per_epoch\n\u001b[0;32m    262\u001b[0m \u001b[38;5;28;01mfor\u001b[39;00m t \u001b[38;5;129;01min\u001b[39;00m \u001b[38;5;28mrange\u001b[39m(num_iterations):\n\u001b[1;32m--> 263\u001b[0m     \u001b[38;5;28;43mself\u001b[39;49m\u001b[38;5;241;43m.\u001b[39;49m\u001b[43m_step\u001b[49m\u001b[43m(\u001b[49m\u001b[43m)\u001b[49m\n\u001b[0;32m    265\u001b[0m     \u001b[38;5;66;03m# Maybe print training loss\u001b[39;00m\n\u001b[0;32m    266\u001b[0m     \u001b[38;5;28;01mif\u001b[39;00m \u001b[38;5;28mself\u001b[39m\u001b[38;5;241m.\u001b[39mverbose \u001b[38;5;129;01mand\u001b[39;00m t \u001b[38;5;241m%\u001b[39m \u001b[38;5;28mself\u001b[39m\u001b[38;5;241m.\u001b[39mprint_every \u001b[38;5;241m==\u001b[39m \u001b[38;5;241m0\u001b[39m:\n",
      "File \u001b[1;32mc:\\Users\\79270\\Documents\\AppliedMath_CS_3\\DL_master_SamUni\\HW3\\scripts_\\solver.py:181\u001b[0m, in \u001b[0;36mSolver._step\u001b[1;34m(self)\u001b[0m\n\u001b[0;32m    178\u001b[0m y_batch \u001b[38;5;241m=\u001b[39m \u001b[38;5;28mself\u001b[39m\u001b[38;5;241m.\u001b[39my_train[batch_mask]\n\u001b[0;32m    180\u001b[0m \u001b[38;5;66;03m# Compute loss and gradient\u001b[39;00m\n\u001b[1;32m--> 181\u001b[0m loss, grads \u001b[38;5;241m=\u001b[39m \u001b[38;5;28;43mself\u001b[39;49m\u001b[38;5;241;43m.\u001b[39;49m\u001b[43mmodel\u001b[49m\u001b[38;5;241;43m.\u001b[39;49m\u001b[43mloss\u001b[49m\u001b[43m(\u001b[49m\u001b[43mX_batch\u001b[49m\u001b[43m,\u001b[49m\u001b[43m \u001b[49m\u001b[43my_batch\u001b[49m\u001b[43m)\u001b[49m\n\u001b[0;32m    182\u001b[0m \u001b[38;5;28mself\u001b[39m\u001b[38;5;241m.\u001b[39mloss_history\u001b[38;5;241m.\u001b[39mappend(loss)\n\u001b[0;32m    184\u001b[0m \u001b[38;5;66;03m# Perform a parameter update\u001b[39;00m\n",
      "File \u001b[1;32mc:\\Users\\79270\\Documents\\AppliedMath_CS_3\\DL_master_SamUni\\HW3\\scripts_\\classifiers\\fc_net.py:377\u001b[0m, in \u001b[0;36mFullyConnectedNet.loss\u001b[1;34m(self, X, y)\u001b[0m\n\u001b[0;32m    375\u001b[0m \u001b[38;5;28;01mif\u001b[39;00m \u001b[38;5;28mself\u001b[39m\u001b[38;5;241m.\u001b[39muse_dropout:\n\u001b[0;32m    376\u001b[0m     dhidden \u001b[38;5;241m=\u001b[39m dropout_backward(dhidden, caches\u001b[38;5;241m.\u001b[39mpop())\n\u001b[1;32m--> 377\u001b[0m dhidden \u001b[38;5;241m=\u001b[39m \u001b[43mrelu_backward\u001b[49m\u001b[43m(\u001b[49m\u001b[43mdhidden\u001b[49m\u001b[43m,\u001b[49m\u001b[43m \u001b[49m\u001b[43mcaches\u001b[49m\u001b[38;5;241;43m.\u001b[39;49m\u001b[43mpop\u001b[49m\u001b[43m(\u001b[49m\u001b[43m)\u001b[49m\u001b[43m)\u001b[49m\n\u001b[0;32m    378\u001b[0m \u001b[38;5;28;01mif\u001b[39;00m \u001b[38;5;28mself\u001b[39m\u001b[38;5;241m.\u001b[39mnormalization \u001b[38;5;241m==\u001b[39m \u001b[38;5;124m\"\u001b[39m\u001b[38;5;124mbatchnorm\u001b[39m\u001b[38;5;124m\"\u001b[39m:\n\u001b[0;32m    379\u001b[0m     dhidden, dgamma, dbeta \u001b[38;5;241m=\u001b[39m batchnorm_backward(dhidden, caches\u001b[38;5;241m.\u001b[39mpop())\n",
      "File \u001b[1;32mc:\\Users\\79270\\Documents\\AppliedMath_CS_3\\DL_master_SamUni\\HW3\\scripts_\\layers.py:131\u001b[0m, in \u001b[0;36mrelu_backward\u001b[1;34m(dout, cache)\u001b[0m\n\u001b[0;32m    129\u001b[0m x \u001b[38;5;241m=\u001b[39m cache\n\u001b[0;32m    130\u001b[0m ic(x)\n\u001b[1;32m--> 131\u001b[0m dx \u001b[38;5;241m=\u001b[39m dout \u001b[38;5;241m*\u001b[39m (\u001b[43mx\u001b[49m\u001b[43m \u001b[49m\u001b[38;5;241;43m>\u001b[39;49m\u001b[43m \u001b[49m\u001b[38;5;241;43m0\u001b[39;49m)\n\u001b[0;32m    134\u001b[0m \u001b[38;5;66;03m# *****END OF YOUR CODE (DO NOT DELETE/MODIFY THIS LINE)*****\u001b[39;00m\n\u001b[0;32m    135\u001b[0m \u001b[38;5;66;03m###########################################################################\u001b[39;00m\n\u001b[0;32m    136\u001b[0m \u001b[38;5;66;03m#                             END OF YOUR CODE                            #\u001b[39;00m\n\u001b[0;32m    137\u001b[0m \u001b[38;5;66;03m###########################################################################\u001b[39;00m\n\u001b[0;32m    138\u001b[0m \u001b[38;5;28;01mreturn\u001b[39;00m dx\n",
      "\u001b[1;31mTypeError\u001b[0m: '>' not supported between instances of 'tuple' and 'int'"
     ]
    }
   ],
   "source": [
    "# Train two identical nets, one with dropout and one without\n",
    "np.random.seed(231)\n",
    "num_train = 500\n",
    "small_data = {\n",
    "  'X_train': data['X_train'][:num_train],\n",
    "  'y_train': data['y_train'][:num_train],\n",
    "  'X_val': data['X_val'],\n",
    "  'y_val': data['y_val'],\n",
    "}\n",
    "\n",
    "solvers = {}\n",
    "dropout_choices = [1, 0.25]\n",
    "for dropout in dropout_choices:\n",
    "  model = FullyConnectedNet([500], dropout=dropout)\n",
    "  print(dropout)\n",
    "\n",
    "  solver = Solver(model, small_data,\n",
    "                  num_epochs=25, batch_size=100,\n",
    "                  update_rule='adam',\n",
    "                  optim_config={\n",
    "                    'learning_rate': 5e-4,\n",
    "                  },\n",
    "                  verbose=True, print_every=100)\n",
    "  solver.train()\n",
    "  solvers[dropout] = solver\n",
    "  print()"
   ]
  },
  {
   "cell_type": "code",
   "execution_count": 39,
   "metadata": {},
   "outputs": [
    {
     "ename": "KeyError",
     "evalue": "1",
     "output_type": "error",
     "traceback": [
      "\u001b[1;31m---------------------------------------------------------------------------\u001b[0m",
      "\u001b[1;31mKeyError\u001b[0m                                  Traceback (most recent call last)",
      "Cell \u001b[1;32mIn[39], line 6\u001b[0m\n\u001b[0;32m      4\u001b[0m val_accs \u001b[38;5;241m=\u001b[39m []\n\u001b[0;32m      5\u001b[0m \u001b[38;5;28;01mfor\u001b[39;00m dropout \u001b[38;5;129;01min\u001b[39;00m dropout_choices:\n\u001b[1;32m----> 6\u001b[0m   solver \u001b[38;5;241m=\u001b[39m \u001b[43msolvers\u001b[49m\u001b[43m[\u001b[49m\u001b[43mdropout\u001b[49m\u001b[43m]\u001b[49m\n\u001b[0;32m      7\u001b[0m   train_accs\u001b[38;5;241m.\u001b[39mappend(solver\u001b[38;5;241m.\u001b[39mtrain_acc_history[\u001b[38;5;241m-\u001b[39m\u001b[38;5;241m1\u001b[39m])\n\u001b[0;32m      8\u001b[0m   val_accs\u001b[38;5;241m.\u001b[39mappend(solver\u001b[38;5;241m.\u001b[39mval_acc_history[\u001b[38;5;241m-\u001b[39m\u001b[38;5;241m1\u001b[39m])\n",
      "\u001b[1;31mKeyError\u001b[0m: 1"
     ]
    }
   ],
   "source": [
    "# Plot train and validation accuracies of the two models\n",
    "\n",
    "train_accs = []\n",
    "val_accs = []\n",
    "for dropout in dropout_choices:\n",
    "  solver = solvers[dropout]\n",
    "  train_accs.append(solver.train_acc_history[-1])\n",
    "  val_accs.append(solver.val_acc_history[-1])\n",
    "\n",
    "plt.subplot(3, 1, 1)\n",
    "for dropout in dropout_choices:\n",
    "  plt.plot(solvers[dropout].train_acc_history, 'o', label='%.2f dropout' % dropout)\n",
    "plt.title('Train accuracy')\n",
    "plt.xlabel('Epoch')\n",
    "plt.ylabel('Accuracy')\n",
    "plt.legend(ncol=2, loc='lower right')\n",
    "  \n",
    "plt.subplot(3, 1, 2)\n",
    "for dropout in dropout_choices:\n",
    "  plt.plot(solvers[dropout].val_acc_history, 'o', label='%.2f dropout' % dropout)\n",
    "plt.title('Val accuracy')\n",
    "plt.xlabel('Epoch')\n",
    "plt.ylabel('Accuracy')\n",
    "plt.legend(ncol=2, loc='lower right')\n",
    "\n",
    "plt.gcf().set_size_inches(15, 15)\n",
    "plt.show()"
   ]
  },
  {
   "cell_type": "markdown",
   "metadata": {},
   "source": [
    "# Сверточные нейронные сети (CNN)"
   ]
  },
  {
   "cell_type": "markdown",
   "metadata": {},
   "source": [
    "Реализуйте прямой проход для сверточного слоя - функция conv_forward_naive в scripts/layers.py юПроверьте свою реализацию, запустив код ниже "
   ]
  },
  {
   "cell_type": "code",
   "execution_count": 41,
   "metadata": {},
   "outputs": [
    {
     "name": "stdout",
     "output_type": "stream",
     "text": [
      "Testing conv_forward_naive\n",
      "difference:  2.2121476417505994e-08\n"
     ]
    }
   ],
   "source": [
    "x_shape = (2, 3, 4, 4)\n",
    "w_shape = (3, 3, 4, 4)\n",
    "x = np.linspace(-0.1, 0.5, num=np.prod(x_shape)).reshape(x_shape)\n",
    "w = np.linspace(-0.2, 0.3, num=np.prod(w_shape)).reshape(w_shape)\n",
    "b = np.linspace(-0.1, 0.2, num=3)\n",
    "\n",
    "conv_param = {'stride': 2, 'pad': 1}\n",
    "out, _ = conv_forward_naive(x, w, b, conv_param)\n",
    "correct_out = np.array([[[[-0.08759809, -0.10987781],\n",
    "                           [-0.18387192, -0.2109216 ]],\n",
    "                          [[ 0.21027089,  0.21661097],\n",
    "                           [ 0.22847626,  0.23004637]],\n",
    "                          [[ 0.50813986,  0.54309974],\n",
    "                           [ 0.64082444,  0.67101435]]],\n",
    "                         [[[-0.98053589, -1.03143541],\n",
    "                           [-1.19128892, -1.24695841]],\n",
    "                          [[ 0.69108355,  0.66880383],\n",
    "                           [ 0.59480972,  0.56776003]],\n",
    "                          [[ 2.36270298,  2.36904306],\n",
    "                           [ 2.38090835,  2.38247847]]]])\n",
    "\n",
    "# Compare your output to ours; difference should be around e-8\n",
    "print('Testing conv_forward_naive')\n",
    "print('difference: ', rel_error(out, correct_out))"
   ]
  },
  {
   "cell_type": "markdown",
   "metadata": {},
   "source": [
    "Реализуйте обратный проход - функция conv_backward_naive в scripts/layers.py"
   ]
  },
  {
   "cell_type": "code",
   "execution_count": 42,
   "metadata": {},
   "outputs": [
    {
     "name": "stdout",
     "output_type": "stream",
     "text": [
      "Testing conv_backward_naive function\n",
      "dx error:  1.159803161159293e-08\n",
      "dw error:  2.2471264748452487e-10\n",
      "db error:  3.3726153958780465e-11\n"
     ]
    }
   ],
   "source": [
    "np.random.seed(231)\n",
    "x = np.random.randn(4, 3, 5, 5)\n",
    "w = np.random.randn(2, 3, 3, 3)\n",
    "b = np.random.randn(2,)\n",
    "dout = np.random.randn(4, 2, 5, 5)\n",
    "conv_param = {'stride': 1, 'pad': 1}\n",
    "\n",
    "dx_num = eval_numerical_gradient_array(lambda x: conv_forward_naive(x, w, b, conv_param)[0], x, dout)\n",
    "dw_num = eval_numerical_gradient_array(lambda w: conv_forward_naive(x, w, b, conv_param)[0], w, dout)\n",
    "db_num = eval_numerical_gradient_array(lambda b: conv_forward_naive(x, w, b, conv_param)[0], b, dout)\n",
    "\n",
    "out, cache = conv_forward_naive(x, w, b, conv_param)\n",
    "dx, dw, db = conv_backward_naive(dout, cache)\n",
    "\n",
    "# Your errors should be around e-8 or less.\n",
    "print('Testing conv_backward_naive function')\n",
    "print('dx error: ', rel_error(dx, dx_num))\n",
    "print('dw error: ', rel_error(dw, dw_num))\n",
    "print('db error: ', rel_error(db, db_num))"
   ]
  },
  {
   "cell_type": "markdown",
   "metadata": {},
   "source": [
    "Реализуйте прямой проход для max-pooling слоя -функция  max_pool_forward_naive в scripts/layers.py"
   ]
  },
  {
   "cell_type": "code",
   "execution_count": 43,
   "metadata": {},
   "outputs": [
    {
     "name": "stdout",
     "output_type": "stream",
     "text": [
      "Testing max_pool_forward_naive function:\n",
      "difference:  4.1666665157267834e-08\n"
     ]
    }
   ],
   "source": [
    "x_shape = (2, 3, 4, 4)\n",
    "x = np.linspace(-0.3, 0.4, num=np.prod(x_shape)).reshape(x_shape)\n",
    "pool_param = {'pool_width': 2, 'pool_height': 2, 'stride': 2}\n",
    "\n",
    "out, _ = max_pool_forward_naive(x, pool_param)\n",
    "\n",
    "correct_out = np.array([[[[-0.26315789, -0.24842105],\n",
    "                          [-0.20421053, -0.18947368]],\n",
    "                         [[-0.14526316, -0.13052632],\n",
    "                          [-0.08631579, -0.07157895]],\n",
    "                         [[-0.02736842, -0.01263158],\n",
    "                          [ 0.03157895,  0.04631579]]],\n",
    "                        [[[ 0.09052632,  0.10526316],\n",
    "                          [ 0.14947368,  0.16421053]],\n",
    "                         [[ 0.20842105,  0.22315789],\n",
    "                          [ 0.26736842,  0.28210526]],\n",
    "                         [[ 0.32631579,  0.34105263],\n",
    "                          [ 0.38526316,  0.4       ]]]])\n",
    "\n",
    "# Compare your output with ours. Difference should be on the order of e-8.\n",
    "print('Testing max_pool_forward_naive function:')\n",
    "print('difference: ', rel_error(out, correct_out))"
   ]
  },
  {
   "cell_type": "markdown",
   "metadata": {},
   "source": [
    "Реализуйте обратный проход для max-pooling слоя в max_pool_backward_naive . "
   ]
  },
  {
   "cell_type": "code",
   "execution_count": 44,
   "metadata": {},
   "outputs": [
    {
     "name": "stdout",
     "output_type": "stream",
     "text": [
      "Testing max_pool_backward_naive function:\n",
      "dx error:  3.27562514223145e-12\n"
     ]
    }
   ],
   "source": [
    "np.random.seed(231)\n",
    "x = np.random.randn(3, 2, 8, 8)\n",
    "dout = np.random.randn(3, 2, 4, 4)\n",
    "pool_param = {'pool_height': 2, 'pool_width': 2, 'stride': 2}\n",
    "\n",
    "dx_num = eval_numerical_gradient_array(lambda x: max_pool_forward_naive(x, pool_param)[0], x, dout)\n",
    "\n",
    "out, cache = max_pool_forward_naive(x, pool_param)\n",
    "dx = max_pool_backward_naive(dout, cache)\n",
    "\n",
    "# Your error should be on the order of e-12\n",
    "print('Testing max_pool_backward_naive function:')\n",
    "print('dx error: ', rel_error(dx, dx_num))"
   ]
  },
  {
   "cell_type": "markdown",
   "metadata": {},
   "source": [
    "В скрипте scripts/fast_layers.py представлены быстрые реализации слоев свертки и пуллинга, написанных с использованием  Cython. \n",
    "\n",
    "Для компиляции выполните следующую команду в директории scripts\n",
    "\n",
    "```bash\n",
    "python setup.py build_ext --inplace\n",
    "```\n"
   ]
  },
  {
   "cell_type": "markdown",
   "metadata": {},
   "source": [
    "Сравните ваши реализации слоев свертки и пуллинга с быстрыми реализациями."
   ]
  },
  {
   "cell_type": "code",
   "execution_count": 45,
   "metadata": {},
   "outputs": [
    {
     "name": "stdout",
     "output_type": "stream",
     "text": [
      "=========== You can safely ignore the message below if you are NOT working on ConvolutionalNetworks.ipynb ===========\n",
      "\tYou will need to compile a Cython extension for a portion of this assignment.\n",
      "\tThe instructions to do this will be given in a section of the notebook below.\n",
      "\tThere will be an option for Colab users and another for Jupyter (local) users.\n",
      "Testing conv_forward_fast:\n",
      "Naive: 1.884638s\n",
      "Fast: 0.000000s\n"
     ]
    },
    {
     "ename": "ZeroDivisionError",
     "evalue": "float division by zero",
     "output_type": "error",
     "traceback": [
      "\u001b[1;31m---------------------------------------------------------------------------\u001b[0m",
      "\u001b[1;31mZeroDivisionError\u001b[0m                         Traceback (most recent call last)",
      "Cell \u001b[1;32mIn[45], line 20\u001b[0m\n\u001b[0;32m     18\u001b[0m \u001b[38;5;28mprint\u001b[39m(\u001b[38;5;124m'\u001b[39m\u001b[38;5;124mNaive: \u001b[39m\u001b[38;5;132;01m%f\u001b[39;00m\u001b[38;5;124ms\u001b[39m\u001b[38;5;124m'\u001b[39m \u001b[38;5;241m%\u001b[39m (t1 \u001b[38;5;241m-\u001b[39m t0))\n\u001b[0;32m     19\u001b[0m \u001b[38;5;28mprint\u001b[39m(\u001b[38;5;124m'\u001b[39m\u001b[38;5;124mFast: \u001b[39m\u001b[38;5;132;01m%f\u001b[39;00m\u001b[38;5;124ms\u001b[39m\u001b[38;5;124m'\u001b[39m \u001b[38;5;241m%\u001b[39m (t2 \u001b[38;5;241m-\u001b[39m t1))\n\u001b[1;32m---> 20\u001b[0m \u001b[38;5;28mprint\u001b[39m(\u001b[38;5;124m'\u001b[39m\u001b[38;5;124mSpeedup: \u001b[39m\u001b[38;5;132;01m%f\u001b[39;00m\u001b[38;5;124mx\u001b[39m\u001b[38;5;124m'\u001b[39m \u001b[38;5;241m%\u001b[39m (\u001b[43m(\u001b[49m\u001b[43mt1\u001b[49m\u001b[43m \u001b[49m\u001b[38;5;241;43m-\u001b[39;49m\u001b[43m \u001b[49m\u001b[43mt0\u001b[49m\u001b[43m)\u001b[49m\u001b[43m \u001b[49m\u001b[38;5;241;43m/\u001b[39;49m\u001b[43m \u001b[49m\u001b[43m(\u001b[49m\u001b[43mt2\u001b[49m\u001b[43m \u001b[49m\u001b[38;5;241;43m-\u001b[39;49m\u001b[43m \u001b[49m\u001b[43mt1\u001b[49m\u001b[43m)\u001b[49m))\n\u001b[0;32m     21\u001b[0m \u001b[38;5;28mprint\u001b[39m(\u001b[38;5;124m'\u001b[39m\u001b[38;5;124mDifference: \u001b[39m\u001b[38;5;124m'\u001b[39m, rel_error(out_naive, out_fast))\n\u001b[0;32m     23\u001b[0m t0 \u001b[38;5;241m=\u001b[39m time()\n",
      "\u001b[1;31mZeroDivisionError\u001b[0m: float division by zero"
     ]
    }
   ],
   "source": [
    "# Rel errors should be around e-9 or less\n",
    "from scripts.fast_layers import conv_forward_fast, conv_backward_fast\n",
    "from time import time\n",
    "np.random.seed(231)\n",
    "x = np.random.randn(100, 3, 31, 31)\n",
    "w = np.random.randn(25, 3, 3, 3)\n",
    "b = np.random.randn(25,)\n",
    "dout = np.random.randn(100, 25, 16, 16)\n",
    "conv_param = {'stride': 2, 'pad': 1}\n",
    "\n",
    "t0 = time()\n",
    "out_naive, cache_naive = conv_forward_naive(x, w, b, conv_param)\n",
    "t1 = time()\n",
    "out_fast, cache_fast = conv_forward_fast(x, w, b, conv_param)\n",
    "t2 = time()\n",
    "\n",
    "print('Testing conv_forward_fast:')\n",
    "print('Naive: %fs' % (t1 - t0))\n",
    "print('Fast: %fs' % (t2 - t1))\n",
    "print('Speedup: %fx' % ((t1 - t0) / (t2 - t1)))\n",
    "print('Difference: ', rel_error(out_naive, out_fast))\n",
    "\n",
    "t0 = time()\n",
    "dx_naive, dw_naive, db_naive = conv_backward_naive(dout, cache_naive)\n",
    "t1 = time()\n",
    "dx_fast, dw_fast, db_fast = conv_backward_fast(dout, cache_fast)\n",
    "t2 = time()\n",
    "\n",
    "print('\\nTesting conv_backward_fast:')\n",
    "print('Naive: %fs' % (t1 - t0))\n",
    "print('Fast: %fs' % (t2 - t1))\n",
    "print('Speedup: %fx' % ((t1 - t0) / (t2 - t1)))\n",
    "print('dx difference: ', rel_error(dx_naive, dx_fast))\n",
    "print('dw difference: ', rel_error(dw_naive, dw_fast))\n",
    "print('db difference: ', rel_error(db_naive, db_fast))"
   ]
  },
  {
   "cell_type": "code",
   "execution_count": 46,
   "metadata": {},
   "outputs": [
    {
     "name": "stdout",
     "output_type": "stream",
     "text": [
      "Testing pool_forward_fast:\n",
      "Naive: 0.140788s\n",
      "fast: 0.000000s\n"
     ]
    },
    {
     "ename": "ZeroDivisionError",
     "evalue": "float division by zero",
     "output_type": "error",
     "traceback": [
      "\u001b[1;31m---------------------------------------------------------------------------\u001b[0m",
      "\u001b[1;31mZeroDivisionError\u001b[0m                         Traceback (most recent call last)",
      "Cell \u001b[1;32mIn[46], line 17\u001b[0m\n\u001b[0;32m     15\u001b[0m \u001b[38;5;28mprint\u001b[39m(\u001b[38;5;124m'\u001b[39m\u001b[38;5;124mNaive: \u001b[39m\u001b[38;5;132;01m%f\u001b[39;00m\u001b[38;5;124ms\u001b[39m\u001b[38;5;124m'\u001b[39m \u001b[38;5;241m%\u001b[39m (t1 \u001b[38;5;241m-\u001b[39m t0))\n\u001b[0;32m     16\u001b[0m \u001b[38;5;28mprint\u001b[39m(\u001b[38;5;124m'\u001b[39m\u001b[38;5;124mfast: \u001b[39m\u001b[38;5;132;01m%f\u001b[39;00m\u001b[38;5;124ms\u001b[39m\u001b[38;5;124m'\u001b[39m \u001b[38;5;241m%\u001b[39m (t2 \u001b[38;5;241m-\u001b[39m t1))\n\u001b[1;32m---> 17\u001b[0m \u001b[38;5;28mprint\u001b[39m(\u001b[38;5;124m'\u001b[39m\u001b[38;5;124mspeedup: \u001b[39m\u001b[38;5;132;01m%f\u001b[39;00m\u001b[38;5;124mx\u001b[39m\u001b[38;5;124m'\u001b[39m \u001b[38;5;241m%\u001b[39m (\u001b[43m(\u001b[49m\u001b[43mt1\u001b[49m\u001b[43m \u001b[49m\u001b[38;5;241;43m-\u001b[39;49m\u001b[43m \u001b[49m\u001b[43mt0\u001b[49m\u001b[43m)\u001b[49m\u001b[43m \u001b[49m\u001b[38;5;241;43m/\u001b[39;49m\u001b[43m \u001b[49m\u001b[43m(\u001b[49m\u001b[43mt2\u001b[49m\u001b[43m \u001b[49m\u001b[38;5;241;43m-\u001b[39;49m\u001b[43m \u001b[49m\u001b[43mt1\u001b[49m\u001b[43m)\u001b[49m))\n\u001b[0;32m     18\u001b[0m \u001b[38;5;28mprint\u001b[39m(\u001b[38;5;124m'\u001b[39m\u001b[38;5;124mdifference: \u001b[39m\u001b[38;5;124m'\u001b[39m, rel_error(out_naive, out_fast))\n\u001b[0;32m     20\u001b[0m t0 \u001b[38;5;241m=\u001b[39m time()\n",
      "\u001b[1;31mZeroDivisionError\u001b[0m: float division by zero"
     ]
    }
   ],
   "source": [
    "# Relative errors should be close to 0.0\n",
    "from scripts.fast_layers import max_pool_forward_fast, max_pool_backward_fast\n",
    "np.random.seed(231)\n",
    "x = np.random.randn(100, 3, 32, 32)\n",
    "dout = np.random.randn(100, 3, 16, 16)\n",
    "pool_param = {'pool_height': 2, 'pool_width': 2, 'stride': 2}\n",
    "\n",
    "t0 = time()\n",
    "out_naive, cache_naive = max_pool_forward_naive(x, pool_param)\n",
    "t1 = time()\n",
    "out_fast, cache_fast = max_pool_forward_fast(x, pool_param)\n",
    "t2 = time()\n",
    "\n",
    "print('Testing pool_forward_fast:')\n",
    "print('Naive: %fs' % (t1 - t0))\n",
    "print('fast: %fs' % (t2 - t1))\n",
    "print('speedup: %fx' % ((t1 - t0) / (t2 - t1)))\n",
    "print('difference: ', rel_error(out_naive, out_fast))\n",
    "\n",
    "t0 = time()\n",
    "dx_naive = max_pool_backward_naive(dout, cache_naive)\n",
    "t1 = time()\n",
    "dx_fast = max_pool_backward_fast(dout, cache_fast)\n",
    "t2 = time()\n",
    "\n",
    "print('\\nTesting pool_backward_fast:')\n",
    "print('Naive: %fs' % (t1 - t0))\n",
    "print('fast: %fs' % (t2 - t1))\n",
    "print('speedup: %fx' % ((t1 - t0) / (t2 - t1)))\n",
    "print('dx difference: ', rel_error(dx_naive, dx_fast))"
   ]
  },
  {
   "cell_type": "markdown",
   "metadata": {},
   "source": [
    "В layer_utils.py вы можете найти  часто используемые комбинации слоев, используемых в сверточных сетях. Ознакомьтесь с ними и запустите код ниже для проверки их работы"
   ]
  },
  {
   "cell_type": "code",
   "execution_count": 47,
   "metadata": {},
   "outputs": [
    {
     "ename": "NameError",
     "evalue": "name 'col2im_6d_cython' is not defined",
     "output_type": "error",
     "traceback": [
      "\u001b[1;31m---------------------------------------------------------------------------\u001b[0m",
      "\u001b[1;31mNameError\u001b[0m                                 Traceback (most recent call last)",
      "Cell \u001b[1;32mIn[47], line 11\u001b[0m\n\u001b[0;32m      8\u001b[0m pool_param \u001b[38;5;241m=\u001b[39m {\u001b[38;5;124m'\u001b[39m\u001b[38;5;124mpool_height\u001b[39m\u001b[38;5;124m'\u001b[39m: \u001b[38;5;241m2\u001b[39m, \u001b[38;5;124m'\u001b[39m\u001b[38;5;124mpool_width\u001b[39m\u001b[38;5;124m'\u001b[39m: \u001b[38;5;241m2\u001b[39m, \u001b[38;5;124m'\u001b[39m\u001b[38;5;124mstride\u001b[39m\u001b[38;5;124m'\u001b[39m: \u001b[38;5;241m2\u001b[39m}\n\u001b[0;32m     10\u001b[0m out, cache \u001b[38;5;241m=\u001b[39m conv_relu_pool_forward(x, w, b, conv_param, pool_param)\n\u001b[1;32m---> 11\u001b[0m dx, dw, db \u001b[38;5;241m=\u001b[39m \u001b[43mconv_relu_pool_backward\u001b[49m\u001b[43m(\u001b[49m\u001b[43mdout\u001b[49m\u001b[43m,\u001b[49m\u001b[43m \u001b[49m\u001b[43mcache\u001b[49m\u001b[43m)\u001b[49m\n\u001b[0;32m     13\u001b[0m dx_num \u001b[38;5;241m=\u001b[39m eval_numerical_gradient_array(\u001b[38;5;28;01mlambda\u001b[39;00m x: conv_relu_pool_forward(x, w, b, conv_param, pool_param)[\u001b[38;5;241m0\u001b[39m], x, dout)\n\u001b[0;32m     14\u001b[0m dw_num \u001b[38;5;241m=\u001b[39m eval_numerical_gradient_array(\u001b[38;5;28;01mlambda\u001b[39;00m w: conv_relu_pool_forward(x, w, b, conv_param, pool_param)[\u001b[38;5;241m0\u001b[39m], w, dout)\n",
      "File \u001b[1;32mc:\\Users\\79270\\Documents\\AppliedMath_CS_3\\DL_master_SamUni\\HW3\\scripts\\layer_utils.py:109\u001b[0m, in \u001b[0;36mconv_relu_pool_backward\u001b[1;34m(dout, cache)\u001b[0m\n\u001b[0;32m    107\u001b[0m ds \u001b[38;5;241m=\u001b[39m max_pool_backward_fast(dout, pool_cache)\n\u001b[0;32m    108\u001b[0m da \u001b[38;5;241m=\u001b[39m relu_backward(ds, relu_cache)\n\u001b[1;32m--> 109\u001b[0m dx, dw, db \u001b[38;5;241m=\u001b[39m \u001b[43mconv_backward_fast\u001b[49m\u001b[43m(\u001b[49m\u001b[43mda\u001b[49m\u001b[43m,\u001b[49m\u001b[43m \u001b[49m\u001b[43mconv_cache\u001b[49m\u001b[43m)\u001b[49m\n\u001b[0;32m    110\u001b[0m \u001b[38;5;28;01mreturn\u001b[39;00m dx, dw, db\n",
      "File \u001b[1;32mc:\\Users\\79270\\Documents\\AppliedMath_CS_3\\DL_master_SamUni\\HW3\\scripts\\fast_layers.py:103\u001b[0m, in \u001b[0;36mconv_backward_strides\u001b[1;34m(dout, cache)\u001b[0m\n\u001b[0;32m    101\u001b[0m dx_cols \u001b[38;5;241m=\u001b[39m w\u001b[38;5;241m.\u001b[39mreshape(F, \u001b[38;5;241m-\u001b[39m\u001b[38;5;241m1\u001b[39m)\u001b[38;5;241m.\u001b[39mT\u001b[38;5;241m.\u001b[39mdot(dout_reshaped)\n\u001b[0;32m    102\u001b[0m dx_cols\u001b[38;5;241m.\u001b[39mshape \u001b[38;5;241m=\u001b[39m (C, HH, WW, N, out_h, out_w)\n\u001b[1;32m--> 103\u001b[0m dx \u001b[38;5;241m=\u001b[39m \u001b[43mcol2im_6d_cython\u001b[49m(dx_cols, N, C, H, W, HH, WW, pad, stride)\n\u001b[0;32m    105\u001b[0m \u001b[38;5;28;01mreturn\u001b[39;00m dx, dw, db\n",
      "\u001b[1;31mNameError\u001b[0m: name 'col2im_6d_cython' is not defined"
     ]
    }
   ],
   "source": [
    "from scripts.layer_utils import conv_relu_pool_forward, conv_relu_pool_backward\n",
    "np.random.seed(231)\n",
    "x = np.random.randn(2, 3, 16, 16)\n",
    "w = np.random.randn(3, 3, 3, 3)\n",
    "b = np.random.randn(3,)\n",
    "dout = np.random.randn(2, 3, 8, 8)\n",
    "conv_param = {'stride': 1, 'pad': 1}\n",
    "pool_param = {'pool_height': 2, 'pool_width': 2, 'stride': 2}\n",
    "\n",
    "out, cache = conv_relu_pool_forward(x, w, b, conv_param, pool_param)\n",
    "dx, dw, db = conv_relu_pool_backward(dout, cache)\n",
    "\n",
    "dx_num = eval_numerical_gradient_array(lambda x: conv_relu_pool_forward(x, w, b, conv_param, pool_param)[0], x, dout)\n",
    "dw_num = eval_numerical_gradient_array(lambda w: conv_relu_pool_forward(x, w, b, conv_param, pool_param)[0], w, dout)\n",
    "db_num = eval_numerical_gradient_array(lambda b: conv_relu_pool_forward(x, w, b, conv_param, pool_param)[0], b, dout)\n",
    "\n",
    "# Relative errors should be around e-8 or less\n",
    "print('Testing conv_relu_pool')\n",
    "print('dx error: ', rel_error(dx_num, dx))\n",
    "print('dw error: ', rel_error(dw_num, dw))\n",
    "print('db error: ', rel_error(db_num, db))"
   ]
  },
  {
   "cell_type": "code",
   "execution_count": 48,
   "metadata": {},
   "outputs": [
    {
     "ename": "NameError",
     "evalue": "name 'col2im_6d_cython' is not defined",
     "output_type": "error",
     "traceback": [
      "\u001b[1;31m---------------------------------------------------------------------------\u001b[0m",
      "\u001b[1;31mNameError\u001b[0m                                 Traceback (most recent call last)",
      "Cell \u001b[1;32mIn[48], line 10\u001b[0m\n\u001b[0;32m      7\u001b[0m conv_param \u001b[38;5;241m=\u001b[39m {\u001b[38;5;124m'\u001b[39m\u001b[38;5;124mstride\u001b[39m\u001b[38;5;124m'\u001b[39m: \u001b[38;5;241m1\u001b[39m, \u001b[38;5;124m'\u001b[39m\u001b[38;5;124mpad\u001b[39m\u001b[38;5;124m'\u001b[39m: \u001b[38;5;241m1\u001b[39m}\n\u001b[0;32m      9\u001b[0m out, cache \u001b[38;5;241m=\u001b[39m conv_relu_forward(x, w, b, conv_param)\n\u001b[1;32m---> 10\u001b[0m dx, dw, db \u001b[38;5;241m=\u001b[39m \u001b[43mconv_relu_backward\u001b[49m\u001b[43m(\u001b[49m\u001b[43mdout\u001b[49m\u001b[43m,\u001b[49m\u001b[43m \u001b[49m\u001b[43mcache\u001b[49m\u001b[43m)\u001b[49m\n\u001b[0;32m     12\u001b[0m dx_num \u001b[38;5;241m=\u001b[39m eval_numerical_gradient_array(\u001b[38;5;28;01mlambda\u001b[39;00m x: conv_relu_forward(x, w, b, conv_param)[\u001b[38;5;241m0\u001b[39m], x, dout)\n\u001b[0;32m     13\u001b[0m dw_num \u001b[38;5;241m=\u001b[39m eval_numerical_gradient_array(\u001b[38;5;28;01mlambda\u001b[39;00m w: conv_relu_forward(x, w, b, conv_param)[\u001b[38;5;241m0\u001b[39m], w, dout)\n",
      "File \u001b[1;32mc:\\Users\\79270\\Documents\\AppliedMath_CS_3\\DL_master_SamUni\\HW3\\scripts\\layer_utils.py:62\u001b[0m, in \u001b[0;36mconv_relu_backward\u001b[1;34m(dout, cache)\u001b[0m\n\u001b[0;32m     60\u001b[0m conv_cache, relu_cache \u001b[38;5;241m=\u001b[39m cache\n\u001b[0;32m     61\u001b[0m da \u001b[38;5;241m=\u001b[39m relu_backward(dout, relu_cache)\n\u001b[1;32m---> 62\u001b[0m dx, dw, db \u001b[38;5;241m=\u001b[39m \u001b[43mconv_backward_fast\u001b[49m\u001b[43m(\u001b[49m\u001b[43mda\u001b[49m\u001b[43m,\u001b[49m\u001b[43m \u001b[49m\u001b[43mconv_cache\u001b[49m\u001b[43m)\u001b[49m\n\u001b[0;32m     63\u001b[0m \u001b[38;5;28;01mreturn\u001b[39;00m dx, dw, db\n",
      "File \u001b[1;32mc:\\Users\\79270\\Documents\\AppliedMath_CS_3\\DL_master_SamUni\\HW3\\scripts\\fast_layers.py:103\u001b[0m, in \u001b[0;36mconv_backward_strides\u001b[1;34m(dout, cache)\u001b[0m\n\u001b[0;32m    101\u001b[0m dx_cols \u001b[38;5;241m=\u001b[39m w\u001b[38;5;241m.\u001b[39mreshape(F, \u001b[38;5;241m-\u001b[39m\u001b[38;5;241m1\u001b[39m)\u001b[38;5;241m.\u001b[39mT\u001b[38;5;241m.\u001b[39mdot(dout_reshaped)\n\u001b[0;32m    102\u001b[0m dx_cols\u001b[38;5;241m.\u001b[39mshape \u001b[38;5;241m=\u001b[39m (C, HH, WW, N, out_h, out_w)\n\u001b[1;32m--> 103\u001b[0m dx \u001b[38;5;241m=\u001b[39m \u001b[43mcol2im_6d_cython\u001b[49m(dx_cols, N, C, H, W, HH, WW, pad, stride)\n\u001b[0;32m    105\u001b[0m \u001b[38;5;28;01mreturn\u001b[39;00m dx, dw, db\n",
      "\u001b[1;31mNameError\u001b[0m: name 'col2im_6d_cython' is not defined"
     ]
    }
   ],
   "source": [
    "from scripts.layer_utils import conv_relu_forward, conv_relu_backward\n",
    "np.random.seed(231)\n",
    "x = np.random.randn(2, 3, 8, 8)\n",
    "w = np.random.randn(3, 3, 3, 3)\n",
    "b = np.random.randn(3,)\n",
    "dout = np.random.randn(2, 3, 8, 8)\n",
    "conv_param = {'stride': 1, 'pad': 1}\n",
    "\n",
    "out, cache = conv_relu_forward(x, w, b, conv_param)\n",
    "dx, dw, db = conv_relu_backward(dout, cache)\n",
    "\n",
    "dx_num = eval_numerical_gradient_array(lambda x: conv_relu_forward(x, w, b, conv_param)[0], x, dout)\n",
    "dw_num = eval_numerical_gradient_array(lambda w: conv_relu_forward(x, w, b, conv_param)[0], w, dout)\n",
    "db_num = eval_numerical_gradient_array(lambda b: conv_relu_forward(x, w, b, conv_param)[0], b, dout)\n",
    "\n",
    "# Relative errors should be around e-8 or less\n",
    "print('Testing conv_relu:')\n",
    "print('dx error: ', rel_error(dx_num, dx))\n",
    "print('dw error: ', rel_error(dw_num, dw))\n",
    "print('db error: ', rel_error(db_num, db))"
   ]
  },
  {
   "cell_type": "markdown",
   "metadata": {},
   "source": [
    "Напишите реализацию класса ThreeLayerConvNet в scripts/classifiers/cnn.py . Вы можете использовать готовые реализации слоев и их комбинаций."
   ]
  },
  {
   "cell_type": "markdown",
   "metadata": {},
   "source": [
    "Проверьте вашу реализацию. Ожидается, что значение функции потерь softmax будет порядка `log(C)` для `C` классов для случая без регуляризации. В случае регуляризации значение функции потерь должно немного возрасти. "
   ]
  },
  {
   "cell_type": "code",
   "execution_count": 49,
   "metadata": {},
   "outputs": [
    {
     "ename": "KeyError",
     "evalue": "'W1'",
     "output_type": "error",
     "traceback": [
      "\u001b[1;31m---------------------------------------------------------------------------\u001b[0m",
      "\u001b[1;31mKeyError\u001b[0m                                  Traceback (most recent call last)",
      "Cell \u001b[1;32mIn[49], line 7\u001b[0m\n\u001b[0;32m      4\u001b[0m X \u001b[38;5;241m=\u001b[39m np\u001b[38;5;241m.\u001b[39mrandom\u001b[38;5;241m.\u001b[39mrandn(N, \u001b[38;5;241m3\u001b[39m, \u001b[38;5;241m32\u001b[39m, \u001b[38;5;241m32\u001b[39m)\n\u001b[0;32m      5\u001b[0m y \u001b[38;5;241m=\u001b[39m np\u001b[38;5;241m.\u001b[39mrandom\u001b[38;5;241m.\u001b[39mrandint(\u001b[38;5;241m10\u001b[39m, size\u001b[38;5;241m=\u001b[39mN)\n\u001b[1;32m----> 7\u001b[0m loss, grads \u001b[38;5;241m=\u001b[39m \u001b[43mmodel\u001b[49m\u001b[38;5;241;43m.\u001b[39;49m\u001b[43mloss\u001b[49m\u001b[43m(\u001b[49m\u001b[43mX\u001b[49m\u001b[43m,\u001b[49m\u001b[43m \u001b[49m\u001b[43my\u001b[49m\u001b[43m)\u001b[49m\n\u001b[0;32m      8\u001b[0m \u001b[38;5;28mprint\u001b[39m(\u001b[38;5;124m'\u001b[39m\u001b[38;5;124mInitial loss (no regularization): \u001b[39m\u001b[38;5;124m'\u001b[39m, loss)\n\u001b[0;32m     10\u001b[0m model\u001b[38;5;241m.\u001b[39mreg \u001b[38;5;241m=\u001b[39m \u001b[38;5;241m0.5\u001b[39m\n",
      "File \u001b[1;32mc:\\Users\\79270\\Documents\\AppliedMath_CS_3\\DL_master_SamUni\\HW3\\scripts_\\classifiers\\cnn.py:82\u001b[0m, in \u001b[0;36mThreeLayerConvNet.loss\u001b[1;34m(self, X, y)\u001b[0m\n\u001b[0;32m     76\u001b[0m \u001b[38;5;28;01mdef\u001b[39;00m \u001b[38;5;21mloss\u001b[39m(\u001b[38;5;28mself\u001b[39m, X, y\u001b[38;5;241m=\u001b[39m\u001b[38;5;28;01mNone\u001b[39;00m):\n\u001b[0;32m     77\u001b[0m \u001b[38;5;250m    \u001b[39m\u001b[38;5;124;03m\"\"\"\u001b[39;00m\n\u001b[0;32m     78\u001b[0m \u001b[38;5;124;03m    Evaluate loss and gradient for the three-layer convolutional network.\u001b[39;00m\n\u001b[0;32m     79\u001b[0m \n\u001b[0;32m     80\u001b[0m \u001b[38;5;124;03m    Input / output: Same API as TwoLayerNet in fc_net.py.\u001b[39;00m\n\u001b[0;32m     81\u001b[0m \u001b[38;5;124;03m    \"\"\"\u001b[39;00m\n\u001b[1;32m---> 82\u001b[0m     W1, b1 \u001b[38;5;241m=\u001b[39m \u001b[38;5;28;43mself\u001b[39;49m\u001b[38;5;241;43m.\u001b[39;49m\u001b[43mparams\u001b[49m\u001b[43m[\u001b[49m\u001b[38;5;124;43m\"\u001b[39;49m\u001b[38;5;124;43mW1\u001b[39;49m\u001b[38;5;124;43m\"\u001b[39;49m\u001b[43m]\u001b[49m, \u001b[38;5;28mself\u001b[39m\u001b[38;5;241m.\u001b[39mparams[\u001b[38;5;124m\"\u001b[39m\u001b[38;5;124mb1\u001b[39m\u001b[38;5;124m\"\u001b[39m]\n\u001b[0;32m     83\u001b[0m     W2, b2 \u001b[38;5;241m=\u001b[39m \u001b[38;5;28mself\u001b[39m\u001b[38;5;241m.\u001b[39mparams[\u001b[38;5;124m\"\u001b[39m\u001b[38;5;124mW2\u001b[39m\u001b[38;5;124m\"\u001b[39m], \u001b[38;5;28mself\u001b[39m\u001b[38;5;241m.\u001b[39mparams[\u001b[38;5;124m\"\u001b[39m\u001b[38;5;124mb2\u001b[39m\u001b[38;5;124m\"\u001b[39m]\n\u001b[0;32m     84\u001b[0m     W3, b3 \u001b[38;5;241m=\u001b[39m \u001b[38;5;28mself\u001b[39m\u001b[38;5;241m.\u001b[39mparams[\u001b[38;5;124m\"\u001b[39m\u001b[38;5;124mW3\u001b[39m\u001b[38;5;124m\"\u001b[39m], \u001b[38;5;28mself\u001b[39m\u001b[38;5;241m.\u001b[39mparams[\u001b[38;5;124m\"\u001b[39m\u001b[38;5;124mb3\u001b[39m\u001b[38;5;124m\"\u001b[39m]\n",
      "\u001b[1;31mKeyError\u001b[0m: 'W1'"
     ]
    }
   ],
   "source": [
    "model = ThreeLayerConvNet()\n",
    "\n",
    "N = 50\n",
    "X = np.random.randn(N, 3, 32, 32)\n",
    "y = np.random.randint(10, size=N)\n",
    "\n",
    "loss, grads = model.loss(X, y)\n",
    "print('Initial loss (no regularization): ', loss)\n",
    "\n",
    "model.reg = 0.5\n",
    "loss, grads = model.loss(X, y)\n",
    "print('Initial loss (with regularization): ', loss)"
   ]
  },
  {
   "cell_type": "markdown",
   "metadata": {},
   "source": [
    "Проверьте реализацию обратного прохода"
   ]
  },
  {
   "cell_type": "code",
   "execution_count": 50,
   "metadata": {},
   "outputs": [
    {
     "ename": "KeyError",
     "evalue": "'W1'",
     "output_type": "error",
     "traceback": [
      "\u001b[1;31m---------------------------------------------------------------------------\u001b[0m",
      "\u001b[1;31mKeyError\u001b[0m                                  Traceback (most recent call last)",
      "Cell \u001b[1;32mIn[50], line 12\u001b[0m\n\u001b[0;32m      7\u001b[0m y \u001b[38;5;241m=\u001b[39m np\u001b[38;5;241m.\u001b[39mrandom\u001b[38;5;241m.\u001b[39mrandint(num_classes, size\u001b[38;5;241m=\u001b[39mnum_inputs)\n\u001b[0;32m      9\u001b[0m model \u001b[38;5;241m=\u001b[39m ThreeLayerConvNet(num_filters\u001b[38;5;241m=\u001b[39m\u001b[38;5;241m3\u001b[39m, filter_size\u001b[38;5;241m=\u001b[39m\u001b[38;5;241m3\u001b[39m,\n\u001b[0;32m     10\u001b[0m                           input_dim\u001b[38;5;241m=\u001b[39minput_dim, hidden_dim\u001b[38;5;241m=\u001b[39m\u001b[38;5;241m7\u001b[39m,\n\u001b[0;32m     11\u001b[0m                           dtype\u001b[38;5;241m=\u001b[39mnp\u001b[38;5;241m.\u001b[39mfloat64)\n\u001b[1;32m---> 12\u001b[0m loss, grads \u001b[38;5;241m=\u001b[39m \u001b[43mmodel\u001b[49m\u001b[38;5;241;43m.\u001b[39;49m\u001b[43mloss\u001b[49m\u001b[43m(\u001b[49m\u001b[43mX\u001b[49m\u001b[43m,\u001b[49m\u001b[43m \u001b[49m\u001b[43my\u001b[49m\u001b[43m)\u001b[49m\n\u001b[0;32m     13\u001b[0m \u001b[38;5;66;03m# Errors should be small, but correct implementations may have\u001b[39;00m\n\u001b[0;32m     14\u001b[0m \u001b[38;5;66;03m# relative errors up to the order of e-2\u001b[39;00m\n\u001b[0;32m     15\u001b[0m \u001b[38;5;28;01mfor\u001b[39;00m param_name \u001b[38;5;129;01min\u001b[39;00m \u001b[38;5;28msorted\u001b[39m(grads):\n",
      "File \u001b[1;32mc:\\Users\\79270\\Documents\\AppliedMath_CS_3\\DL_master_SamUni\\HW3\\scripts_\\classifiers\\cnn.py:82\u001b[0m, in \u001b[0;36mThreeLayerConvNet.loss\u001b[1;34m(self, X, y)\u001b[0m\n\u001b[0;32m     76\u001b[0m \u001b[38;5;28;01mdef\u001b[39;00m \u001b[38;5;21mloss\u001b[39m(\u001b[38;5;28mself\u001b[39m, X, y\u001b[38;5;241m=\u001b[39m\u001b[38;5;28;01mNone\u001b[39;00m):\n\u001b[0;32m     77\u001b[0m \u001b[38;5;250m    \u001b[39m\u001b[38;5;124;03m\"\"\"\u001b[39;00m\n\u001b[0;32m     78\u001b[0m \u001b[38;5;124;03m    Evaluate loss and gradient for the three-layer convolutional network.\u001b[39;00m\n\u001b[0;32m     79\u001b[0m \n\u001b[0;32m     80\u001b[0m \u001b[38;5;124;03m    Input / output: Same API as TwoLayerNet in fc_net.py.\u001b[39;00m\n\u001b[0;32m     81\u001b[0m \u001b[38;5;124;03m    \"\"\"\u001b[39;00m\n\u001b[1;32m---> 82\u001b[0m     W1, b1 \u001b[38;5;241m=\u001b[39m \u001b[38;5;28;43mself\u001b[39;49m\u001b[38;5;241;43m.\u001b[39;49m\u001b[43mparams\u001b[49m\u001b[43m[\u001b[49m\u001b[38;5;124;43m\"\u001b[39;49m\u001b[38;5;124;43mW1\u001b[39;49m\u001b[38;5;124;43m\"\u001b[39;49m\u001b[43m]\u001b[49m, \u001b[38;5;28mself\u001b[39m\u001b[38;5;241m.\u001b[39mparams[\u001b[38;5;124m\"\u001b[39m\u001b[38;5;124mb1\u001b[39m\u001b[38;5;124m\"\u001b[39m]\n\u001b[0;32m     83\u001b[0m     W2, b2 \u001b[38;5;241m=\u001b[39m \u001b[38;5;28mself\u001b[39m\u001b[38;5;241m.\u001b[39mparams[\u001b[38;5;124m\"\u001b[39m\u001b[38;5;124mW2\u001b[39m\u001b[38;5;124m\"\u001b[39m], \u001b[38;5;28mself\u001b[39m\u001b[38;5;241m.\u001b[39mparams[\u001b[38;5;124m\"\u001b[39m\u001b[38;5;124mb2\u001b[39m\u001b[38;5;124m\"\u001b[39m]\n\u001b[0;32m     84\u001b[0m     W3, b3 \u001b[38;5;241m=\u001b[39m \u001b[38;5;28mself\u001b[39m\u001b[38;5;241m.\u001b[39mparams[\u001b[38;5;124m\"\u001b[39m\u001b[38;5;124mW3\u001b[39m\u001b[38;5;124m\"\u001b[39m], \u001b[38;5;28mself\u001b[39m\u001b[38;5;241m.\u001b[39mparams[\u001b[38;5;124m\"\u001b[39m\u001b[38;5;124mb3\u001b[39m\u001b[38;5;124m\"\u001b[39m]\n",
      "\u001b[1;31mKeyError\u001b[0m: 'W1'"
     ]
    }
   ],
   "source": [
    "num_inputs = 2\n",
    "input_dim = (3, 16, 16)\n",
    "reg = 0.0\n",
    "num_classes = 10\n",
    "np.random.seed(231)\n",
    "X = np.random.randn(num_inputs, *input_dim)\n",
    "y = np.random.randint(num_classes, size=num_inputs)\n",
    "\n",
    "model = ThreeLayerConvNet(num_filters=3, filter_size=3,\n",
    "                          input_dim=input_dim, hidden_dim=7,\n",
    "                          dtype=np.float64)\n",
    "loss, grads = model.loss(X, y)\n",
    "# Errors should be small, but correct implementations may have\n",
    "# relative errors up to the order of e-2\n",
    "for param_name in sorted(grads):\n",
    "    f = lambda _: model.loss(X, y)[0]\n",
    "    param_grad_num = eval_numerical_gradient(f, model.params[param_name], verbose=False, h=1e-6)\n",
    "    e = rel_error(param_grad_num, grads[param_name])\n",
    "    print('%s max relative error: %e' % (param_name, rel_error(param_grad_num, grads[param_name])))"
   ]
  },
  {
   "cell_type": "markdown",
   "metadata": {},
   "source": [
    "Попробуйте добиться эффекта переобучения. Обучите модель на небольшом наборе данных.Сравните значения accuracy на обучающих данных и на валидационных. Визуализируйте графики обучения "
   ]
  },
  {
   "cell_type": "code",
   "execution_count": 51,
   "metadata": {},
   "outputs": [
    {
     "ename": "KeyError",
     "evalue": "'W1'",
     "output_type": "error",
     "traceback": [
      "\u001b[1;31m---------------------------------------------------------------------------\u001b[0m",
      "\u001b[1;31mKeyError\u001b[0m                                  Traceback (most recent call last)",
      "Cell \u001b[1;32mIn[51], line 20\u001b[0m\n\u001b[0;32m     11\u001b[0m model \u001b[38;5;241m=\u001b[39m ThreeLayerConvNet(weight_scale\u001b[38;5;241m=\u001b[39m\u001b[38;5;241m1e-2\u001b[39m)\n\u001b[0;32m     13\u001b[0m solver \u001b[38;5;241m=\u001b[39m Solver(model, small_data,\n\u001b[0;32m     14\u001b[0m                 num_epochs\u001b[38;5;241m=\u001b[39m\u001b[38;5;241m15\u001b[39m, batch_size\u001b[38;5;241m=\u001b[39m\u001b[38;5;241m50\u001b[39m,\n\u001b[0;32m     15\u001b[0m                 update_rule\u001b[38;5;241m=\u001b[39m\u001b[38;5;124m'\u001b[39m\u001b[38;5;124madam\u001b[39m\u001b[38;5;124m'\u001b[39m,\n\u001b[1;32m   (...)\u001b[0m\n\u001b[0;32m     18\u001b[0m                 },\n\u001b[0;32m     19\u001b[0m                 verbose\u001b[38;5;241m=\u001b[39m\u001b[38;5;28;01mTrue\u001b[39;00m, print_every\u001b[38;5;241m=\u001b[39m\u001b[38;5;241m1\u001b[39m)\n\u001b[1;32m---> 20\u001b[0m \u001b[43msolver\u001b[49m\u001b[38;5;241;43m.\u001b[39;49m\u001b[43mtrain\u001b[49m\u001b[43m(\u001b[49m\u001b[43m)\u001b[49m\n",
      "File \u001b[1;32mc:\\Users\\79270\\Documents\\AppliedMath_CS_3\\DL_master_SamUni\\HW3\\scripts_\\solver.py:263\u001b[0m, in \u001b[0;36mSolver.train\u001b[1;34m(self)\u001b[0m\n\u001b[0;32m    260\u001b[0m num_iterations \u001b[38;5;241m=\u001b[39m \u001b[38;5;28mself\u001b[39m\u001b[38;5;241m.\u001b[39mnum_epochs \u001b[38;5;241m*\u001b[39m iterations_per_epoch\n\u001b[0;32m    262\u001b[0m \u001b[38;5;28;01mfor\u001b[39;00m t \u001b[38;5;129;01min\u001b[39;00m \u001b[38;5;28mrange\u001b[39m(num_iterations):\n\u001b[1;32m--> 263\u001b[0m     \u001b[38;5;28;43mself\u001b[39;49m\u001b[38;5;241;43m.\u001b[39;49m\u001b[43m_step\u001b[49m\u001b[43m(\u001b[49m\u001b[43m)\u001b[49m\n\u001b[0;32m    265\u001b[0m     \u001b[38;5;66;03m# Maybe print training loss\u001b[39;00m\n\u001b[0;32m    266\u001b[0m     \u001b[38;5;28;01mif\u001b[39;00m \u001b[38;5;28mself\u001b[39m\u001b[38;5;241m.\u001b[39mverbose \u001b[38;5;129;01mand\u001b[39;00m t \u001b[38;5;241m%\u001b[39m \u001b[38;5;28mself\u001b[39m\u001b[38;5;241m.\u001b[39mprint_every \u001b[38;5;241m==\u001b[39m \u001b[38;5;241m0\u001b[39m:\n",
      "File \u001b[1;32mc:\\Users\\79270\\Documents\\AppliedMath_CS_3\\DL_master_SamUni\\HW3\\scripts_\\solver.py:181\u001b[0m, in \u001b[0;36mSolver._step\u001b[1;34m(self)\u001b[0m\n\u001b[0;32m    178\u001b[0m y_batch \u001b[38;5;241m=\u001b[39m \u001b[38;5;28mself\u001b[39m\u001b[38;5;241m.\u001b[39my_train[batch_mask]\n\u001b[0;32m    180\u001b[0m \u001b[38;5;66;03m# Compute loss and gradient\u001b[39;00m\n\u001b[1;32m--> 181\u001b[0m loss, grads \u001b[38;5;241m=\u001b[39m \u001b[38;5;28;43mself\u001b[39;49m\u001b[38;5;241;43m.\u001b[39;49m\u001b[43mmodel\u001b[49m\u001b[38;5;241;43m.\u001b[39;49m\u001b[43mloss\u001b[49m\u001b[43m(\u001b[49m\u001b[43mX_batch\u001b[49m\u001b[43m,\u001b[49m\u001b[43m \u001b[49m\u001b[43my_batch\u001b[49m\u001b[43m)\u001b[49m\n\u001b[0;32m    182\u001b[0m \u001b[38;5;28mself\u001b[39m\u001b[38;5;241m.\u001b[39mloss_history\u001b[38;5;241m.\u001b[39mappend(loss)\n\u001b[0;32m    184\u001b[0m \u001b[38;5;66;03m# Perform a parameter update\u001b[39;00m\n",
      "File \u001b[1;32mc:\\Users\\79270\\Documents\\AppliedMath_CS_3\\DL_master_SamUni\\HW3\\scripts_\\classifiers\\cnn.py:82\u001b[0m, in \u001b[0;36mThreeLayerConvNet.loss\u001b[1;34m(self, X, y)\u001b[0m\n\u001b[0;32m     76\u001b[0m \u001b[38;5;28;01mdef\u001b[39;00m \u001b[38;5;21mloss\u001b[39m(\u001b[38;5;28mself\u001b[39m, X, y\u001b[38;5;241m=\u001b[39m\u001b[38;5;28;01mNone\u001b[39;00m):\n\u001b[0;32m     77\u001b[0m \u001b[38;5;250m    \u001b[39m\u001b[38;5;124;03m\"\"\"\u001b[39;00m\n\u001b[0;32m     78\u001b[0m \u001b[38;5;124;03m    Evaluate loss and gradient for the three-layer convolutional network.\u001b[39;00m\n\u001b[0;32m     79\u001b[0m \n\u001b[0;32m     80\u001b[0m \u001b[38;5;124;03m    Input / output: Same API as TwoLayerNet in fc_net.py.\u001b[39;00m\n\u001b[0;32m     81\u001b[0m \u001b[38;5;124;03m    \"\"\"\u001b[39;00m\n\u001b[1;32m---> 82\u001b[0m     W1, b1 \u001b[38;5;241m=\u001b[39m \u001b[38;5;28;43mself\u001b[39;49m\u001b[38;5;241;43m.\u001b[39;49m\u001b[43mparams\u001b[49m\u001b[43m[\u001b[49m\u001b[38;5;124;43m\"\u001b[39;49m\u001b[38;5;124;43mW1\u001b[39;49m\u001b[38;5;124;43m\"\u001b[39;49m\u001b[43m]\u001b[49m, \u001b[38;5;28mself\u001b[39m\u001b[38;5;241m.\u001b[39mparams[\u001b[38;5;124m\"\u001b[39m\u001b[38;5;124mb1\u001b[39m\u001b[38;5;124m\"\u001b[39m]\n\u001b[0;32m     83\u001b[0m     W2, b2 \u001b[38;5;241m=\u001b[39m \u001b[38;5;28mself\u001b[39m\u001b[38;5;241m.\u001b[39mparams[\u001b[38;5;124m\"\u001b[39m\u001b[38;5;124mW2\u001b[39m\u001b[38;5;124m\"\u001b[39m], \u001b[38;5;28mself\u001b[39m\u001b[38;5;241m.\u001b[39mparams[\u001b[38;5;124m\"\u001b[39m\u001b[38;5;124mb2\u001b[39m\u001b[38;5;124m\"\u001b[39m]\n\u001b[0;32m     84\u001b[0m     W3, b3 \u001b[38;5;241m=\u001b[39m \u001b[38;5;28mself\u001b[39m\u001b[38;5;241m.\u001b[39mparams[\u001b[38;5;124m\"\u001b[39m\u001b[38;5;124mW3\u001b[39m\u001b[38;5;124m\"\u001b[39m], \u001b[38;5;28mself\u001b[39m\u001b[38;5;241m.\u001b[39mparams[\u001b[38;5;124m\"\u001b[39m\u001b[38;5;124mb3\u001b[39m\u001b[38;5;124m\"\u001b[39m]\n",
      "\u001b[1;31mKeyError\u001b[0m: 'W1'"
     ]
    }
   ],
   "source": [
    "np.random.seed(231)\n",
    "\n",
    "num_train = 100\n",
    "small_data = {\n",
    "  'X_train': data['X_train'][:num_train],\n",
    "  'y_train': data['y_train'][:num_train],\n",
    "  'X_val': data['X_val'],\n",
    "  'y_val': data['y_val'],\n",
    "}\n",
    "\n",
    "model = ThreeLayerConvNet(weight_scale=1e-2)\n",
    "\n",
    "solver = Solver(model, small_data,\n",
    "                num_epochs=15, batch_size=50,\n",
    "                update_rule='adam',\n",
    "                optim_config={\n",
    "                  'learning_rate': 1e-3,\n",
    "                },\n",
    "                verbose=True, print_every=1)\n",
    "solver.train()"
   ]
  },
  {
   "cell_type": "code",
   "execution_count": 52,
   "metadata": {},
   "outputs": [
    {
     "ename": "KeyError",
     "evalue": "'W1'",
     "output_type": "error",
     "traceback": [
      "\u001b[1;31m---------------------------------------------------------------------------\u001b[0m",
      "\u001b[1;31mKeyError\u001b[0m                                  Traceback (most recent call last)",
      "Cell \u001b[1;32mIn[52], line 4\u001b[0m\n\u001b[0;32m      1\u001b[0m \u001b[38;5;66;03m# Print final training accuracy\u001b[39;00m\n\u001b[0;32m      2\u001b[0m \u001b[38;5;28mprint\u001b[39m(\n\u001b[0;32m      3\u001b[0m     \u001b[38;5;124m\"\u001b[39m\u001b[38;5;124mSmall data training accuracy:\u001b[39m\u001b[38;5;124m\"\u001b[39m,\n\u001b[1;32m----> 4\u001b[0m     \u001b[43msolver\u001b[49m\u001b[38;5;241;43m.\u001b[39;49m\u001b[43mcheck_accuracy\u001b[49m\u001b[43m(\u001b[49m\u001b[43msmall_data\u001b[49m\u001b[43m[\u001b[49m\u001b[38;5;124;43m'\u001b[39;49m\u001b[38;5;124;43mX_train\u001b[39;49m\u001b[38;5;124;43m'\u001b[39;49m\u001b[43m]\u001b[49m\u001b[43m,\u001b[49m\u001b[43m \u001b[49m\u001b[43msmall_data\u001b[49m\u001b[43m[\u001b[49m\u001b[38;5;124;43m'\u001b[39;49m\u001b[38;5;124;43my_train\u001b[39;49m\u001b[38;5;124;43m'\u001b[39;49m\u001b[43m]\u001b[49m\u001b[43m)\u001b[49m\n\u001b[0;32m      5\u001b[0m )\n",
      "File \u001b[1;32mc:\\Users\\79270\\Documents\\AppliedMath_CS_3\\DL_master_SamUni\\HW3\\scripts_\\solver.py:247\u001b[0m, in \u001b[0;36mSolver.check_accuracy\u001b[1;34m(self, X, y, num_samples, batch_size)\u001b[0m\n\u001b[0;32m    245\u001b[0m     start \u001b[38;5;241m=\u001b[39m i \u001b[38;5;241m*\u001b[39m batch_size\n\u001b[0;32m    246\u001b[0m     end \u001b[38;5;241m=\u001b[39m (i \u001b[38;5;241m+\u001b[39m \u001b[38;5;241m1\u001b[39m) \u001b[38;5;241m*\u001b[39m batch_size\n\u001b[1;32m--> 247\u001b[0m     scores \u001b[38;5;241m=\u001b[39m \u001b[38;5;28;43mself\u001b[39;49m\u001b[38;5;241;43m.\u001b[39;49m\u001b[43mmodel\u001b[49m\u001b[38;5;241;43m.\u001b[39;49m\u001b[43mloss\u001b[49m\u001b[43m(\u001b[49m\u001b[43mX\u001b[49m\u001b[43m[\u001b[49m\u001b[43mstart\u001b[49m\u001b[43m:\u001b[49m\u001b[43mend\u001b[49m\u001b[43m]\u001b[49m\u001b[43m)\u001b[49m\n\u001b[0;32m    248\u001b[0m     y_pred\u001b[38;5;241m.\u001b[39mappend(np\u001b[38;5;241m.\u001b[39margmax(scores, axis\u001b[38;5;241m=\u001b[39m\u001b[38;5;241m1\u001b[39m))\n\u001b[0;32m    249\u001b[0m y_pred \u001b[38;5;241m=\u001b[39m np\u001b[38;5;241m.\u001b[39mhstack(y_pred)\n",
      "File \u001b[1;32mc:\\Users\\79270\\Documents\\AppliedMath_CS_3\\DL_master_SamUni\\HW3\\scripts_\\classifiers\\cnn.py:82\u001b[0m, in \u001b[0;36mThreeLayerConvNet.loss\u001b[1;34m(self, X, y)\u001b[0m\n\u001b[0;32m     76\u001b[0m \u001b[38;5;28;01mdef\u001b[39;00m \u001b[38;5;21mloss\u001b[39m(\u001b[38;5;28mself\u001b[39m, X, y\u001b[38;5;241m=\u001b[39m\u001b[38;5;28;01mNone\u001b[39;00m):\n\u001b[0;32m     77\u001b[0m \u001b[38;5;250m    \u001b[39m\u001b[38;5;124;03m\"\"\"\u001b[39;00m\n\u001b[0;32m     78\u001b[0m \u001b[38;5;124;03m    Evaluate loss and gradient for the three-layer convolutional network.\u001b[39;00m\n\u001b[0;32m     79\u001b[0m \n\u001b[0;32m     80\u001b[0m \u001b[38;5;124;03m    Input / output: Same API as TwoLayerNet in fc_net.py.\u001b[39;00m\n\u001b[0;32m     81\u001b[0m \u001b[38;5;124;03m    \"\"\"\u001b[39;00m\n\u001b[1;32m---> 82\u001b[0m     W1, b1 \u001b[38;5;241m=\u001b[39m \u001b[38;5;28;43mself\u001b[39;49m\u001b[38;5;241;43m.\u001b[39;49m\u001b[43mparams\u001b[49m\u001b[43m[\u001b[49m\u001b[38;5;124;43m\"\u001b[39;49m\u001b[38;5;124;43mW1\u001b[39;49m\u001b[38;5;124;43m\"\u001b[39;49m\u001b[43m]\u001b[49m, \u001b[38;5;28mself\u001b[39m\u001b[38;5;241m.\u001b[39mparams[\u001b[38;5;124m\"\u001b[39m\u001b[38;5;124mb1\u001b[39m\u001b[38;5;124m\"\u001b[39m]\n\u001b[0;32m     83\u001b[0m     W2, b2 \u001b[38;5;241m=\u001b[39m \u001b[38;5;28mself\u001b[39m\u001b[38;5;241m.\u001b[39mparams[\u001b[38;5;124m\"\u001b[39m\u001b[38;5;124mW2\u001b[39m\u001b[38;5;124m\"\u001b[39m], \u001b[38;5;28mself\u001b[39m\u001b[38;5;241m.\u001b[39mparams[\u001b[38;5;124m\"\u001b[39m\u001b[38;5;124mb2\u001b[39m\u001b[38;5;124m\"\u001b[39m]\n\u001b[0;32m     84\u001b[0m     W3, b3 \u001b[38;5;241m=\u001b[39m \u001b[38;5;28mself\u001b[39m\u001b[38;5;241m.\u001b[39mparams[\u001b[38;5;124m\"\u001b[39m\u001b[38;5;124mW3\u001b[39m\u001b[38;5;124m\"\u001b[39m], \u001b[38;5;28mself\u001b[39m\u001b[38;5;241m.\u001b[39mparams[\u001b[38;5;124m\"\u001b[39m\u001b[38;5;124mb3\u001b[39m\u001b[38;5;124m\"\u001b[39m]\n",
      "\u001b[1;31mKeyError\u001b[0m: 'W1'"
     ]
    }
   ],
   "source": [
    "# Print final training accuracy\n",
    "print(\n",
    "    \"Small data training accuracy:\",\n",
    "    solver.check_accuracy(small_data['X_train'], small_data['y_train'])\n",
    ")"
   ]
  },
  {
   "cell_type": "code",
   "execution_count": 53,
   "metadata": {},
   "outputs": [
    {
     "ename": "KeyError",
     "evalue": "'W1'",
     "output_type": "error",
     "traceback": [
      "\u001b[1;31m---------------------------------------------------------------------------\u001b[0m",
      "\u001b[1;31mKeyError\u001b[0m                                  Traceback (most recent call last)",
      "Cell \u001b[1;32mIn[53], line 4\u001b[0m\n\u001b[0;32m      1\u001b[0m \u001b[38;5;66;03m# Print final validation accuracy\u001b[39;00m\n\u001b[0;32m      2\u001b[0m \u001b[38;5;28mprint\u001b[39m(\n\u001b[0;32m      3\u001b[0m     \u001b[38;5;124m\"\u001b[39m\u001b[38;5;124mSmall data validation accuracy:\u001b[39m\u001b[38;5;124m\"\u001b[39m,\n\u001b[1;32m----> 4\u001b[0m     \u001b[43msolver\u001b[49m\u001b[38;5;241;43m.\u001b[39;49m\u001b[43mcheck_accuracy\u001b[49m\u001b[43m(\u001b[49m\u001b[43msmall_data\u001b[49m\u001b[43m[\u001b[49m\u001b[38;5;124;43m'\u001b[39;49m\u001b[38;5;124;43mX_val\u001b[39;49m\u001b[38;5;124;43m'\u001b[39;49m\u001b[43m]\u001b[49m\u001b[43m,\u001b[49m\u001b[43m \u001b[49m\u001b[43msmall_data\u001b[49m\u001b[43m[\u001b[49m\u001b[38;5;124;43m'\u001b[39;49m\u001b[38;5;124;43my_val\u001b[39;49m\u001b[38;5;124;43m'\u001b[39;49m\u001b[43m]\u001b[49m\u001b[43m)\u001b[49m\n\u001b[0;32m      5\u001b[0m )\n",
      "File \u001b[1;32mc:\\Users\\79270\\Documents\\AppliedMath_CS_3\\DL_master_SamUni\\HW3\\scripts_\\solver.py:247\u001b[0m, in \u001b[0;36mSolver.check_accuracy\u001b[1;34m(self, X, y, num_samples, batch_size)\u001b[0m\n\u001b[0;32m    245\u001b[0m     start \u001b[38;5;241m=\u001b[39m i \u001b[38;5;241m*\u001b[39m batch_size\n\u001b[0;32m    246\u001b[0m     end \u001b[38;5;241m=\u001b[39m (i \u001b[38;5;241m+\u001b[39m \u001b[38;5;241m1\u001b[39m) \u001b[38;5;241m*\u001b[39m batch_size\n\u001b[1;32m--> 247\u001b[0m     scores \u001b[38;5;241m=\u001b[39m \u001b[38;5;28;43mself\u001b[39;49m\u001b[38;5;241;43m.\u001b[39;49m\u001b[43mmodel\u001b[49m\u001b[38;5;241;43m.\u001b[39;49m\u001b[43mloss\u001b[49m\u001b[43m(\u001b[49m\u001b[43mX\u001b[49m\u001b[43m[\u001b[49m\u001b[43mstart\u001b[49m\u001b[43m:\u001b[49m\u001b[43mend\u001b[49m\u001b[43m]\u001b[49m\u001b[43m)\u001b[49m\n\u001b[0;32m    248\u001b[0m     y_pred\u001b[38;5;241m.\u001b[39mappend(np\u001b[38;5;241m.\u001b[39margmax(scores, axis\u001b[38;5;241m=\u001b[39m\u001b[38;5;241m1\u001b[39m))\n\u001b[0;32m    249\u001b[0m y_pred \u001b[38;5;241m=\u001b[39m np\u001b[38;5;241m.\u001b[39mhstack(y_pred)\n",
      "File \u001b[1;32mc:\\Users\\79270\\Documents\\AppliedMath_CS_3\\DL_master_SamUni\\HW3\\scripts_\\classifiers\\cnn.py:82\u001b[0m, in \u001b[0;36mThreeLayerConvNet.loss\u001b[1;34m(self, X, y)\u001b[0m\n\u001b[0;32m     76\u001b[0m \u001b[38;5;28;01mdef\u001b[39;00m \u001b[38;5;21mloss\u001b[39m(\u001b[38;5;28mself\u001b[39m, X, y\u001b[38;5;241m=\u001b[39m\u001b[38;5;28;01mNone\u001b[39;00m):\n\u001b[0;32m     77\u001b[0m \u001b[38;5;250m    \u001b[39m\u001b[38;5;124;03m\"\"\"\u001b[39;00m\n\u001b[0;32m     78\u001b[0m \u001b[38;5;124;03m    Evaluate loss and gradient for the three-layer convolutional network.\u001b[39;00m\n\u001b[0;32m     79\u001b[0m \n\u001b[0;32m     80\u001b[0m \u001b[38;5;124;03m    Input / output: Same API as TwoLayerNet in fc_net.py.\u001b[39;00m\n\u001b[0;32m     81\u001b[0m \u001b[38;5;124;03m    \"\"\"\u001b[39;00m\n\u001b[1;32m---> 82\u001b[0m     W1, b1 \u001b[38;5;241m=\u001b[39m \u001b[38;5;28;43mself\u001b[39;49m\u001b[38;5;241;43m.\u001b[39;49m\u001b[43mparams\u001b[49m\u001b[43m[\u001b[49m\u001b[38;5;124;43m\"\u001b[39;49m\u001b[38;5;124;43mW1\u001b[39;49m\u001b[38;5;124;43m\"\u001b[39;49m\u001b[43m]\u001b[49m, \u001b[38;5;28mself\u001b[39m\u001b[38;5;241m.\u001b[39mparams[\u001b[38;5;124m\"\u001b[39m\u001b[38;5;124mb1\u001b[39m\u001b[38;5;124m\"\u001b[39m]\n\u001b[0;32m     83\u001b[0m     W2, b2 \u001b[38;5;241m=\u001b[39m \u001b[38;5;28mself\u001b[39m\u001b[38;5;241m.\u001b[39mparams[\u001b[38;5;124m\"\u001b[39m\u001b[38;5;124mW2\u001b[39m\u001b[38;5;124m\"\u001b[39m], \u001b[38;5;28mself\u001b[39m\u001b[38;5;241m.\u001b[39mparams[\u001b[38;5;124m\"\u001b[39m\u001b[38;5;124mb2\u001b[39m\u001b[38;5;124m\"\u001b[39m]\n\u001b[0;32m     84\u001b[0m     W3, b3 \u001b[38;5;241m=\u001b[39m \u001b[38;5;28mself\u001b[39m\u001b[38;5;241m.\u001b[39mparams[\u001b[38;5;124m\"\u001b[39m\u001b[38;5;124mW3\u001b[39m\u001b[38;5;124m\"\u001b[39m], \u001b[38;5;28mself\u001b[39m\u001b[38;5;241m.\u001b[39mparams[\u001b[38;5;124m\"\u001b[39m\u001b[38;5;124mb3\u001b[39m\u001b[38;5;124m\"\u001b[39m]\n",
      "\u001b[1;31mKeyError\u001b[0m: 'W1'"
     ]
    }
   ],
   "source": [
    "# Print final validation accuracy\n",
    "print(\n",
    "    \"Small data validation accuracy:\",\n",
    "    solver.check_accuracy(small_data['X_val'], small_data['y_val'])\n",
    ")"
   ]
  },
  {
   "cell_type": "code",
   "execution_count": 54,
   "metadata": {},
   "outputs": [
    {
     "data": {
      "image/png": "[encoded data removed]",
      "text/plain": [
       "<Figure size 1000x800 with 2 Axes>"
      ]
     },
     "metadata": {},
     "output_type": "display_data"
    }
   ],
   "source": [
    "plt.subplot(2, 1, 1)\n",
    "plt.plot(solver.loss_history, 'o')\n",
    "plt.xlabel('iteration')\n",
    "plt.ylabel('loss')\n",
    "\n",
    "plt.subplot(2, 1, 2)\n",
    "plt.plot(solver.train_acc_history, '-o')\n",
    "plt.plot(solver.val_acc_history, '-o')\n",
    "plt.legend(['train', 'val'], loc='upper left')\n",
    "plt.xlabel('epoch')\n",
    "plt.ylabel('accuracy')\n",
    "plt.show()"
   ]
  },
  {
   "cell_type": "markdown",
   "metadata": {},
   "source": [
    "Обучите сеть на полном наборе данных. Выведите accuracy на обучающей и валидационной выборках"
   ]
  },
  {
   "cell_type": "code",
   "execution_count": 55,
   "metadata": {},
   "outputs": [
    {
     "ename": "KeyError",
     "evalue": "'W1'",
     "output_type": "error",
     "traceback": [
      "\u001b[1;31m---------------------------------------------------------------------------\u001b[0m",
      "\u001b[1;31mKeyError\u001b[0m                                  Traceback (most recent call last)",
      "Cell \u001b[1;32mIn[55], line 10\u001b[0m\n\u001b[0;32m      1\u001b[0m model \u001b[38;5;241m=\u001b[39m ThreeLayerConvNet(weight_scale\u001b[38;5;241m=\u001b[39m\u001b[38;5;241m0.001\u001b[39m, hidden_dim\u001b[38;5;241m=\u001b[39m\u001b[38;5;241m500\u001b[39m, reg\u001b[38;5;241m=\u001b[39m\u001b[38;5;241m0.001\u001b[39m)\n\u001b[0;32m      3\u001b[0m solver \u001b[38;5;241m=\u001b[39m Solver(model, data,\n\u001b[0;32m      4\u001b[0m                 num_epochs\u001b[38;5;241m=\u001b[39m\u001b[38;5;241m1\u001b[39m, batch_size\u001b[38;5;241m=\u001b[39m\u001b[38;5;241m50\u001b[39m,\n\u001b[0;32m      5\u001b[0m                 update_rule\u001b[38;5;241m=\u001b[39m\u001b[38;5;124m'\u001b[39m\u001b[38;5;124madam\u001b[39m\u001b[38;5;124m'\u001b[39m,\n\u001b[1;32m   (...)\u001b[0m\n\u001b[0;32m      8\u001b[0m                 },\n\u001b[0;32m      9\u001b[0m                 verbose\u001b[38;5;241m=\u001b[39m\u001b[38;5;28;01mTrue\u001b[39;00m, print_every\u001b[38;5;241m=\u001b[39m\u001b[38;5;241m20\u001b[39m)\n\u001b[1;32m---> 10\u001b[0m \u001b[43msolver\u001b[49m\u001b[38;5;241;43m.\u001b[39;49m\u001b[43mtrain\u001b[49m\u001b[43m(\u001b[49m\u001b[43m)\u001b[49m\n",
      "File \u001b[1;32mc:\\Users\\79270\\Documents\\AppliedMath_CS_3\\DL_master_SamUni\\HW3\\scripts_\\solver.py:263\u001b[0m, in \u001b[0;36mSolver.train\u001b[1;34m(self)\u001b[0m\n\u001b[0;32m    260\u001b[0m num_iterations \u001b[38;5;241m=\u001b[39m \u001b[38;5;28mself\u001b[39m\u001b[38;5;241m.\u001b[39mnum_epochs \u001b[38;5;241m*\u001b[39m iterations_per_epoch\n\u001b[0;32m    262\u001b[0m \u001b[38;5;28;01mfor\u001b[39;00m t \u001b[38;5;129;01min\u001b[39;00m \u001b[38;5;28mrange\u001b[39m(num_iterations):\n\u001b[1;32m--> 263\u001b[0m     \u001b[38;5;28;43mself\u001b[39;49m\u001b[38;5;241;43m.\u001b[39;49m\u001b[43m_step\u001b[49m\u001b[43m(\u001b[49m\u001b[43m)\u001b[49m\n\u001b[0;32m    265\u001b[0m     \u001b[38;5;66;03m# Maybe print training loss\u001b[39;00m\n\u001b[0;32m    266\u001b[0m     \u001b[38;5;28;01mif\u001b[39;00m \u001b[38;5;28mself\u001b[39m\u001b[38;5;241m.\u001b[39mverbose \u001b[38;5;129;01mand\u001b[39;00m t \u001b[38;5;241m%\u001b[39m \u001b[38;5;28mself\u001b[39m\u001b[38;5;241m.\u001b[39mprint_every \u001b[38;5;241m==\u001b[39m \u001b[38;5;241m0\u001b[39m:\n",
      "File \u001b[1;32mc:\\Users\\79270\\Documents\\AppliedMath_CS_3\\DL_master_SamUni\\HW3\\scripts_\\solver.py:181\u001b[0m, in \u001b[0;36mSolver._step\u001b[1;34m(self)\u001b[0m\n\u001b[0;32m    178\u001b[0m y_batch \u001b[38;5;241m=\u001b[39m \u001b[38;5;28mself\u001b[39m\u001b[38;5;241m.\u001b[39my_train[batch_mask]\n\u001b[0;32m    180\u001b[0m \u001b[38;5;66;03m# Compute loss and gradient\u001b[39;00m\n\u001b[1;32m--> 181\u001b[0m loss, grads \u001b[38;5;241m=\u001b[39m \u001b[38;5;28;43mself\u001b[39;49m\u001b[38;5;241;43m.\u001b[39;49m\u001b[43mmodel\u001b[49m\u001b[38;5;241;43m.\u001b[39;49m\u001b[43mloss\u001b[49m\u001b[43m(\u001b[49m\u001b[43mX_batch\u001b[49m\u001b[43m,\u001b[49m\u001b[43m \u001b[49m\u001b[43my_batch\u001b[49m\u001b[43m)\u001b[49m\n\u001b[0;32m    182\u001b[0m \u001b[38;5;28mself\u001b[39m\u001b[38;5;241m.\u001b[39mloss_history\u001b[38;5;241m.\u001b[39mappend(loss)\n\u001b[0;32m    184\u001b[0m \u001b[38;5;66;03m# Perform a parameter update\u001b[39;00m\n",
      "File \u001b[1;32mc:\\Users\\79270\\Documents\\AppliedMath_CS_3\\DL_master_SamUni\\HW3\\scripts_\\classifiers\\cnn.py:82\u001b[0m, in \u001b[0;36mThreeLayerConvNet.loss\u001b[1;34m(self, X, y)\u001b[0m\n\u001b[0;32m     76\u001b[0m \u001b[38;5;28;01mdef\u001b[39;00m \u001b[38;5;21mloss\u001b[39m(\u001b[38;5;28mself\u001b[39m, X, y\u001b[38;5;241m=\u001b[39m\u001b[38;5;28;01mNone\u001b[39;00m):\n\u001b[0;32m     77\u001b[0m \u001b[38;5;250m    \u001b[39m\u001b[38;5;124;03m\"\"\"\u001b[39;00m\n\u001b[0;32m     78\u001b[0m \u001b[38;5;124;03m    Evaluate loss and gradient for the three-layer convolutional network.\u001b[39;00m\n\u001b[0;32m     79\u001b[0m \n\u001b[0;32m     80\u001b[0m \u001b[38;5;124;03m    Input / output: Same API as TwoLayerNet in fc_net.py.\u001b[39;00m\n\u001b[0;32m     81\u001b[0m \u001b[38;5;124;03m    \"\"\"\u001b[39;00m\n\u001b[1;32m---> 82\u001b[0m     W1, b1 \u001b[38;5;241m=\u001b[39m \u001b[38;5;28;43mself\u001b[39;49m\u001b[38;5;241;43m.\u001b[39;49m\u001b[43mparams\u001b[49m\u001b[43m[\u001b[49m\u001b[38;5;124;43m\"\u001b[39;49m\u001b[38;5;124;43mW1\u001b[39;49m\u001b[38;5;124;43m\"\u001b[39;49m\u001b[43m]\u001b[49m, \u001b[38;5;28mself\u001b[39m\u001b[38;5;241m.\u001b[39mparams[\u001b[38;5;124m\"\u001b[39m\u001b[38;5;124mb1\u001b[39m\u001b[38;5;124m\"\u001b[39m]\n\u001b[0;32m     83\u001b[0m     W2, b2 \u001b[38;5;241m=\u001b[39m \u001b[38;5;28mself\u001b[39m\u001b[38;5;241m.\u001b[39mparams[\u001b[38;5;124m\"\u001b[39m\u001b[38;5;124mW2\u001b[39m\u001b[38;5;124m\"\u001b[39m], \u001b[38;5;28mself\u001b[39m\u001b[38;5;241m.\u001b[39mparams[\u001b[38;5;124m\"\u001b[39m\u001b[38;5;124mb2\u001b[39m\u001b[38;5;124m\"\u001b[39m]\n\u001b[0;32m     84\u001b[0m     W3, b3 \u001b[38;5;241m=\u001b[39m \u001b[38;5;28mself\u001b[39m\u001b[38;5;241m.\u001b[39mparams[\u001b[38;5;124m\"\u001b[39m\u001b[38;5;124mW3\u001b[39m\u001b[38;5;124m\"\u001b[39m], \u001b[38;5;28mself\u001b[39m\u001b[38;5;241m.\u001b[39mparams[\u001b[38;5;124m\"\u001b[39m\u001b[38;5;124mb3\u001b[39m\u001b[38;5;124m\"\u001b[39m]\n",
      "\u001b[1;31mKeyError\u001b[0m: 'W1'"
     ]
    }
   ],
   "source": [
    "model = ThreeLayerConvNet(weight_scale=0.001, hidden_dim=500, reg=0.001)\n",
    "\n",
    "solver = Solver(model, data,\n",
    "                num_epochs=1, batch_size=50,\n",
    "                update_rule='adam',\n",
    "                optim_config={\n",
    "                  'learning_rate': 1e-3,\n",
    "                },\n",
    "                verbose=True, print_every=20)\n",
    "solver.train()"
   ]
  },
  {
   "cell_type": "code",
   "execution_count": null,
   "metadata": {},
   "outputs": [],
   "source": [
    "# Print final training accuracy\n",
    "print(\n",
    "    \"Full data training accuracy:\",\n",
    "    solver.check_accuracy(small_data['X_train'], small_data['y_train'])\n",
    ")"
   ]
  },
  {
   "cell_type": "code",
   "execution_count": null,
   "metadata": {},
   "outputs": [],
   "source": [
    "# Print final validation accuracy\n",
    "print(\n",
    "    \"Full data validation accuracy:\",\n",
    "    solver.check_accuracy(data['X_val'], data['y_val'])\n",
    ")"
   ]
  },
  {
   "cell_type": "markdown",
   "metadata": {},
   "source": [
    "Визуализируйте фильтры на первом слое обученной сети"
   ]
  },
  {
   "cell_type": "code",
   "execution_count": null,
   "metadata": {},
   "outputs": [],
   "source": [
    "from scripts.vis_utils import visualize_grid\n",
    "\n",
    "grid = visualize_grid(model.params['W1'].transpose(0, 2, 3, 1))\n",
    "plt.imshow(grid.astype('uint8'))\n",
    "plt.axis('off')\n",
    "plt.gcf().set_size_inches(5, 5)\n",
    "plt.show()"
   ]
  },
  {
   "cell_type": "code",
   "execution_count": null,
   "metadata": {},
   "outputs": [],
   "source": []
  }
 ],
 "metadata": {
  "kernelspec": {
   "display_name": "Python 3",
   "language": "python",
   "name": "python3"
  },
  "language_info": {
   "codemirror_mode": {
    "name": "ipython",
    "version": 3
   },
   "file_extension": ".py",
   "mimetype": "text/x-python",
   "name": "python",
   "nbconvert_exporter": "python",
   "pygments_lexer": "ipython3",
   "version": "3.10.8"
  }
 },
 "nbformat": 4,
 "nbformat_minor": 2
}
